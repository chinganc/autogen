{
 "cells": [
  {
   "attachments": {},
   "cell_type": "markdown",
   "id": "ae1f50ec",
   "metadata": {},
   "source": [
    "<a href=\"https://colab.research.google.com/github/microsoft/autogen/blob/main/notebook/agentchat_function_call.ipynb\" target=\"_parent\"><img src=\"https://colab.research.google.com/assets/colab-badge.svg\" alt=\"Open In Colab\"/></a>"
   ]
  },
  {
   "attachments": {},
   "cell_type": "markdown",
   "id": "9a71fa36",
   "metadata": {},
   "source": [
    "# Auto Generated Agent Chat: Task Solving with Provided Tools as Functions\n",
    "\n",
    "AutoGen offers conversable agents powered by LLM, tool, or human, which can be used to perform tasks collectively via automated chat. This framework allows tool use and human participation through multi-agent conversation. Please find documentation about this feature [here](https://microsoft.github.io/autogen/docs/Use-Cases/agent_chat).\n",
    "\n",
    "In this notebook, we demonstrate how to use `AssistantAgent` and `UserProxyAgent` to make function calls with the new feature of OpenAI models (in model version 0613). A specified prompt and function configs must be passed to `AssistantAgent` to initialize the agent. The corresponding functions must be passed to `UserProxyAgent`, which will execute any function calls made by `AssistantAgent`. Besides this requirement of matching descriptions with functions, we recommend checking the system message in the `AssistantAgent` to ensure the instructions align with the function call descriptions.\n",
    "\n",
    "## Requirements\n",
    "\n",
    "AutoGen requires `Python>=3.8`. To run this notebook example, please install `pyautogen`:\n",
    "```bash\n",
    "pip install pyautogen\n",
    "```"
   ]
  },
  {
   "cell_type": "code",
   "execution_count": 1,
   "id": "2b803c17",
   "metadata": {},
   "outputs": [],
   "source": [
    "# %pip install \"pyautogen>=0.2.3\""
   ]
  },
  {
   "attachments": {},
   "cell_type": "markdown",
   "id": "5ebd2397",
   "metadata": {},
   "source": [
    "## Set your API Endpoint\n",
    "\n",
    "The [`config_list_from_json`](https://microsoft.github.io/autogen/docs/reference/oai/openai_utils#config_list_from_json) function loads a list of configurations from an environment variable or a json file."
   ]
  },
  {
   "cell_type": "code",
   "execution_count": 2,
   "id": "dca301a4",
   "metadata": {},
   "outputs": [],
   "source": [
    "from IPython import get_ipython\n",
    "from typing_extensions import Annotated\n",
    "\n",
    "import autogen\n",
    "from autogen.cache import Cache\n",
    "\n",
    "config_list = autogen.config_list_from_json(\n",
    "    \"OAI_CONFIG_LIST\",\n",
    "    filter_dict={\n",
    "        \"model\": [\"gpt-4\", \"gpt-3.5-turbo\", \"gpt-3.5-turbo-16k\"],\n",
    "    },\n",
    ")"
   ]
  },
  {
   "attachments": {},
   "cell_type": "markdown",
   "id": "92fde41f",
   "metadata": {},
   "source": [
    "It first looks for environment variable \"OAI_CONFIG_LIST\" which needs to be a valid json string. If that variable is not found, it then looks for a json file named \"OAI_CONFIG_LIST\". It filters the configs by models (you can filter by other keys as well). Only the models with matching names are kept in the list based on the filter condition.\n",
    "\n",
    "The config list looks like the following:\n",
    "```python\n",
    "config_list = [\n",
    "    {\n",
    "        'model': 'gpt-4',\n",
    "        'api_key': '<your OpenAI API key here>',\n",
    "    },\n",
    "    {\n",
    "        'model': 'gpt-3.5-turbo',\n",
    "        'api_key': '<your Azure OpenAI API key here>',\n",
    "        'base_url': '<your Azure OpenAI API base here>',\n",
    "        'api_type': 'azure',\n",
    "        'api_version': '2023-08-01-preview',\n",
    "    },\n",
    "    {\n",
    "        'model': 'gpt-3.5-turbo-16k',\n",
    "        'api_key': '<your Azure OpenAI API key here>',\n",
    "        'base_url': '<your Azure OpenAI API base here>',\n",
    "        'api_type': 'azure',\n",
    "        'api_version': '2023-08-01-preview',\n",
    "    },\n",
    "]\n",
    "```\n",
    "\n",
    "You can set the value of config_list in any way you prefer. Please refer to this [notebook](https://github.com/microsoft/autogen/blob/main/website/docs/llm_configuration.ipynb) for full code examples of the different methods."
   ]
  },
  {
   "attachments": {},
   "cell_type": "markdown",
   "id": "2b9526e7",
   "metadata": {},
   "source": [
    "## Making Function Calls\n",
    "\n",
    "In this example, we demonstrate function call execution with `AssistantAgent` and `UserProxyAgent`. With the default system prompt of `AssistantAgent`, we allow the LLM assistant to perform tasks with code, and the `UserProxyAgent` would extract code blocks from the LLM response and execute them. With the new \"function_call\" feature, we define functions and specify the description of the function in the OpenAI config for the `AssistantAgent`. Then we register the functions in `UserProxyAgent`.\n"
   ]
  },
  {
   "cell_type": "code",
   "execution_count": 4,
   "id": "9fb85afb",
   "metadata": {},
   "outputs": [],
   "source": [
    "llm_config = {\n",
    "    \"config_list\": config_list,\n",
    "    \"timeout\": 120,\n",
    "}\n",
    "chatbot = autogen.AssistantAgent(\n",
    "    name=\"chatbot\",\n",
    "    system_message=\"For coding tasks, only use the functions you have been provided with. Reply TERMINATE when the task is done.\",\n",
    "    llm_config=llm_config,\n",
    ")\n",
    "\n",
    "# create a UserProxyAgent instance named \"user_proxy\"\n",
    "user_proxy = autogen.UserProxyAgent(\n",
    "    name=\"user_proxy\",\n",
    "    is_termination_msg=lambda x: x.get(\"content\", \"\") and x.get(\"content\", \"\").rstrip().endswith(\"TERMINATE\"),\n",
    "    human_input_mode=\"NEVER\",\n",
    "    max_consecutive_auto_reply=10,\n",
    "    code_execution_config={\n",
    "        \"work_dir\": \"coding\",\n",
    "        \"use_docker\": False,\n",
    "    },  # Please set use_docker=True if docker is available to run the generated code. Using docker is safer than running the generated code directly.\n",
    ")\n",
    "\n",
    "\n",
    "# define functions according to the function description\n",
    "\n",
    "\n",
    "# one way of registering functions is to use the register_for_llm and register_for_execution decorators\n",
    "@user_proxy.register_for_execution()\n",
    "@chatbot.register_for_llm(name=\"python\", description=\"run cell in ipython and return the execution result.\")\n",
    "def exec_python(cell: Annotated[str, \"Valid Python cell to execute.\"]) -> str:\n",
    "    ipython = get_ipython()\n",
    "    result = ipython.run_cell(cell)\n",
    "    log = str(result.result)\n",
    "    if result.error_before_exec is not None:\n",
    "        log += f\"\\n{result.error_before_exec}\"\n",
    "    if result.error_in_exec is not None:\n",
    "        log += f\"\\n{result.error_in_exec}\"\n",
    "    return log\n",
    "\n",
    "\n",
    "# another way of registering functions is to use the register_function\n",
    "def exec_sh(script: Annotated[str, \"Valid Python cell to execute.\"]) -> str:\n",
    "    return user_proxy.execute_code_blocks([(\"sh\", script)])\n",
    "\n",
    "\n",
    "autogen.agentchat.register_function(\n",
    "    exec_python,\n",
    "    caller=chatbot,\n",
    "    executor=user_proxy,\n",
    "    name=\"sh\",\n",
    "    description=\"run a shell script and return the execution result.\",\n",
    ")"
   ]
  },
  {
   "cell_type": "markdown",
   "id": "f6952220",
   "metadata": {},
   "source": [
    "Finally, we initialize the chat that would use the functions defined above:"
   ]
  },
  {
   "cell_type": "code",
   "execution_count": 4,
   "id": "27d3e43a",
   "metadata": {},
   "outputs": [
    {
     "name": "stdout",
     "output_type": "stream",
     "text": [
      "\u001b[33muser_proxy\u001b[0m (to chatbot):\n",
      "\n",
      "Draw two agents chatting with each other with an example dialog. Don't add plt.show().\n",
      "\n",
      "--------------------------------------------------------------------------------\n",
      "\u001b[33mchatbot\u001b[0m (to user_proxy):\n",
      "\n",
      "\u001b[32m***** Suggested tool Call (call_bsaGbd8WGdC869LhG62hI0uK): python *****\u001b[0m\n",
      "Arguments: \n",
      "cell = \"\"\"\n",
      "import matplotlib.pyplot as plt\n",
      "import matplotlib.patches as patches\n",
      "\n",
      "# Creating a simple scene for two agents chatting\n",
      "fig, ax = plt.subplots()\n",
      "\n",
      "# Draw two circles representing the agents\n",
      "ax.add_patch(patches.Circle((2, 2), 0.5, fill=True, color='blue', label='Agent A'))\n",
      "ax.add_patch(patches.Circle((5, 2), 0.5, fill=True, color='green', label='Agent B'))\n",
      "\n",
      "# Example dialogues as text\n",
      "ax.text(1, 3, \"Hello!\", style='italic', bbox={'facecolor': 'red', 'alpha': 0.5, 'pad': 5})\n",
      "ax.text(4, 3, \"Hi there!\", style='italic', bbox={'facecolor': 'yellow', 'alpha': 0.5, 'pad': 5})\n",
      "\n",
      "# Setting the limits of the plot\n",
      "ax.set_xlim(0, 7)\n",
      "ax.set_ylim(0, 4)\n",
      "\n",
      "# Hiding the axes\n",
      "ax.axis('off')\n",
      "\n",
      "# Use this line just before the plt.show() if necessary\n",
      "plt.savefig(\"agents_chatting.png\")\n",
      "\n",
      "# Don't add plt.show() as per the instructions\n",
      "\"\"\"\n",
      "return cell\n",
      "\u001b[32m***********************************************************************\u001b[0m\n",
      "\n",
      "--------------------------------------------------------------------------------\n",
      "\u001b[33muser_proxy\u001b[0m (to chatbot):\n",
      "\n",
      "\u001b[33muser_proxy\u001b[0m (to chatbot):\n",
      "\n",
      "\u001b[32m***** Response from calling tool \"call_bsaGbd8WGdC869LhG62hI0uK\" *****\u001b[0m\n",
      "Error: Expecting value: line 1 column 1 (char 0)\n",
      " You argument should follow json format.\n",
      "\u001b[32m**********************************************************************\u001b[0m\n",
      "\n",
      "--------------------------------------------------------------------------------\n"
     ]
    },
    {
     "name": "stdout",
     "output_type": "stream",
     "text": [
      "\u001b[33mchatbot\u001b[0m (to user_proxy):\n",
      "\n",
      "\u001b[32m***** Suggested tool Call (call_ujcz2CkK0UgEEUen7X1ctXhe): python *****\u001b[0m\n",
      "Arguments: \n",
      "{\n",
<<<<<<< HEAD
      "  \"cell\": \"import matplotlib.pyplot as plt\\nimport matplotlib.patches as patches\\n\\n# Create a figure to draw\\nfig, ax = plt.subplots(figsize=(8, 5))\\n\\n# Set plot limits to avoid text spilling over\\nax.set_xlim(0, 2)\\nax.set_ylim(0, 2)\\n\\n# Hide axes\\nax.axis('off')\\n\\n# Draw two agents\\nhead_radius = 0.1\\n\\n# Agent A\\nax.add_patch(patches.Circle((0.5, 1.5), head_radius, color='blue'))\\n# Agent B\\nax.add_patch(patches.Circle((1.5, 1.5), head_radius, color='green'))\\n\\n# Example dialog\\nbbox_props = dict(boxstyle=\\\"round,pad=0.3\\\", ec=\\\"black\\\", lw=1, fc=\\\"white\\\")\\nax.text(0.5, 1.3, \\\"Hello, how are you?\\\", ha=\\\"center\\\", va=\\\"center\\\", size=8, bbox=bbox_props)\\nax.text(1.5, 1.3, \\\"I'm fine, thanks!\\\", ha=\\\"center\\\", va=\\\"center\\\", size=8, bbox=bbox_props)\\n\"\n",
=======
      "  \"cell\": \"import matplotlib.pyplot as plt\\nimport matplotlib.patches as patches\\n\\n# Creating a simple scene for two agents chatting\\nfig, ax = plt.subplots()\\n\\n# Draw two circles representing the agents\\nax.add_patch(patches.Circle((2, 2), 0.5, fill=True, color='blue', label='Agent A'))\\nax.add_patch(patches.Circle((5, 2), 0.5, fill=True, color='green', label='Agent B'))\\n\\n# Example dialogues as text\\nax.text(1, 3, \\\"Hello!\\\", style='italic', bbox={'facecolor': 'red', 'alpha': 0.5, 'pad': 5})\\nax.text(4, 3, \\\"Hi there!\\\", style='italic', bbox={'facecolor': 'yellow', 'alpha': 0.5, 'pad': 5})\\n\\n# Setting the limits of the plot\\nax.set_xlim(0, 7)\\nax.set_ylim(0, 4)\\n\\n# Hiding the axes\\nax.axis('off')\\n\\n# Use this line just before the plt.show() if necessary\\nplt.savefig(\\\"agents_chatting.png\\\")\\n\\n# Don't add plt.show() as per the instructions\\n\"\n",
>>>>>>> main
      "}\n",
      "\u001b[32m***********************************************************************\u001b[0m\n",
      "\n",
      "--------------------------------------------------------------------------------\n",
      "\u001b[35m\n",
      ">>>>>>>> EXECUTING FUNCTION python...\u001b[0m\n"
     ]
    },
    {
     "data": {
<<<<<<< HEAD
      "text/plain": [
       "Text(1.5, 1.3, \"I'm fine, thanks!\")"
      ]
     },
     "execution_count": 4,
     "metadata": {},
     "output_type": "execute_result"
    },
    {
     "data": {
      "image/png": "iVBORw0KGgoAAAANSUhEUgAAAoAAAAGVCAYAAABuPkCWAAAAOXRFWHRTb2Z0d2FyZQBNYXRwbG90bGliIHZlcnNpb24zLjguMiwgaHR0cHM6Ly9tYXRwbG90bGliLm9yZy8g+/7EAAAACXBIWXMAAA9hAAAPYQGoP6dpAAAeYElEQVR4nO3dfbDWdZ3/8de5QxQRwszwHmNFgXO4U1HSkhtpbH6TZogmK+uyiU6xOVvZaqvrNLujdLOWld1gOSZQuobZjWWIwoRSoImJN+iaQjeYYgqCIjfnXL8/znASuREUuDjn83jMnBk4h+v7/VzcvHme7/W9vt+aSqVSCQAAxait9gIAANi9BCAAQGEEIABAYQQgAEBhBCAAQGEEIABAYQQgAEBhBCAAQGEEIABAYQQgAEBhBCAAQGEEIABAYQQgAEBhBCAAQGEEIABAYQQgAEBhBCAAQGEEIABAYQQgAEBhBCAAQGEEIABAYQQgAEBhBCAAQGEEIABAYQQgAEBhBCAAQGEEIABAYQQgAEBhBCAAQGEEIABAYQQgAEBhBCAAQGEEIABAYQQgAEBhBCAAQGEEIABAYQQgAEBhBCAAQGEEIABAYQQgAEBhBCAAQGEEIABAYQQgAEBhBCAAQGEEIABAYQQgAEBhBCAAQGEEIABAYQQgAEBhBCAAQGEEIABAYQQgAEBhBCAAQGEEIABAYQQgAEBhBCAAQGEEIABAYQQgAEBhBCAAQGEEIABAYQQgAEBhBCAAQGEEIABAYQQgAEBhBCAAQGEEIABAYQQgAEBhBCAAQGEEIABAYQQgAEBhBCAAQGEEIABAYQQgAEBhBCAAQGEEIABAYQQgAEBhBCAAQGEEIABAYQQgAEBhBCAAQGEEIABAYQQgAEBhBCAAQGEEIABAYQQgAEBh6qu9AMpSqSTLlydLlmz6sXJlsm5dsn59669raEg6dUq6dUuOOGLTjwMOSGpqqrN+gDeqVCpZ/uryLFmxZJOPlWtXZl3zuqxvbh1sDXUN6VTXKd326pYjuh+xyccB+xyQGoON3UgAskutXp3ce28ye3Yyc2by+OPJ2rV//3pdXVJbm7S0tH5UKq2fr6lp/fzGrzU3//0xe+2VHHNMMnp0MmJEctJJSZcuu/d5AeVavW517v3jvZn9zOzMfHpmHl/+eNY2/32w1dXUpbamNi2VlrRUWlJJ62CrSU1qa2rbvtZc+ftg26turxxzwDEZfeTojOg1IicddlK6dDLY2HVqKpWN/+XCzvHEE8n06clddyX3398ab/X1yYYNO3c/G7dZV5ccd1xy6qnJuHFJnz47dz8AT7zwRKYvmp67/nBX7l92f5orzamvrc+Glp072DZus66mLscddFxOfc+pGdc4Ln3eabCxcwlAdooNG5Kf/jT5+teTOXNao+z1R+12h437HD48mTQp+dCHWiMR4K3Y0LIhP33ip/n6gq9nzpI5qaup2+So3e6wcZ/DjxieScdPyof6fCj1tQYbb58A5G158cXkG99IvvnN5LnnqhN+b7RxDQcemHz8460x2KNHddcEtB8vrnkx31jwjXzz/m/muVeeq0r4vdHGNRzY5cB8/LiPZ9Lxk9Jjb4ONt04A8pZs2JBMmZJ87nPJqlWt5+ntiWprk65dk6uvTi64wBFBYOs2tGzIlN9Nyefu/lxWrVuVlsqeOdhqa2rTtVPXXD3y6lww5AJHBHlLBCA7bNGi5Lzzkt//vtor2TEDBiRTpyaNjdVeCbCnWfTcopz34/Py++fa12AbcOCATP3w1DQeaLCxY1wHkO1WqSTXXJMMHpw88ki1V7PjHn20de3XXPP3dxsDZatUKrnmN9dk8JTBeeT59jfYHl3+aAZPGZxrfnNNHM9hRzgCyHapVJLPfjb58pervZKd45JLki98wfUEoWSVSiWfveuz+fJvOsZgu2TYJfnCqC+4niDbRQDyppqbk4kTkxtuqPZKdq4JE1rPY6yrq/ZKgN2tuaU5E38+MTcs7FiDbcKgCZny/6akrtZgY9sEINvU3JyMHZv8+Mcd72XTmprkzDOTW24RgVCS5pbmjP3R2Pz48R+3XaS5o6hJTc485szcMuYWEcg2OQeQbfrqV5Pbbut48Ze0PqcZM5Jrr632SoDd6au//Wpue/y2Dhd/SVJJJTMen5Fr5xtsbJsjgGzVE08kTU2t9+jtyDp1Sh5+2B1EoARPvPBEmr7dlHXNHXuwdarrlIcvetgdRNgqRwDZoubmZPz4Pff6fjtTS0vrc632BayBXau5pTnjfzx+j72+387UUmnJ+NvHp7nFYGPLBCBbNHVqsmDBzr9/755ow4bW5zp1arVXAuxKUx+emgXLFuz0+/fuiTa0bMiCvyzI1IcNNrZMALJFP/xhWW+MqK1Nbr652qsAdqUfLvph6mrKGWy1NbW5+RGDjS1zDiCbWbEiOeCAMo7+vV59fbJ8edK9e7VXAuxsK15bkQO+dEARR/9er762PssvWZ7unbtXeynsYRwBZDM//3l58Ze0Puc77qj2KoBd4edP/ry4+EtaXwq+40mDjc0JQDYzd27r0bDSNDS0Pneg45m7dG7qa8sbbA21DZn7R4ONzQlANrNyZRnv/n2j5ubW5w50PCvXrizi3b9v1Fxpzsq1BhubE4BsZt26jnnh5zdTqSRr11Z7FcCusK55XUo85b1SqWTtBoONzQlANtO1a+u7YktTW5vst1+1VwHsCl336pramvIGW21Nbfbby2Bjc+X9a+BNHX54tVdQHTU1yWGHVXsVwK5weLcyB1tNanJYN4ONzQlANnP66WXeFWPDhuSMM6q9CmBXOL3P6WmulDfYNlQ25Iyjz6j2MtgDCUA2M3hwcvDB1V7F7nfIIcmgQdVeBbArDO45OAd3LW+wHbLfIRn0boONzQlANlNTk4wdW9alYOrrW59zTU21VwLsCjU1NRnbb2xRl4Kpr63P2L5jU2OwsQUCkC266KKyYqi2NrnwwmqvAtiVLjr2otSknMFWW1ObC4812NgyAcgWHXVUctVV1V7F7nPVVa3PGei4jtr/qFw1spzBdtWIq3LU/gYbW+ZewGxVc3MybFjy4IMd99Zw9fXJkCHJffcldeXcIx6K1dzSnGHfG5YH//pgh701XH1tfYb0HJL7JtyXulqDjS1zBJCtqqtLbrqpNZI64nUB6+pan9v3vy/+oBR1tXW56cM3pb62vkNeF7Cupi71tfX5/hnfF39sU8f7289O1adPcvfdSZcuHSuS6uqSffZJ7rmn9TkC5ejzzj65e/zd6dLQJXU1HWew1dXUZZ+GfXLP+HvS550GG9vmJWC2y8MPJyNGtN4rt72/HFxfn3Tr1hp/TU3VXg1QLQ8/93BGfH9EVq5d2e5fDq6vqU+3zt1yzz/dk6YDDTbenABkuz31VDJ8ePLss+33QtF1dUnPnsns2Unv3tVeDVBtT734VIZ/f3ieXfVsu71QdF1NXXp27ZnZ/zQ7vXsYbGwfLwGz3Xr3ThYuTM46q/Xn7em8wI1rPeus1ucg/oAk6d2jdxZeuDBn9WsdbLXt6L/FjWs9q99ZWXjhQvHHDnEEkLfkJz9JPvGJZNmyZE//G1RTkxx0UHLdda23uQPYkp8s/kk+8YtPZNmqZalkzx5sNanJQV0PynUfvC6nH22wseMEIG/ZmjXJl7+cTJ7c+uNkz4nBjRex3nvv5NJLk898pvXHANuyZv2afHnelzP5vslZs751sO0pMbjxItZ7N+ydS997aT4z7DPZu8Fg460RgLxtq1cn06cnX/ta8thjrW+yqNYbRTbuu2/f5JOfTMaNS/bdtzprAdqv1etWZ/rD0/O1BV/LY8sfS31tfdXeKLJx330P6JtPHv/JjGsal307GWy8PQKQnaZSSebNa32p9Uc/Stav3z0xuHEfDQ3JmDHJpEnJiSeWdSs7YNeoVCqZ96d5ue7+6/Kjx36U9S3rd0sMbtxHQ21DxvQdk0nHT8qJh5zovr7sNAKQXWLNmtYYvOeeZObM1ruJtLS0vgu3trY1Dt+KhobW7TQ3t25nyJDk1FNbL1EzbJiXeYFdZ836NZn3p3m555l7MvPpmXnw2QfTUmlJXU1damtqs77lrQ22htqGtFRa0lxpTm1NbYb0HJJTjzw1I3qNyLBDh3mZl11CALJbvPxycu+9ySOPJEuXJs8803pZmT/9KXnttW0/tnPn5NBDW9+526tXcvjhSf/+ycknJ1277p71A7zRy2tfzr1/vDePPP9Ilq5YmmdWPJOnXnwqf3r5T3ltw7YHW+f6zjl0v0PTu0fv9OreK4d3Pzz939U/Jx92crruZbCx6wlAqqpSSV54ofUC0+vW/f3IYEND0qlT6wWb3/lOL+cC7UelUskLr76QlWtXZl3zuqxvbh1sDXUN6VTXKd326pZ37vNOL+dSVQIQAKAw7eeKlwAA7BQCEACgMAIQAKAwAhAAoDACEACgMAIQAKAwAhAAoDD11V4AO2bNmjX53e9+l1deeaXaS+Et6NKlS4YMGZK93bMOdkilUsmjjz6aZcuWxeVrd4+ampocdNBB6devn4tWd0ACsJ2oVCq56qqrcvXVV4u/dq5Lly657LLL8rnPfc5Qhe3wu9/9Luecc06eeuqpai+lSL17987NN9+cIUOGVHsp7EQCsJ2YNm1aLr/88vzbv/1bxo8fn/333188tDOVSiV/+9vfctNNN+Xyyy/PYYcdlvPOO6/ay4I92sqVKzNq1Kj8wz/8Q+68884cffTRqaurq/ayitDc3JzFixfniiuuyKhRo7JkyZJ069at2stiJ3EruHbi1FNPTaVSyaxZs6q9FHaCkSNHpra2NnfddVe1lwJ7tOnTp+cf//Efs3Tp0hx22GHVXk6R/vjHP+bwww/PtGnTMm7cuGovh53Em0DaicWLF2fYsGHVXgY7yXvf+94sXry42suAPd7ixYtz6KGHir8qOuyww3LooYeaWR2MAGwnNmzYkE6dOm3yuSOOOCIPPfTQJp875ZRTcvvtt7/p9l7/684///x89atffVvr2979luKxxx7L+9///jQ1NeXoo4/OHXfcscnXO3XqlA0bNlRpddB+bGn2JZvOv/PPPz9z5sx52/u68sorc/TRR2fo0KF54IEHcvbZZ7/tbW7NihUrMnny5E0+tyvm6FuZ71tah5nV8TgHkA6rubm5aucKVSqVTJkyJX369Mlvf/vbfOQjH8lf/vKXqqwF2D5f/OIX8/TTT6dnz55JkltuuWWX7WtjAF566aW7bB+wLY4AdmCrVq3KBRdckOOPPz5NTU2ZOHFi1q1bt83HrF69OhMmTEj//v3Tv3//fP7zn9/u/d177705+eST8573vCcXXXRR2+eff/75nHnmmWlsbEz//v3zne98J0kyc+bMjB49Okny8ssvp6GhIVOmTEmS3HTTTZkwYcJm+/jrX/+a4cOHZ8iQIenXr18mTZqUlpaWJMmNN96Y4cOH5yMf+UgaGxuzYMGC3H///RkxYkSOPfbYDBo0KLfeeutm21y2bFkOPPDAvPrqq22fO/fcc/Otb30rSfKrX/0qgwcPTlNTU97//vfnscceS5LMmTMnAwcObHvMI488kiOOOCJJ0q9fv/Tp0ydJ8uqrr2avvfba7t9HYMd069at7Sjh+eefn4kTJ2bUqFHp1atXJkyYkAULFuSUU07JkUcemU996lNb3MawYcPy2muvZfTo0fnkJz+5yb/vJUuWpHv37rnyyiszZMiQ9O7dO7/4xS/aHrs9c+aNLrrooqxatSoDBw7Mscce2/b5rc3RH/zgBxk6dGgGDRqUAQMG5Gc/+1nb10455ZR85jOf2eLjXm/u3Lnp27dvHnjggSxfvjyjR49OY2Njmpqa8s///M9vumY6FkcA27mzzz57k2vKvf4yCZ/+9Kdz8skn5/rrr0+lUskFF1yQa6+9NpdccslWt/df//VfWbt2bR5++OGsWbMmJ510Uo4++ujteinkD3/4Q2bPnp3169enb9+++c1vfpMTTzwx//qv/5o+ffrktttuy/PPP58hQ4ZkwIABOfnkk3POOedk7dq1mT17do477rjMmjUrEydOzF133ZXTTjtts3107949P/vZz7Lvvvumubk5p59+ev73f/8355xzTpJk/vz5WbhwYfr06ZMVK1Zk+PDh+cUvfpGePXvmhRdeyODBgzNs2LAcfPDBbds86KCDMmrUqEybNi0TJ07Mc889l1mzZmXKlCl5/vnnc+6552bOnDlpbGzM9OnTM2bMmDz66KPb9efz5JNP5vzzz8+3v/3t7fr1wI679tprN/n5okWLMnv27NTW1qZv37556aWXctddd2XdunU58sgj8y//8i/p16/fJo+ZN29eampqMnfu3HTv3n2zl5RXrlyZpqamfP7zn8+dd96Ziy++OB/84AezYsWKTJw48U3nzBt9+9vfzsCBAzc7jWdrc/QDH/hAPvrRj6ampiZLlizJCSeckKVLl7Z9c7m1x210yy235Oqrr84dd9yRXr165Stf+Up69eqVmTNnJklefPHFHf1tp51zBLCdu+WWW/LQQw+1fbz+O8nbb789X/rSlzJw4MAMGjQoc+fOfdPraM2aNSsXXHBBamtr06VLl4wfP36736l69tlnp76+PnvvvXcGDhyYP/zhD23bvPDCC5Mk73rXu3LmmWdm1qxZbb/uvvvuy6xZs3LppZfmwQcfTEtLS+65556MGDFis320tLTk3//93zNgwIAMGjQoDzzwwCYDdNiwYW1H3ubNm5enn346p512WgYOHJhRo0YlSZ544onNtnvxxRfnuuuuS5Jcf/31+ehHP5p999038+fPT2NjYxobG5Mk48aNy7Jly7b75dxx48blyiuvzAc/+MHt+vXA23f66aenc+fO6dSpUxobG/OBD3wgDQ0N6dKlS/r27Zv/+7//2+Ftdu7cOWeeeWaS5MQTT2ybbzsyZ7bH1uboM888k9NOOy39+/fPGWeckRdffDHPPPPMmz4uSaZOnZr/+Z//yezZs9OrV68kyQknnJBf/vKX+fSnP52f/OQn6dKly1taL+2XI4AdWKVSyYwZM3LUUUe95W3syLUGO3fu3Pbjurq6rZ4w/Pptjho1KrNmzcqvf/3rTJ48OY2NjZk2bVre8Y535N3vfvdmj73mmmvy/PPPZ/78+encuXM+9alP5bXXXmv7+r777tv240qlkn79+mXevHlvuvbjjz8+++yzT2bPnp0pU6Zs1+V26uvr09zc3Pbz169jo4ULF+bDH/7wm24L2HneOIu2dzZty1577dU2u+rq6tr+7e/InNkeW1vrOeeck8mTJ2fMmDFJkh49emwyc7b1HJuamjJ37twsWrQo73vf+5K0RuxDDz2UWbNm5bbbbssVV1yRhQsXpq6ubqe8oYY9nyOAHdgZZ5yRL3zhC22D4KWXXnrTI4CjRo3K9773vVQqlbzyyiuZOnVq23l63/jGN3LZZZft8DpGjRqV66+/PkmyfPny3HbbbTn11FPbvvaDH/wg3bt3T5cuXTJq1Kj853/+Z9t30W/00ksv5d3vfnc6d+6cv/71r9s812bYsGF55plnNom5hx56aKvnQV588cUZP358jjnmmLZoPuGEE7Jo0aI88sgjSZKbb745Bx98cA4++OAceeSRWbp0aZYvX56k9bvsN5o2bVq6du36Zr9FQDv1ZnNm5MiRWbBgwWaP22+//bJmzZo3PS97o5deeqnt6N20adPy0ksvbfcaN54zOGHChNx5551JWo8o7rvvvhk7dmy+/vWv58knn8zq1au3e5u0fwKwA/vKV77S9nJAU1NTRo4cmSVLlmzzMVdccUUaGhrS2NiYoUOH5kMf+lDGjh2bpPXSJvvvv/8Or+NrX/taHn/88TQ2Nmb48OH5j//4jwwdOjRJcuyxx2blypUZOXJkktYLXi9durTt52908cUXZ/78+enXr1/OO++8rYZikrzjHe/IHXfckauuuioDBgxI3759c+mll7a9aeSNxowZk9WrV2fSpEltnzvggAMyffr0jB8/Pk1NTfnWt76VW2+9te0emZ/97Gdz/PHH54QTTkiPHj022+bkyZO3eGQQ6Bi2NWeam5vz+9//Pocccshmj+vRo0fbXHn9qTtbc+2112bMmDEZNGhQFi5cuMPXRTzmmGPyq1/9KhdffHFmzJiROXPmZMiQIRk4cGCGDRuWL33pS213+fjYxz6W2bNn79D2aX/cCaSd6NmzZz7xiU/k8ssvr9oaTjrppPzyl7/ssEe0HnjggZx77rlZvHhxamt37fdG//3f/53rrrsuzz777C7dD7R3l112WW699dZ2eR/g+++/P9/5znfy3e9+t9pLedt69+6ds846K1dffXW1l8JO4hzAdqTarX7vvfdWdf+70sc+9rHMnDkz3/3ud3d5/CXV/7OE9qS9/ns57rjjctxxx1V7GTtFe/0zYOsEYDvRrVs3R4t2od39HfqyZcvSvXv33bpPaI+6deuW5cuXZ/369WloaKj2coq0fv36LF++3MzqYJwD2E6MHj06M2bMyJ///OdqL4W36c9//nNmzJjR9uYaYOtGjx6dVatW5cYbb6z2Uop14403ZtWqVWZWB+McwHZi6dKled/73pcXX3wxI0eOzP77779Dl2ih+iqVSv72t7/l7rvvTo8ePfLrX/86hx9+eLWXBXu0SqWSCRMm5MYbb8zQoUNzzDHHVO0Wj6Vpbm7O448/nvnz5+f888/PDTfc4P+dDkQAtiPLli3LDTfckDlz5uSVV16p9nJ4C7p06ZJTTjklEyZMyEEHHVTt5UC70NzcnJtvvjm33357/vKXvzgfbTepqanJwQcfnDPOOCPnnHOO8O5gBCAAQGGcAwgAUBgBCABQGAEIAFAYAQgAUBgBCABQGAEIAFAYAQgAUBgBCABQGAEIAFAYAQgAUBgBCABQGAEIAFAYAQgAUBgBCABQGAEIAFAYAQgAUBgBCABQGAEIAFAYAQgAUBgBCABQGAEIAFAYAQgAUBgBCABQGAEIAFAYAQgAUBgBCABQGAEIAFAYAQgAUBgBCABQGAEIAFAYAQgAUBgBCABQGAEIAFAYAQgAUBgBCABQGAEIAFAYAQgAUBgBCABQGAEIAFAYAQgAUBgBCABQGAEIAFAYAQgAUBgBCABQGAEIAFAYAQgAUBgBCABQGAEIAFAYAQgAUBgBCABQGAEIAFAYAQgAUBgBCABQGAEIAFAYAQgAUBgBCABQGAEIAFAYAQgAUBgBCABQGAEIAFAYAQgAUBgBCABQGAEIAFAYAQgAUBgBCABQGAEIAFAYAQgAUBgBCABQGAEIAFAYAQgAUBgBCABQGAEIAFAYAQgAUBgBCABQGAEIAFAYAQgAUBgBCABQGAEIAFAYAQgAUBgBCABQGAEIAFAYAQgAUBgBCABQGAEIAFAYAQgAUBgBCABQGAEIAFAYAQgAUBgBCABQGAEIAFAYAQgAUBgBCABQGAEIAFAYAQgAUBgBCABQGAEIAFAYAQgAUBgBCABQGAEIAFAYAQgAUBgBCABQGAEIAFAYAQgAUBgBCABQGAEIAFAYAQgAUBgBCABQGAEIAFAYAQgAUBgBCABQGAEIAFAYAQgAUBgBCABQGAEIAFAYAQgAUBgBCABQGAEIAFAYAQgAUBgBCABQGAEIAFAYAQgAUBgBCABQGAEIAFAYAQgAUBgBCABQGAEIAFAYAQgAUBgBCABQGAEIAFAYAQgAUBgBCABQGAEIAFAYAQgAUBgBCABQGAEIAFAYAQgAUBgBCABQGAEIAFAYAQgAUBgBCABQGAEIAFAYAQgAUBgBCABQGAEIAFAYAQgAUBgBCABQGAEIAFAYAQgAUBgBCABQGAEIAFAYAQgAUBgBCABQGAEIAFAYAQgAUBgBCABQGAEIAFAYAQgAUBgBCABQGAEIAFAYAQgAUBgBCABQGAEIAFAYAQgAUBgBCABQGAEIAFAYAQgAUBgBCABQGAEIAFAYAQgAUBgBCABQGAEIAFAYAQgAUBgBCABQGAEIAFAYAQgAUBgBCABQGAEIAFAYAQgAUBgBCABQGAEIAFAYAQgAUBgBCABQGAEIAFAYAQgAUBgBCABQGAEIAFAYAQgAUBgBCABQGAEIAFAYAQgAUBgBCABQGAEIAFAYAQgAUBgBCABQGAEIAFAYAQgAUBgBCABQGAEIAFAYAQgAUBgBCABQGAEIAFAYAQgAUBgBCABQGAEIAFAYAQgAUBgBCABQGAEIAFAYAQgAUBgBCABQGAEIAFAYAQgAUBgBCABQGAEIAFAYAQgAUBgBCABQGAEIAFAYAQgAUBgBCABQGAEIAFAYAQgAUBgBCABQGAEIAFAYAQgAUBgBCABQGAEIAFAYAQgAUBgBCABQGAEIAFAYAQgAUBgBCABQGAEIAFAYAQgAUBgBCABQGAEIAFAYAQgAUBgBCABQGAEIAFAYAQgAUBgBCABQGAEIAFAYAQgAUBgBCABQGAEIAFAYAQgAUBgBCABQGAEIAFAYAQgAUBgBCABQGAEIAFAYAQgAUJj/DyUINMAbF8wxAAAAAElFTkSuQmCC",
=======
      "image/png": "iVBORw0KGgoAAAANSUhEUgAAAgMAAAGFCAYAAABg2vAPAAAAOXRFWHRTb2Z0d2FyZQBNYXRwbG90bGliIHZlcnNpb24zLjguMiwgaHR0cHM6Ly9tYXRwbG90bGliLm9yZy8g+/7EAAAACXBIWXMAAA9hAAAPYQGoP6dpAAAhyklEQVR4nO3de3hU9b3v8c/MmoQQCIGQCBG530EhCt4qiuKFugW1sKlVqy2ictm4z1Gstlu3ioKeXWt7tDyogFZPLbUqqDVURcD7FYhBLpIgoKJJIIEQkNzmss4fI4FIiAQm+c2s3/v1PDyPJGHmm5g18561fmuNz3VdVwAAwFp+0wMAAACziAEAACxHDAAAYDliAAAAyxEDAABYjhgAAMByxAAAAJYjBgAAsBwxAACA5YgBAAAsRwwAAGA5YgAAAMsRAwAAWI4YAADAcsQAAACWIwYAALAcMQAAgOWIAQAALEcMAABgOWIAAADLEQMAAFiOGAAAwHLEAAAAliMGAACwHDEAAIDliAEAACxHDAAAYDliAAAAyxEDAABYjhgAAMByxAAAAJYjBgAAsBwxAACA5YgBAAAsRwwAAGA5YgAAAMsRAwAAWI4YAADAcsQAAACWIwYAALAcMQAAgOWIAQAALEcMAABgOWIAAADLEQMAAFiOGAAAwHLEAAAAliMGAACwHDEAAIDliAEAACxHDAAAYDliAAAAyxEDAABYjhgAAMByxAAAAJYjBgAAsBwxAACA5YgBAAAsRwwAAGA5YgAAAMsRAwAAWI4YAADAcsQAAACWIwYAALAcMQAAgOWIAQAALEcMAABgOWIAAADLEQMAAFiOGAAAwHLEAAAAliMGAACwHDEAAIDliAEAACxHDAAAYDliAAAAyxEDAABYjhgAAMByxAAAAJYjBgAAsBwxAACA5YgBAAAsFzA9QKKoqKhQZWWl6TGaRWpqqtLT002PAYt4eXtqDmyjaG7EwBGoqKjQnPvuU7CszPQozSIpM1PT//u/ebBBi6ioqNCcOfcpGPTm9tQckpIyNX062yiaDzFwBCorKxUsK9O41q2VlZpqepyYKq2s1OKyMlVWVvJAgxZRWVmpYLBM48a1VlaWt7an5lBaWqnFi9lG0byIgSbISk1Vdlqa6TFir6rK9ASwUFZWqrKzPbg9NQu2UTQvFhACAGA5YgAAAMsRAwAAWI4YAADAcsRAHPr3557T/37ttbq/D583T//3o48MTgTErw8/3KZWrWZp377aJv27OXM+UU7OY800FZBYiIEYGvnUU7ru5ZcP+fjclSvV9v77FXHdI7qd/JIS5XTuLEkKRSJaX1pa9/cj1ekPf9Dv33+/Sf8GiCcjRz6l665rYHuau1Jt296vSCS6PeXkdNa3396iNm2SD3tbGRn/o3/+s6Dex/LzSzRkSKfYDt0Ec+euVFraA3XfB2ASMRAjruvq0+JiDcvOPuRzq4qKlNO5s/w+34/ezt6aGm0pL6978t9YVqbqUEhDOx35g9a2igrt2LdPw48//si/ASCOuK6rTz8t1rBhDWxPq4qUk9NZfn90e2rdOkmZmYe/XsGmTTtVXl6t4cPrbw/5+SUaOjS2MRAMho/4a1evLtLJJx/4PgCTiIEY2bRrl/bW1mpYA0/Aq4qK6iIhFInoDx98oN6PPKLWs2dr2Lx5everr+q+ds327Qr4/RqUlSUpupegW3q6OrRuXfc1C/LydOLcuWo9e7ZOevRRLSksrHd/q4uLJUmnNBAmQCLYtGmX9u6t1bBhDWxPq4rqRcK55z6le+55q8HbefLJT9Wv3xxJUpcuf5TPN1OPPbZKoVBE69eXKj09RePHP6e0tAfUrduf9Mor9fcerF+/Q2PGLFTbtvfruOMe1PTp/1JNTajefd9yy+uaNm2JMjL+R+PHPydJ2rmzUtOmLdFxxz2otLQHNGbMQm3bVlHvtlevbjh2ABOIgRhZXVQkx+c75BV8VTCoDaWlOiU7W67ravxzz2nJpk166rLLtH7aNF3cp48u/8c/tKemRlL0yX9gVpaSHafu7wcfIrhj+XLd/dZbmj1qlDZMm6arTzpJ4597Tl/s2lVvlt4dOqh9SkoLfOdA7K1eXSTH8R3yyr2qKqgNG0p1yikHnkQ/+2y7cnIaPox2xRWDdcstZ2jkyO4qLp6h4uIZmjgxRxs3lqm6OqS5c1dq4sQcrVkzRSNH9tB//ueBtToffLBNZ531pC68sJfy86do0aKf6/XXN+vBBz+od99PP71Gffpk6JNPbtDDD/9UZWWVOvXU+XJdV8uXX6uPPpokSZo48cAhj+rqkNavL20wdgATuAJhjOQVFyvsukq9//4GP39Kdrb+vm6dPi8t1dqpU9UqEP3Rzxo1Sg9//LHyS0p0Tvfuhzz555eU6KyuXSVJn23frv/z/vv6cNIkndaliyTptyNG6M+ffKI3Nm9Wn4wMSdG9C/s/DySivLxihcOuUlMPsz19HwNffbVb5eXVh93d36ZNsjZvLtfw4cerc+e2dR/Pzy9RIODXs8/+u/r16yhJ+vnPB+nFFz+XJIXDEU2a9E/96U+jNXHiyZKkPn0yNGXKMC1Zskl33nlO3X0/+OCFuuWWM+tu+8YbX9HZZ3fXo4+OqfvYzJnn6swzn1A4HJHj+LVhQ6lCoYhOO43tFPGBGIiRvJIS/WzAAN01cmS9jz+7bp0e+fhjDcrK0v967TVt3b1bHX//+3pfsy8YVMAf3UmTX1Kiq046qe5za7Zv17RTT5UkLVy7Vqcef/whT/TJjqOa8IFjlZt27dKMM88UkKjy8kr0s58N0F13/WB7enadHnnkYw0aFD2MtmbNdqWnt1LPnh0Oe1ufflqi8eMH1vtYfn6Jzj67W10ISNLWrbvVp080qN9/f5s2bizT9Omv6qabXq37mmAwopEju9fdd3Kyo8mTh9V9vro6pL/9ba3C4YgWLdpQ9/FIxJXP56tbH7Bp00516ZJW7/4Bk4iBGMkrLtbMc889ZNX/3JUrNaRTJzl+v/JLSvTYJZdoZI8eh/z77unph5w58M2ePSqrrKz7+/rSUp143HH1/t3emhptq6jQSQd9/PQuXTS6d+8Yf4dAy8nLK9bMmecesvt/7tyVGjKkkxzn+3j+kTMCysur9PXXFRo6tP7t5OeX6IwzTjjkY/vvb//tLlr080NuMy0tue5rhg3LVlpaq7rPFRbuVGVlUGvXTlVKSv2H10DAL9/3i4jbtEnWjBkEO+IHMRADW8rLtbu6usEFe3nFxTr9+1fySY4jV6rbnf9D63bsUHUoVPfkn19SonatWqln+/aSpLTkZFWFQvX+zSMff6zstLR6gfHU5Zcf8/cEmLJlS7l2766uty5gv7y8Yp1++oE9Y2vWHH69gCStXbtDycmOBg7MrPfxNWu213tFL0X3IPzqV0MlSUlJfu3aVaXevTvUPYH/0Jo123XyyfXvOykpGikpKYG6vQwNGTOm32E/B5jAAsIYWF1UJL/Pd8hegWA4rHU7dtRFwr/17auZb7+tJYWF+nL3bn38zTea/c47+vibbyRFn/xPaNdOGd+fOZBfUqIhnTrVPRhd3KeP/llQoNzCQm0tL9fDH32k+997T09cemndYYaHP/pIF/31ry31rQMxt3p1kfx+3yFP8sFgWOvW7agXCT92emAk4sp1XeXnl6ik5DvV1ob1zTd7VFZWqZNPPnA7wWBYGzaU1t3n+ef3UmnpPk2f/i99/nmpCgrK9PLLG3XXXW/Wu++Db0OS+vbtqD59MnT99f/UJ598qy1byvXmm1t1003/UlVVUJJUWxvW4MFzD7nuAWASewZiIK+4WH0zMtQ2uf5FTzaUlqomHK6LgYd/+lP9dtkyTc7NVVllpTq3bauRPXpoyvDhkg49cyC/pEQ5B52d8MshQ7SlvFxTcnNVXl2t4ccfr9euvlpnd+9e9zVvfvmlUgL8b0XiyssrVt++GWrb9gfb04ZS1dSE62Jg794abd1a3uiegREjumn8+EE677yntW9fUOvWTdXWrbuVlpas3r0PrDNYv75UtbXhutvq16+jXnrpF7rrrjd16qnzlZzsaMCATN1002mN3ncg4Fdu7pW69dY3dPHFf1N1dUg9e7bX5ZcPUOvWSXXfx4YNpTrhhHbH/sMCYsTnukd4WTyLFRcX6/Hf/U6TO3ZUdpq33n+9eO9ePb5zpyY/8ICyuS4BWkBxcbEef/x3mjy5o7KzvbU9NYfi4r16/PGdmjyZbRTNh8MEAABYjhgAAMByxAAAAJYjBgAAsBwxAACA5YgBAAAsRwwAAGA5YgAAAMtxqbomKK2sND1CzHnxe0JiKC3ld+9I8HNCSyAGjkBqaqqSMjO1uKxMqqoyPU7MJWVmKjU11fQYsERqaqqSkjK1eHGZJO9tT80hKYltFM2LyxEfoYqKClV69FV0amqq0tPTTY8Bi3h5e2oObKNobsQAAACWYwEhAACWIwYAALAcMQAAgOWIAQAALEcMAABgOWIAAADLEQMAAFiOGAAAwHLEAAAAliMGAACwHDEAAIDliAEAACxHDAAAYDliAAAAyxEDAABYjhgAAMByxAAAAJYjBgAAsBwxAACA5YgBAAAsRwwAAGA5YgAAAMsRAwAAWI4YAADAcsQAAACWIwYAALAcMQAAgOWIAQAALEcMAABgOWIAAADLEQMAAFiOGAAAwHIB0wMg8dXWSvn50ubN0tat0T/l5VIwKDmOlJIide0q9eol9ewpDR0qdepkemogfm3/brvWbF+jreVbtaV8i7bt2abqULXCblhJ/iR1SOmgnh16qmf7nuqd0Vs5nXOU7CSbHhsJjBjAUSkslF5+WXrjDendd6Xq6ujHA9//RoXDkutG/9txJL9fCoUOfKx/f2n0aOmii6J/kpJa/nsA4kUwHNTSzUu1dPNSvbb5NRXuLJQk+eRTwB9QxI0o7IbrPub4HUlSKBKSJKUEUnROt3N0Qa8LdNmAy9SvYz8z3wgSls919z88A42rrpYWLZIee0x6773oE7wkRSJHd3uBQDQQMjOlG26Qrr8+uvcAsMWW8i1akLdA8/Pmq6yyTEn+JAUjwaO6Lb8vukFG3IhGdBuhqcOnatzAcUoJpMRyZHgUMYAfVVsrzZsn3X23tGtX9JV+OBzb+9h/m1dcId1/P1EAb9u8a7PuWHGH/rH+H3J8Tt2r/ljZf5sZrTM089yZunHYjRxGQKOIARyW60rPPy/ddpv01Vctc5/7DzNMnSrddVd0rwHgFWWVZbr37Xv16KpHJVcKuaEWud/u6d31+wt/rwmDJsjn87XIfSKxEANo0I4d0qRJUm5u9HDA0R4KOFqOI6WnS08/LY0Z07L3DTSHVwpe0a9f/rUqqitivifgx/jlV0QRje03VgsuXaDj2hzXoveP+EcM4BCvvCL96lfSnj2xPxzQFPsj5IYbpD/+UWrb1twswNH6rvY73fz6zVqQt6DuSdkUx+coPSVdT132lMb2H2tsDsQfYgB1XFe65x7p3nvN7A04HL8/evbB0qXSCSeYngY4ctsqtmn0M6NVsLNAETc+Nqj9QXL3yLt198i7OWwAScQAvldbG13N/9e/mp6kYYGAlJEhvf66lJNjehrgx+WX5Gv0M6O1q2pX3SmA8ebaoddq/tj5LC4EMQBp3z7pkkui1wuIl70BDXEcKTk5uo5h1CjT0wCHt2LrCo1ZOEa14doWXx/QFH6fX+d0P0e5V+aqTXIb0+PAIGLAcjU10QV6b75pdn3AkfL7o0Hw5pvSGWeYngY41IfbPtSo/zdKteHauDk00BjH5+i8Hucp96pctQq0Mj0ODOG9CSwWCklXXimtWJEYISBF91wEg9GrFq5da3oaoL7Ptn+m0c+MTpgQkKSwG9aKL1foqsVXKRxJkAcCxBwxYCnXlaZNk156Kb4PDTQkHJYqK6Xzzmu56x8AP+ar3V9p1NOjVBmsTJgQ2C/iRvTi5y9q6pKpYmexnYgBSz3+uDR//oH3Ckg04bBUUSFdeqlUVWV6GtiuKlilsX8fq4qalr+GQKy4cjU/b77mrZ5nehQYQAxYaOVK6aabTE9x7EIhad06b3wvSGzTX52u9aXr4/asgaaY/up0rSpaZXoMtDAWEFpmzx7pxBOloqLEWSdwJBYujK5/AFrawrULdfXiq02PETOOz1GXdl20dupatWvVzvQ4aCHsGbDMb3/rvRDw+aLvZVBaanoS2GbHvh2aumSqfPLOhXvCbljf7vlWv1v+O9OjoAURAxb58MPo2w97KQSk6LqH776Tbr7Z9CSwzc2v3ax9tfvkyls7WMNuWI+ufFQfbvvQ9ChoIRwmsEQwKA0ZIm3a5L0YONjSpdKFF5qeAjZ4Y/MbuuiZi0yP0Wwcn6N+HftpzZQ1SnKSTI+DZsaeAUv8+c9SQYG3Q8Dvl268MbqwEGhOwXBQN+beKL/Puw+hYTesjWUbNeeTOaZHQQvw7m8y6lRWSrNnJ+5phEcqEpG+/DK6mBBoTgvXLtSXu79MuOsJNJUrV7Pfna3KYKXpUdDMiAELzJsnlZebnqJl+HzRd1708h4QmBWKhDTz7ZmeWjTYmF1VuzR/9XzTY6CZEQMeV1Vlx16B/VxX2rpVevZZ05PAq55d96y27t7quUWDh7N/70B1qNr0KGhGxIDHLVgg7dxpeoqW5fezdwDNIxwJ65637pHfsofOssoyLchbYHoMNCO7fqMtU10tzZplz16B/SIR6YsvpBdeMD0JvOb5Dc9rc/lmReTttQINmfXOLNWEakyPgWZCDHjYiy9KO3aYnsIMv1966CHTU8Br/vjhHz19BsHhuHK1fd92Lf58selR0Ezs+622yKJFkuOYnsKMSCT6HgzFxaYngVcU7S3SyqKVnj+D4HAC/gAx4GHEgEdVVUlLlth93Nzni75FMxALL218yZozCBoSioSUuylXVUHeJtSLiAGPeuON6JoBm/l80b0jQCy8sOEF+Xz2xoAkVYeqtWzLMtNjoBkQAx714otSIGB6CrMiEemtt+y5xgKaz66qXXr7q7etPUSwX8Af0IsbXzQ9BpoBMeBBoZC0eDGX5ZWih0lyc01PgUSXW5hrfQhI0UMFiz9frFCEBxevIQY86J13pD17TE8RHxwnGkbAsVj0+SI5PktX4/5ARU2F3v3qXdNjIMaIAQ/iEMEB4bD06qvR92cAjsa+2n167YvXFHYtXo17EA4VeBMx4EEcIqivpkZaxponHKXlW5erNlxreoy4sf9QAbyFGPCYigqpqMj0FPElEJA++8z0FEhUa0rWKOBnV9vBvt37rfbUcCzSS4gBjykoMD1B/HFdfi44egU7C+Tadk3vI1BQxkblJcSAx/Ckd6hwWFq3zvQUSFTrdqxjvUADCnbyYOMlxIDHbNwoJSWZniL+FBba94ZNOHau66pwZ6HpMeJOkj9JG8s2mh4DMUQMeExBgd2XID6cykqppMT0FEg0xd8VqyrE5Xd/KOyGOUzgMcSAx6xbF73yHg7FIRQ0FU94DYu4Ea0r5diblxADHhIOS1u2mJ4iPvl8xACarmBngdVvTtSYLeVbuCqjhxADHvL111IwaHqK+BQIEANouoKyAk4rPIzacK2+rvja9BiIEWLAQ774wvQE8SsUii4iBJpi065NCkYo7MPZtHOT6REQI8SAh3z3nekJ4pfrSnv3mp4CiYYL6zRuX3Cf6REQI8SAh9TUmJ4gvvHzQVNVh6pNjxDXakJsVF5BDHhILZdPb1Q1j+toopowT3aN4T0bvIMY8BBe+TaOnw+aile+jSOWvIMY8BCuL9A4LsaEpuLUucaFI2xUXkEMeEhysukJ4ltKiukJkGhaOa1MjxDXWgX4+XgFMeAhrdguG0UsoamSA/zSNIZY8g5iwEN4smscewbQVCkBfmkak+zwoOMVxICHsGegccQAmooYaByHCbyDGPCQE04wPUH8CgSkbt1MT4FE0y29G5cjbsQJ7XjQ8QpiwEP69TM9QfxyXal/f9NTINH079hfruuaHiNu9c3oa3oExAgx4CFt2kidOpmeIj6Fw8QAmq5/x/4Ku5w+15DObTurTXIb02MgRogBjxk82PQE8WvAANMTINEMyOSX5nAGZ/Fg4yXEgMcMHCglJZmeIv74/VKvXqanQKLpndFbfh8Pkz+U5E/SwMyBpsdADPFb7jH9+3OlvYZ068apl2i6ZCdZXdt1NT1G3AlFQuqfyXE3LyEGPKZ/fy5L/EM+H4dPcPQGHzdYPvlMjxFXXLnq35EY8BJiwGNYJHeoQID1Ajh6AzoO4PTCBrBnwFuIAY/p2pWL6/xQMEgM4OgNyBygYCRoeoy4khJI4RoDHkMMeIzfL40aJTmO6Uniy/nnm54Aier8XvzyHMzxOTq/5/ksrPQY/m960PjxLCI82IknSj17mp4CiapXh16cRneQsBvW+IHjTY+BGCMGPGjs2OiiOUT3kEyYYHoKJLoJgybI8bG7TZJ88mls/7Gmx0CMEQMelJUlnXVW9JCB7cJhadw401Mg0Y0bOI4rEUry+/wa0W2EMlMzTY+CGOPpwqN4NRzVowenFeLYnXjcieqe3t30GMa5rqsJg3hw8SJiwKMuv5zrDQQC0SjikAmOlc/n04RBE6w/xdCVq8sHXG56DDQDYsCjunWThg61+4kwFOIQAWJn3MBxCkVCpscwKqdzjrqmc0VGLyIGPMz2V8VZWdJpp5meAl5x+gmnKys1y/QYxjg+h0MEHkYMeNhVV5mewBzHkSZOZBElYsfv8+vXOb+29qwCV66uPPFK02OgmfBQ6WE9e0q//GX02LltAgHplltMTwGvmXHmDCvXDQT8AV0z5Br17MAFO7yKGPC4O++07wJEjiP9x39InTqZngRe06ltJ007dZp1ewfCkbDuPOdO02OgGREDHte3b/RwgU17BxxHuvVW01PAq37zk99YdSnegC+gq4dcrT4ZfUyPgmZkz2+0xWzaO+A40pQpUna26UngVdlp2ZoyfIo1ewfCblh3ns1eAa8jBiwwYIB0xRV27B3w+6Xbbzc9Bbzu9rNul8+CU3UC/oB+ceIveLtiCxADlpg92/vvZOj3S7fdJh1/vOlJ4HVd2nXRbT+5zfOHCxyfo1mjZpkeAy3A27/JqNOrlzRzpnevO+D3Ry+0dMcdpieBLe485051bdfVs0Hgk0/3nnevenXoZXoUtACf67qu6SHQMoJBKSdHKijw5hqCZcuk83nrebSgZVuW6cK/Xmh6jJhzfI76Z/ZX/uR8JTlJpsdBC/Bm0qJBSUnSk09KXss/x5GuvZYQQMu7oNcFumbINZ5bTOjK1V8u+wshYBFiwDKnny7dd5/pKWLHcaSuXaU5c0xPAlvN+bc56pre1VNBMOu8WTqtC9fytgmHCSwUiUgXXywtX574hwtatZI++ih6+AMwJb8kX6cvOF214VrToxwTx+fogl4X6F9X/8uzayHQMP5vW8jvl/7+9+iq+0Q/w2DBAkIA5uV0ztETlz5heoxj4vgcdWnXRQvHLyQELMT/cUtlZEQX3KWnJ24QzJoVfe8FIB78csgvdd95iXkMzvE5Sk9J1xvXvKGM1hmmx4EBxIDF+vWLHipo3Trx3t1vxgzpv/7L9BRAfXecfYduOSOx3iHL7/OrdVJrrbh2hfp17Gd6HBjCmgHo/felCy6InnqYCGsIJk2S5s/37jUTkNhc19X1r1yvJz990vQoP8rxOUpykrTsmmU6q9tZpseBQQn2ehDN4ayzpHfekdq3j/9LFt9+uzRvHiGA+OXz+TR/7Hzd9pPbTI/SqIA/oPYp7fXuxHcJAbBnAAd8+aV00UXSli3xtYfA54v+mTtXmjzZ9DTAkXts1WOatmSapOi5+/HC8Tnq1aGXll6zVD3a9zA9DuIAMYB6ysula66RliwxPUmU40QXOS5cKI0ebXoaoOle/+J1XbX4KlVUVyjsxkdlX9L3Ej0z7hm1T2lvehTECWIAh3Bd6YknpJtukkKh6B9Txo6NzpKVZW4G4Fjt2LdDk16epNxNucZmCPgDCvgDmnPxHF138nVWvOsijhwxgMPavFm6/nrprbeir9Bb6tCB3y+1ayc99JA0cSLrA+ANruvqL/l/0YylM7SnZo8ibqRF7tfxOQq7YZ3b41wtGLtAvTN6t8j9IrEQA2iU60pLl0ZP5Vu/vnmjwHGi75/wm99It94aDQLAa/bU7NEfPviDHvzgQQXDwWY7dLA/AgZnDdZDFz2ki3pfxN4AHBYxgCMSiUjPPx99D4D33otdFOy/ncxM6YYboocmsrOP/XaBeFe8t1iPfPyI5ufN186qnXVP3sdq/+2M6DZC00+drgmDJ3BFQfwoYgBNVlAQvQzwCy9Ez0CQoqckHsnaAr8/uts/HI5e7Oj886XrrpPGjInuFQBsEwwHlVuYqyfzn9TyLctVFaqS43Pkyj2iQwkBf0ChSHTj69G+hyYMmqDrT7meCwihSYgBHJNt26QVK6J7CwoLo+sMioujexIOlpYm9ewZverh0KHRCBg+nAAADhYMB7WqaJWWb12uNSVrVLirUFvLt2pv7d56X+f3+ZXdNlu9M3qrX0Y/jeg2QqN6jlLX9K6GJkeiIwYQc8Gg9N13Um1tdI9BSorUpo3pqYDEta92n6pD1QpFQkp2ktU2ua2SHEoasUMMAABgOVaVAABgOWIAAADLEQMAAFiOGAAAwHLEAAAAliMGAACwHDEAAIDliAEAACxHDAAAYDliAAAAyxEDAABYjhgAAMByxAAAAJYjBgAAsBwxAACA5YgBAAAsRwwAAGA5YgAAAMsRAwAAWI4YAADAcsQAAACWIwYAALAcMQAAgOWIAQAALEcMAABgOWIAAADLEQMAAFiOGAAAwHLEAAAAliMGAACwHDEAAIDliAEAACxHDAAAYDliAAAAyxEDAABYjhgAAMByxAAAAJYjBgAAsBwxAACA5YgBAAAsRwwAAGA5YgAAAMsRAwAAWI4YAADAcsQAAACWIwYAALAcMQAAgOWIAQAALEcMAABgOWIAAADLEQMAAFiOGAAAwHLEAAAAliMGAACwHDEAAIDliAEAACxHDAAAYDliAAAAyxEDAABYjhgAAMByxAAAAJYjBgAAsBwxAACA5YgBAAAsRwwAAGA5YgAAAMsRAwAAWI4YAADAcsQAAACWIwYAALAcMQAAgOWIAQAALEcMAABgOWIAAADLEQMAAFiOGAAAwHLEAAAAliMGAACwHDEAAIDliAEAACxHDAAAYDliAAAAyxEDAABYjhgAAMByxAAAAJYjBgAAsBwxAACA5YgBAAAsRwwAAGA5YgAAAMsRAwAAWI4YAADAcsQAAACWIwYAALAcMQAAgOWIAQAALEcMAABgOWIAAADLEQMAAFiOGAAAwHLEAAAAliMGAACwHDEAAIDliAEAACxHDAAAYDliAAAAyxEDAABYjhgAAMByxAAAAJYjBgAAsBwxAACA5YgBAAAsRwwAAGA5YgAAAMsRAwAAWI4YAADAcsQAAACWIwYAALAcMQAAgOWIAQAALEcMAABgOWIAAADLEQMAAFiOGAAAwHLEAAAAliMGAACwHDEAAIDliAEAACxHDAAAYDliAAAAyxEDAABYjhgAAMByxAAAAJYjBgAAsBwxAACA5YgBAAAsRwwAAGA5YgAAAMsRAwAAWI4YAADAcsQAAACWIwYAALAcMQAAgOWIAQAALEcMAABgOWIAAADL/X+ddod+TKnv1QAAAABJRU5ErkJggg==",
>>>>>>> main
      "text/plain": [
       "<Figure size 800x500 with 1 Axes>"
      ]
     },
     "metadata": {},
     "output_type": "display_data"
    },
    {
     "name": "stdout",
     "output_type": "stream",
     "text": [
      "\u001b[33muser_proxy\u001b[0m (to chatbot):\n",
      "\n",
<<<<<<< HEAD
      "\u001b[32m***** Response from calling function \"python\" *****\u001b[0m\n",
      "Text(1.5, 1.3, \"I'm fine, thanks!\")\n",
      "\u001b[32m***************************************************\u001b[0m\n",
=======
      "\u001b[33muser_proxy\u001b[0m (to chatbot):\n",
      "\n",
      "\u001b[32m***** Response from calling tool \"call_ujcz2CkK0UgEEUen7X1ctXhe\" *****\u001b[0m\n",
      "None\n",
      "\u001b[32m**********************************************************************\u001b[0m\n",
      "\n",
      "--------------------------------------------------------------------------------\n",
      "\u001b[33mchatbot\u001b[0m (to user_proxy):\n",
      "\n",
      "TERMINATE\n",
>>>>>>> main
      "\n",
      "--------------------------------------------------------------------------------\n",
      "\u001b[33mchatbot\u001b[0m (to user_proxy):\n",
      "\n",
      "The drawing of two agents with example dialog has been executed, but as instructed, `plt.show()` has not been added, so the image will not be displayed here. However, the script created a matplotlib figure with two agents represented by circles, one blue and one green, along with example dialog text in speech bubbles.\n",
      "\n",
      "--------------------------------------------------------------------------------\n",
      "\u001b[33muser_proxy\u001b[0m (to chatbot):\n",
      "\n",
      "\n",
      "\n",
      "--------------------------------------------------------------------------------\n",
      "\u001b[33mchatbot\u001b[0m (to user_proxy):\n",
      "\n",
      "TERMINATE\n",
      "\n",
      "--------------------------------------------------------------------------------\n"
     ]
    }
   ],
   "source": [
<<<<<<< HEAD
    "llm_config = {\n",
    "    \"config_list\": config_list,\n",
    "    \"timeout\": 120,\n",
    "}\n",
    "chatbot = autogen.AssistantAgent(\n",
    "    name=\"chatbot\",\n",
    "    system_message=\"For coding tasks, only use the functions you have been provided with. Reply TERMINATE when the task is done.\",\n",
    "    llm_config=llm_config,\n",
    ")\n",
    "\n",
    "# create a UserProxyAgent instance named \"user_proxy\"\n",
    "user_proxy = autogen.UserProxyAgent(\n",
    "    name=\"user_proxy\",\n",
    "    is_termination_msg=lambda x: x.get(\"content\", \"\") and x.get(\"content\", \"\").rstrip().endswith(\"TERMINATE\"),\n",
    "    human_input_mode=\"NEVER\",\n",
    "    max_consecutive_auto_reply=10,\n",
    "    code_execution_config={\n",
    "        \"work_dir\": \"coding\",\n",
    "        \"use_docker\": False,\n",
    "    },  # Please set use_docker=True if docker is available to run the generated code. Using docker is safer than running the generated code directly.\n",
    ")\n",
    "\n",
    "\n",
    "# define functions according to the function description\n",
    "\n",
    "\n",
    "@user_proxy.register_for_execution()\n",
    "@chatbot.register_for_llm(name=\"python\", description=\"run cell in ipython and return the execution result.\")\n",
    "def exec_python(cell: Annotated[str, \"Valid Python cell to execute.\"]) -> str:\n",
    "    ipython = get_ipython()\n",
    "    result = ipython.run_cell(cell)\n",
    "    log = str(result.result)\n",
    "    if result.error_before_exec is not None:\n",
    "        log += f\"\\n{result.error_before_exec}\"\n",
    "    if result.error_in_exec is not None:\n",
    "        log += f\"\\n{result.error_in_exec}\"\n",
    "    return log\n",
    "\n",
    "\n",
    "@user_proxy.register_for_execution()\n",
    "@chatbot.register_for_llm(name=\"sh\", description=\"run a shell script and return the execution result.\")\n",
    "def exec_sh(script: Annotated[str, \"Valid Python cell to execute.\"]) -> str:\n",
    "    return user_proxy.execute_code_blocks([(\"sh\", script)])\n",
    "\n",
    "\n",
    "# start the conversation\n",
    "user_proxy.initiate_chat(\n",
    "    chatbot,\n",
    "    message=\"Draw two agents chatting with each other with an example dialog. Don't add plt.show().\",\n",
    ")"
=======
    "with Cache.disk():\n",
    "    # start the conversation\n",
    "    user_proxy.initiate_chat(\n",
    "        chatbot,\n",
    "        message=\"Draw two agents chatting with each other with an example dialog. Don't add plt.show().\",\n",
    "    )"
>>>>>>> main
   ]
  },
  {
   "cell_type": "code",
   "execution_count": null,
   "id": "ab081090",
   "metadata": {},
   "outputs": [],
   "source": []
  }
 ],
 "metadata": {
  "kernelspec": {
   "display_name": "flaml_dev",
   "language": "python",
   "name": "python3"
  },
  "language_info": {
   "codemirror_mode": {
    "name": "ipython",
    "version": 3
   },
   "file_extension": ".py",
   "mimetype": "text/x-python",
   "name": "python",
   "nbconvert_exporter": "python",
   "pygments_lexer": "ipython3",
   "version": "3.10.13"
  }
 },
 "nbformat": 4,
 "nbformat_minor": 5
}
