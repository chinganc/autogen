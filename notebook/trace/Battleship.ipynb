{
 "cells": [
  {
   "cell_type": "markdown",
   "id": "10ea0a43-98af-4a97-bdc2-0d1a354bc018",
   "metadata": {},
   "source": [
    "# Battleship"
   ]
  },
  {
   "cell_type": "code",
   "execution_count": 3,
   "id": "48bf6d33-8384-4c92-8297-e2581bd80375",
   "metadata": {},
   "outputs": [],
   "source": [
    "import autogen\n",
    "from autogen.trace import trace_op, node\n",
    "from autogen.trace.trace_ops import TraceExecutionError\n",
    "from autogen.trace.optimizers import FunctionOptimizer\n",
    "from autogen.trace.nodes import GRAPH"
   ]
  },
  {
   "cell_type": "markdown",
   "id": "c3ff1024-8a90-408f-9a9d-fb52e0fa1297",
   "metadata": {},
   "source": [
    "## Scenario 0: Produce valid code to generate (x, y)\n",
    "Challenge:\n",
    "1. Need to have the code from end-to-end that's runnable and throws no exception\n",
    "2. Does not know the data type of the input\n",
    "3. Does not know the width/height of the board"
   ]
  },
  {
   "cell_type": "code",
   "execution_count": 2,
   "id": "9a9f11d8-9399-4f49-9ba7-1a408225210c",
   "metadata": {},
   "outputs": [],
   "source": [
    "from battleship import BattleshipBoard"
   ]
  },
  {
   "cell_type": "code",
   "execution_count": 5,
   "id": "5c7a067d-373e-4dc9-a3ce-290771df6c55",
   "metadata": {},
   "outputs": [],
   "source": [
    "@trace_op(\"[select_coordinate] Given a map, select a valid coordinate.\", trainable=True)\n",
    "def select_coordinate(map):\n",
    "    \"\"\"\n",
    "    Given a map, select a valid coordinate.\n",
    "    \"\"\"\n",
    "    return map\n",
    "\n",
    "def user_fb_for_coords_validity(board, coords):\n",
    "    try:\n",
    "        board.check_shot(coords[0], coords[1])\n",
    "        return \"Valid coordinates.\", 1\n",
    "    except Exception as e:\n",
    "        return str(e), 0"
   ]
  },
  {
   "cell_type": "code",
   "execution_count": 4,
   "id": "c64fb247-6af5-43d9-9da8-3de80dee52bf",
   "metadata": {},
   "outputs": [
    {
     "name": "stdout",
     "output_type": "stream",
     "text": [
      "output=x, feedback=string index out of range, variables=\n",
      "\n",
      "__code:0 def select_coordinate(map):\n",
      "    \"\"\"\n",
      "    Given a map, select a valid coordinate.\n",
      "    \"\"\"\n",
      "    return 'x'\n",
      "output=x, feedback=string index out of range, variables=\n",
      "\n",
      "__code:0 def select_coordinate(map):\n",
      "    \"\"\"\n",
      "    Given a map, select a valid coordinate.\n",
      "    \"\"\"\n",
      "    return 'x'\n",
      "output=(0, 0), feedback=Valid coordinates., variables=\n",
      "\n",
      "__code:0 def select_coordinate(map):\n",
      "    for i in range(len(map)):\n",
      "        for j in range(len(map[i])):\n",
      "            if map[i][j] is not None:\n",
      "                return (i, j)\n",
      "    return None\n"
     ]
    }
   ],
   "source": [
    "GRAPH.clear()\n",
    "\n",
    "board = BattleshipBoard(10, 10)\n",
    "\n",
    "x = node(board.board, trainable=False)\n",
    "optimizer = FunctionOptimizer([select_coordinate.parameter], config_list=autogen.config_list_from_json(\"OAI_CONFIG_LIST\"))\n",
    "\n",
    "feedback = \"\"\n",
    "reward = 0\n",
    "\n",
    "while reward != 1:\n",
    "    try:\n",
    "        output = select_coordinate(x)\n",
    "        feedback, reward = user_fb_for_coords_validity(board, output.data)\n",
    "    except TraceExecutionError as e:\n",
    "        output = e.exception_node\n",
    "        feedback = output.data\n",
    "        \n",
    "    optimizer.zero_feedback()\n",
    "    optimizer.backward(output, feedback)\n",
    "\n",
    "    print(f\"output={output.data}, feedback={feedback}, variables=\\n\")  # logging\n",
    "    for p in optimizer.parameters:\n",
    "        print(p.name, p.data)\n",
    "    optimizer.step(verbose=False)"
   ]
  },
  {
   "cell_type": "markdown",
   "id": "e79119a3-d6eb-41f1-87f6-d56dcecf6e91",
   "metadata": {},
   "source": [
    "## Scenario 1: Learning to place shots well (single board).\n",
    "Important: to avoid bias, we can't tell LLM this is a battleship game.\n",
    "\n",
    "Challenge:\n",
    "1. Need to know not to place shots on the same spot\n",
    "2. Need to know to place shots on the board\n",
    "3. Need to develop basic heuristics (battleships are either vertical or horizontal)"
   ]
  },
  {
   "cell_type": "code",
   "execution_count": 6,
   "id": "4cb5d6c5-d132-4078-b067-274c1c5ae2e9",
   "metadata": {},
   "outputs": [],
   "source": [
    "from battleship import BattleshipBoard\n",
    "\n",
    "@trace_op(\"[select_coordinate] Given a map, select a valid coordinate to see if we can earn reward.\", trainable=True)\n",
    "def select_coordinate(map):\n",
    "    \"\"\"\n",
    "    Given a map, select a valid coordinate. We might earn reward from this coordinate.\n",
    "    \"\"\"\n",
    "    return [0, 0]\n",
    "\n",
    "def user_fb_for_placing_shot(board, coords):\n",
    "    # this is already a multi-step cumulative reward problem\n",
    "    # obs, reward, terminal, feedback\n",
    "    try:\n",
    "        reward = board.check_shot(coords[0], coords[1])\n",
    "        new_map = board.get_shots()\n",
    "        terminal = board.check_terminate()\n",
    "        return new_map, reward, terminal, f\"Got {reward} reward.\"\n",
    "    except Exception as e:\n",
    "        return board.get_shots(), 0, False, str(e)"
   ]
  },
  {
   "cell_type": "code",
   "execution_count": 3,
   "id": "9b40e807-4896-4395-9365-6d982b1d2245",
   "metadata": {},
   "outputs": [],
   "source": [
    "GRAPH.clear()\n",
    "\n",
    "board = BattleshipBoard(5, 5, num_each_type=1, exclude_ships=['C', 'B'])"
   ]
  },
  {
   "cell_type": "code",
   "execution_count": 4,
   "id": "435a67c5-123a-4953-b729-d2aa095c0539",
   "metadata": {},
   "outputs": [
    {
     "name": "stdout",
     "output_type": "stream",
     "text": [
      "R R R . .\n",
      ". . . . .\n",
      ". . . . D\n",
      "S S S . D\n",
      ". . . . .\n",
      "\n"
     ]
    }
   ],
   "source": [
    "board.visualize_board()"
   ]
  },
  {
   "cell_type": "code",
   "execution_count": 7,
   "id": "a8c20b0d-a531-4775-b034-65867ac153d1",
   "metadata": {},
   "outputs": [
    {
     "name": "stdout",
     "output_type": "stream",
     "text": [
      "Ground State Board\n",
      ". . . . .\n",
      ". S S S .\n",
      "D D . . R\n",
      ". . . . R\n",
      ". . . . R\n",
      "\n",
      "Obs:\n",
      "O . . . .\n",
      ". . . . .\n",
      ". . . . .\n",
      ". . . . .\n",
      ". . . . .\n",
      "\n",
      "output=[0, 0], feedback=Got False reward., variables=\n",
      "\n",
      "__code:0 def select_coordinate(map):\n",
      "    \"\"\"\n",
      "    Given a map, select a valid coordinate. We might earn reward from this coordinate.\n",
      "    \"\"\"\n",
      "    return [0, 0]\n",
      "Obs:\n",
      "O . . . .\n",
      ". X . . .\n",
      ". . . . .\n",
      ". . . . .\n",
      ". . . . .\n",
      "\n",
      "output=[1, 1], feedback=Got True reward., variables=\n",
      "\n",
      "__code:0 def select_coordinate(map):\n",
      "    return [1, 1]\n",
      "Obs:\n",
      "O . . . .\n",
      ". X . . .\n",
      ". . . . .\n",
      ". . . . .\n",
      ". . . . .\n",
      "\n",
      "output=[1, 1], feedback=Got False reward., variables=\n",
      "\n",
      "__code:0 def select_coordinate(map):\n",
      "    return [1, 1]\n",
      "Obs:\n",
      "O . . . .\n",
      ". X . . .\n",
      ". . O . .\n",
      ". . . . .\n",
      ". . . . .\n",
      "\n",
      "output=[2, 2], feedback=Got False reward., variables=\n",
      "\n",
      "__code:0 def select_coordinate(map):\n",
      "    return [2, 2]\n",
      "Obs:\n",
      "O . . . .\n",
      ". X . . .\n",
      ". . O . .\n",
      ". . . . .\n",
      ". . . . .\n",
      "\n",
      "output=name 'reward_x' is not defined, feedback=name 'reward_x' is not defined, variables=\n",
      "\n",
      "__code:0 def select_coordinate(map):\n",
      "    return [reward_x, reward_y]\n"
     ]
    },
    {
     "ename": "TypeError",
     "evalue": "select_coordinate() missing 2 required positional arguments: 'reward_x' and 'reward_y'",
     "output_type": "error",
     "traceback": [
      "\u001b[0;31m---------------------------------------------------------------------------\u001b[0m",
      "\u001b[0;31mTypeError\u001b[0m                                 Traceback (most recent call last)",
      "Cell \u001b[0;32mIn[7], line 19\u001b[0m\n\u001b[1;32m     15\u001b[0m \u001b[38;5;28;01mwhile\u001b[39;00m \u001b[38;5;129;01mnot\u001b[39;00m terminal \u001b[38;5;129;01mand\u001b[39;00m max_calls \u001b[38;5;241m>\u001b[39m \u001b[38;5;241m0\u001b[39m:\n\u001b[1;32m     16\u001b[0m     \u001b[38;5;66;03m# This is also online optimization\u001b[39;00m\n\u001b[1;32m     17\u001b[0m     \u001b[38;5;66;03m# we have the opportunity to keep changing the function with each round of interaction\u001b[39;00m\n\u001b[1;32m     18\u001b[0m     \u001b[38;5;28;01mtry\u001b[39;00m:\n\u001b[0;32m---> 19\u001b[0m         output \u001b[38;5;241m=\u001b[39m \u001b[43mselect_coordinate\u001b[49m\u001b[43m(\u001b[49m\u001b[43mobs\u001b[49m\u001b[43m)\u001b[49m\n\u001b[1;32m     20\u001b[0m         obs, reward, terminal, feedback \u001b[38;5;241m=\u001b[39m user_fb_for_placing_shot(board, output\u001b[38;5;241m.\u001b[39mdata)\n\u001b[1;32m     21\u001b[0m     \u001b[38;5;28;01mexcept\u001b[39;00m TraceExecutionError \u001b[38;5;28;01mas\u001b[39;00m e:\n\u001b[1;32m     22\u001b[0m         \u001b[38;5;66;03m# this is essentially a retry\u001b[39;00m\n",
      "File \u001b[0;32m/piech/u/anie/autogen/autogen/trace/modules.py:15\u001b[0m, in \u001b[0;36mModule.__call__\u001b[0;34m(self, *args, **kwargs)\u001b[0m\n\u001b[1;32m     14\u001b[0m \u001b[38;5;28;01mdef\u001b[39;00m \u001b[38;5;21m__call__\u001b[39m(\u001b[38;5;28mself\u001b[39m, \u001b[38;5;241m*\u001b[39margs, \u001b[38;5;241m*\u001b[39m\u001b[38;5;241m*\u001b[39mkwargs):\n\u001b[0;32m---> 15\u001b[0m     \u001b[38;5;28;01mreturn\u001b[39;00m \u001b[38;5;28;43mself\u001b[39;49m\u001b[38;5;241;43m.\u001b[39;49m\u001b[43mforward\u001b[49m\u001b[43m(\u001b[49m\u001b[38;5;241;43m*\u001b[39;49m\u001b[43margs\u001b[49m\u001b[43m,\u001b[49m\u001b[43m \u001b[49m\u001b[38;5;241;43m*\u001b[39;49m\u001b[38;5;241;43m*\u001b[39;49m\u001b[43mkwargs\u001b[49m\u001b[43m)\u001b[49m\n",
      "File \u001b[0;32m/piech/u/anie/autogen/autogen/trace/trace_ops.py:198\u001b[0m, in \u001b[0;36mFunModule.forward\u001b[0;34m(self, *args, **kwargs)\u001b[0m\n\u001b[1;32m    196\u001b[0m \u001b[38;5;28;01melse\u001b[39;00m:  \u001b[38;5;66;03m# Otherwise we represent inputs as dict\u001b[39;00m\n\u001b[1;32m    197\u001b[0m     \u001b[38;5;28;01massert\u001b[39;00m \u001b[38;5;28mself\u001b[39m\u001b[38;5;241m.\u001b[39mnode_dict \u001b[38;5;241m==\u001b[39m \u001b[38;5;124m\"\u001b[39m\u001b[38;5;124mauto\u001b[39m\u001b[38;5;124m\"\u001b[39m \u001b[38;5;129;01mor\u001b[39;00m \u001b[38;5;28misinstance\u001b[39m(\u001b[38;5;28mself\u001b[39m\u001b[38;5;241m.\u001b[39mnode_dict, \u001b[38;5;28mdict\u001b[39m)\n\u001b[0;32m--> 198\u001b[0m     spec \u001b[38;5;241m=\u001b[39m \u001b[43minspect\u001b[49m\u001b[38;5;241;43m.\u001b[39;49m\u001b[43mgetcallargs\u001b[49m\u001b[43m(\u001b[49m\u001b[38;5;28;43mself\u001b[39;49m\u001b[38;5;241;43m.\u001b[39;49m\u001b[43mfun\u001b[49m\u001b[43m,\u001b[49m\u001b[43m \u001b[49m\u001b[38;5;241;43m*\u001b[39;49m\u001b[43margs\u001b[49m\u001b[43m,\u001b[49m\u001b[43m \u001b[49m\u001b[38;5;241;43m*\u001b[39;49m\u001b[38;5;241;43m*\u001b[39;49m\u001b[43mkwargs\u001b[49m\u001b[43m)\u001b[49m  \u001b[38;5;66;03m# Read it from the input signature\u001b[39;00m\n\u001b[1;32m    199\u001b[0m     \u001b[38;5;28;01mif\u001b[39;00m \u001b[38;5;28misinstance\u001b[39m(\u001b[38;5;28mself\u001b[39m\u001b[38;5;241m.\u001b[39mnode_dict, \u001b[38;5;28mdict\u001b[39m):\n\u001b[1;32m    200\u001b[0m         spec\u001b[38;5;241m.\u001b[39mupdate(\u001b[38;5;28mself\u001b[39m\u001b[38;5;241m.\u001b[39mnode_dict)\n",
      "File \u001b[0;32m/piech/u/anie/miniconda3/envs/verbal-gym/lib/python3.8/inspect.py:1385\u001b[0m, in \u001b[0;36mgetcallargs\u001b[0;34m(func, *positional, **named)\u001b[0m\n\u001b[1;32m   1383\u001b[0m \u001b[38;5;28;01mfor\u001b[39;00m arg \u001b[38;5;129;01min\u001b[39;00m req:\n\u001b[1;32m   1384\u001b[0m     \u001b[38;5;28;01mif\u001b[39;00m arg \u001b[38;5;129;01mnot\u001b[39;00m \u001b[38;5;129;01min\u001b[39;00m arg2value:\n\u001b[0;32m-> 1385\u001b[0m         \u001b[43m_missing_arguments\u001b[49m\u001b[43m(\u001b[49m\u001b[43mf_name\u001b[49m\u001b[43m,\u001b[49m\u001b[43m \u001b[49m\u001b[43mreq\u001b[49m\u001b[43m,\u001b[49m\u001b[43m \u001b[49m\u001b[38;5;28;43;01mTrue\u001b[39;49;00m\u001b[43m,\u001b[49m\u001b[43m \u001b[49m\u001b[43marg2value\u001b[49m\u001b[43m)\u001b[49m\n\u001b[1;32m   1386\u001b[0m \u001b[38;5;28;01mfor\u001b[39;00m i, arg \u001b[38;5;129;01min\u001b[39;00m \u001b[38;5;28menumerate\u001b[39m(args[num_args \u001b[38;5;241m-\u001b[39m num_defaults:]):\n\u001b[1;32m   1387\u001b[0m     \u001b[38;5;28;01mif\u001b[39;00m arg \u001b[38;5;129;01mnot\u001b[39;00m \u001b[38;5;129;01min\u001b[39;00m arg2value:\n",
      "File \u001b[0;32m/piech/u/anie/miniconda3/envs/verbal-gym/lib/python3.8/inspect.py:1314\u001b[0m, in \u001b[0;36m_missing_arguments\u001b[0;34m(f_name, argnames, pos, values)\u001b[0m\n\u001b[1;32m   1312\u001b[0m     \u001b[38;5;28;01mdel\u001b[39;00m names[\u001b[38;5;241m-\u001b[39m\u001b[38;5;241m2\u001b[39m:]\n\u001b[1;32m   1313\u001b[0m     s \u001b[38;5;241m=\u001b[39m \u001b[38;5;124m\"\u001b[39m\u001b[38;5;124m, \u001b[39m\u001b[38;5;124m\"\u001b[39m\u001b[38;5;241m.\u001b[39mjoin(names) \u001b[38;5;241m+\u001b[39m tail\n\u001b[0;32m-> 1314\u001b[0m \u001b[38;5;28;01mraise\u001b[39;00m \u001b[38;5;167;01mTypeError\u001b[39;00m(\u001b[38;5;124m\"\u001b[39m\u001b[38;5;132;01m%s\u001b[39;00m\u001b[38;5;124m() missing \u001b[39m\u001b[38;5;132;01m%i\u001b[39;00m\u001b[38;5;124m required \u001b[39m\u001b[38;5;132;01m%s\u001b[39;00m\u001b[38;5;124m argument\u001b[39m\u001b[38;5;132;01m%s\u001b[39;00m\u001b[38;5;124m: \u001b[39m\u001b[38;5;132;01m%s\u001b[39;00m\u001b[38;5;124m\"\u001b[39m \u001b[38;5;241m%\u001b[39m\n\u001b[1;32m   1315\u001b[0m                 (f_name, missing,\n\u001b[1;32m   1316\u001b[0m                   \u001b[38;5;124m\"\u001b[39m\u001b[38;5;124mpositional\u001b[39m\u001b[38;5;124m\"\u001b[39m \u001b[38;5;28;01mif\u001b[39;00m pos \u001b[38;5;28;01melse\u001b[39;00m \u001b[38;5;124m\"\u001b[39m\u001b[38;5;124mkeyword-only\u001b[39m\u001b[38;5;124m\"\u001b[39m,\n\u001b[1;32m   1317\u001b[0m                   \u001b[38;5;124m\"\u001b[39m\u001b[38;5;124m\"\u001b[39m \u001b[38;5;28;01mif\u001b[39;00m missing \u001b[38;5;241m==\u001b[39m \u001b[38;5;241m1\u001b[39m \u001b[38;5;28;01melse\u001b[39;00m \u001b[38;5;124m\"\u001b[39m\u001b[38;5;124ms\u001b[39m\u001b[38;5;124m\"\u001b[39m, s))\n",
      "\u001b[0;31mTypeError\u001b[0m: select_coordinate() missing 2 required positional arguments: 'reward_x' and 'reward_y'"
     ]
    }
   ],
   "source": [
    "GRAPH.clear()\n",
    "\n",
    "board = BattleshipBoard(5, 5, num_each_type=1, exclude_ships=['C', 'B'])\n",
    "print(\"Ground State Board\")\n",
    "board.visualize_board()\n",
    "\n",
    "obs = node(board.get_shots(), trainable=False)\n",
    "optimizer = FunctionOptimizer([select_coordinate.parameter], config_list=autogen.config_list_from_json(\"OAI_CONFIG_LIST\"))\n",
    "\n",
    "feedback = \"\"\n",
    "terminal = False\n",
    "cum_reward = 0\n",
    "max_calls = 10\n",
    "\n",
    "while not terminal and max_calls > 0:\n",
    "    # This is also online optimization\n",
    "    # we have the opportunity to keep changing the function with each round of interaction\n",
    "    try:\n",
    "        output = select_coordinate(obs)\n",
    "        obs, reward, terminal, feedback = user_fb_for_placing_shot(board, output.data)\n",
    "    except TraceExecutionError as e:\n",
    "        # this is essentially a retry\n",
    "        output = e.exception_node\n",
    "        feedback = output.data\n",
    "        terminal = False\n",
    "        reward = 0\n",
    "\n",
    "    print(\"Obs:\")\n",
    "    board.visualize_shots()\n",
    "\n",
    "    cum_reward += reward\n",
    "        \n",
    "    optimizer.zero_feedback()\n",
    "    optimizer.backward(output, feedback)\n",
    "\n",
    "    print(f\"output={output.data}, feedback={feedback}, variables=\\n\")  # logging\n",
    "    for p in optimizer.parameters:\n",
    "        print(p.name, p.data)\n",
    "    optimizer.step(verbose=False)\n",
    "    max_calls -= 1"
   ]
  },
  {
   "cell_type": "code",
   "execution_count": null,
   "id": "58da6904-d69f-45ad-a17d-d5f4c31484c7",
   "metadata": {},
   "outputs": [],
   "source": []
  }
 ],
 "metadata": {
  "kernelspec": {
   "display_name": "verbal-gym",
   "language": "python",
   "name": "verbal-gym"
  },
  "language_info": {
   "codemirror_mode": {
    "name": "ipython",
    "version": 3
   },
   "file_extension": ".py",
   "mimetype": "text/x-python",
   "name": "python",
   "nbconvert_exporter": "python",
   "pygments_lexer": "ipython3",
   "version": "3.8.18"
  }
 },
 "nbformat": 4,
 "nbformat_minor": 5
}
