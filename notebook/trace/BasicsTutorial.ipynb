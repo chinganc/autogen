{
 "cells": [
  {
   "cell_type": "markdown",
   "metadata": {},
   "source": [
    "# Basics: Node and MessageNode\n",
    "\n",
    "`trace` is a comptuational grpah framework for tracing and optimizing codes. Its core data structure is the \"node\" container of python objects. To create a node, use `node` method, which creates a `Node` object. To access, the content of a node, use the `data` attribute."
   ]
  },
  {
   "cell_type": "code",
   "execution_count": 6,
   "metadata": {},
   "outputs": [
    {
     "name": "stdout",
     "output_type": "stream",
     "text": [
      "node of int 1\n",
      "string\n",
      "[1, 2, 3]\n",
      "{'a': 1, 'b': 2}\n",
      "<__main__.Foo object at 0x7f39cef93fd0>\n"
     ]
    }
   ],
   "source": [
    "from autogen.trace import node\n",
    "\n",
    "x = node(1)  # node of int\n",
    "print(\"node of int\", x.data)\n",
    "x = node(\"string\")  # node of str\n",
    "print(x.data)\n",
    "x = node([1, 2, 3])  # node of list\n",
    "print(x.data)\n",
    "x = node({\"a\": 1, \"b\": 2})  # node of dict\n",
    "print(x.data)\n",
    "\n",
    "\n",
    "class Foo:\n",
    "    def __init__(self, x):\n",
    "        self.x = x\n",
    "        self.secret = \"secret\"\n",
    "\n",
    "    def print(self, val):\n",
    "        print(val)\n",
    "\n",
    "\n",
    "x = node(Foo(\"foo\"))  # node of a class instance\n",
    "print(x.data)"
   ]
  },
  {
   "cell_type": "markdown",
   "metadata": {},
   "source": [
    "When a computation is performed using the contents of nodes, the result is also a node. This allows for the creation of a computation graph. The computation graph is a directed acyclic graph where the edges indicate the data dependencies.\n",
    "\n",
    "Nodes that are defined manually can be marked as trainable by setting their `trainable` attribute to True; such nodes are a subclass of Node called `ParameterNode`.\n",
    "Nodes that are created automatically as a result of computations are a different subclass of Node called `MessageNode`.\n",
    "\n",
    "Nodes can be copied. This can be done in two ways with `clone` or `detach`"
   ]
  },
  {
   "cell_type": "code",
   "execution_count": 7,
   "metadata": {},
   "outputs": [
    {
     "name": "stdout",
     "output_type": "stream",
     "text": [
      "<__main__.Foo object at 0x7f38fe0480d0>\n"
     ]
    }
   ],
   "source": [
    "# clone returns a MessageNode whose parent is the original node\n",
    "x_clone = x.clone()\n",
    "assert x in x_clone.parents\n",
    "assert x_clone.data != x.data\n",
    "assert x_clone.data.x == x.data.x\n",
    "print(x_clone.data)\n",
    "# detach returns a new Node which is not connected to the original node\n",
    "x_detach = x.detach()\n",
    "assert len(x_detach.parents) == 0\n",
    "assert x_detach.data != x.data\n",
    "assert x_detach.data.x == x.data.x"
   ]
  },
  {
   "cell_type": "markdown",
   "metadata": {},
   "source": [
    "`trace` overloads python's magic methods that gives return value explicitly (such as `__add__`), except logical operations such as `__bool__` and setters. (The comparison magic methods compares the level of the nodes in the global graph, rather than comparing the data.) \n",
    "\n",
    "When nodes are used with these magic methods, the output would be a `MessageNode`, which is a subclass of `Node` that has the inputs of the method as the parents. The attribute `description` of a `MessageNode` documents the method's function."
   ]
  },
  {
   "cell_type": "code",
   "execution_count": 8,
   "metadata": {},
   "outputs": [
    {
     "name": "stdout",
     "output_type": "stream",
     "text": [
      "MessageNode: (divide:2, dtype=<class 'float'>, data=0.3333333333333333)\n",
      "MessageNode: (divide:2, dtype=<class 'float'>, data=0.3333333333333333)\n",
      "parents: ['node_x:1', 'node_y:1']\n",
      "\n",
      "\n",
      "MessageNode: (getitem:1, dtype=<class 'int'>, data=1)\n",
      "parents: ['dict_node:1', 'str:12']\n",
      "len(dict_node) = MessageNode: (len:1, dtype=<class 'int'>, data=2)\n",
      "\n",
      "\n",
      "Node: (str:14, dtype=<class 'str'>, data=hello world)\n",
      "MessageNode: (getattr:9, dtype=<class 'str'>, data=secret)\n",
      "parents: ['Foo:4', 'str:15']\n"
     ]
    }
   ],
   "source": [
    "def print_node(node):\n",
    "    print(node)\n",
    "    print(f\"parents: {[p.name for p in node.parents]}\")\n",
    "\n",
    "\n",
    "# Basic arithmetic operations\n",
    "x = node(1, name=\"node_x\")\n",
    "y = node(3, name=\"node_y\")\n",
    "z = x / y\n",
    "z2 = x / 3  # the int 3 would be converted to a node automatically\n",
    "print(z)\n",
    "print_node(z)\n",
    "print(\"\\n\")\n",
    "\n",
    "# Index a node\n",
    "dict_node = node({\"a\": 1, \"b\": 2}, name=\"dict_node\")\n",
    "a = dict_node[\"a\"]\n",
    "print_node(a)\n",
    "print(\"len(dict_node) =\", dict_node.len())\n",
    "\n",
    "print(\"\\n\")\n",
    "\n",
    "# Getting class attribute and calling class method\n",
    "x = node(Foo(\"foo\"))\n",
    "x.call(\"print\", \"hello world\")\n",
    "print_node(x.getattr(\"secret\"))"
   ]
  },
  {
   "cell_type": "markdown",
   "metadata": {},
   "source": [
    "Nodes can not be used in logical operations like and, or, not. This is an explicit design choice so as to ensure that logical operations in python code is explicitly traced."
   ]
  },
  {
   "cell_type": "code",
   "execution_count": 9,
   "metadata": {},
   "outputs": [
    {
     "name": "stdout",
     "output_type": "stream",
     "text": [
      "True\n"
     ]
    }
   ],
   "source": [
    "x = node(True)\n",
    "try:\n",
    "    if x:\n",
    "        print(\"True\")\n",
    "except Exception as e:\n",
    "    print(e)\n",
    "    print(\"Use if x.data instead of if x\")\n",
    "\n",
    "\n",
    "x = node([1, 2, 3])\n",
    "try:\n",
    "    1 in x\n",
    "except Exception as e:\n",
    "    print(e)\n",
    "    print(\"Use 1 in x.data instead of 1 in x\")"
   ]
  },
  {
   "cell_type": "markdown",
   "metadata": {},
   "source": [
    "Nodes can be used to encapsulate any python object, including functions. Here're a few examples"
   ]
  },
  {
   "cell_type": "code",
   "execution_count": 10,
   "metadata": {},
   "outputs": [
    {
     "name": "stdout",
     "output_type": "stream",
     "text": [
      "output: MessageNode: (call:7, dtype=<class 'int'>, data=2)\n",
      "parents [('function:1', <function fun at 0x7f39cef99310>), ('int:11', 1)]\n",
      "\n",
      "\n",
      "\n",
      "The attribute of the wrapped object cannot be directly accessed. Instead use getattr() or call()\n",
      "foo_node: MessageNode: (getattr:10, dtype=<class 'int'>, data=1)\n",
      "parents [('Foo:5', <__main__.Foo object at 0x7f38fe04da90>), ('str:16', 'node')]\n",
      "non_node: MessageNode: (getattr:11, dtype=<class 'int'>, data=2)\n",
      "parents [('Foo:5', <__main__.Foo object at 0x7f38fe04da90>), ('str:17', 'non_node')]\n",
      "output: MessageNode: (call:8, dtype=<class 'int'>, data=4)\n",
      "parents [('getattr:12', <bound method Foo.non_trace_fun of <__main__.Foo object at 0x7f38fe04da90>>)]\n",
      "output: MessageNode: (call:10, dtype=<class 'int'>, data=4)\n",
      "parents [('getattr:14', <bound method Foo.non_trace_fun of <__main__.Foo object at 0x7f38fe04da90>>)]\n"
     ]
    },
    {
     "ename": "TraceExecutionError",
     "evalue": "TraceExecutionError: (AssertionError) The function must be callable.",
     "output_type": "error",
     "traceback": [
      "\u001b[0;31m---------------------------------------------------------------------------\u001b[0m",
      "\u001b[0;31mTraceExecutionError\u001b[0m                       Traceback (most recent call last)",
      "Cell \u001b[0;32mIn[10], line 56\u001b[0m\n\u001b[1;32m     54\u001b[0m \u001b[38;5;28;01mtry\u001b[39;00m:\n\u001b[1;32m     55\u001b[0m     fun \u001b[38;5;241m=\u001b[39m foo\u001b[38;5;241m.\u001b[39mcall(\u001b[38;5;124m\"\u001b[39m\u001b[38;5;124mtrace_fun\u001b[39m\u001b[38;5;124m\"\u001b[39m)\n\u001b[0;32m---> 56\u001b[0m     y \u001b[38;5;241m=\u001b[39m \u001b[43mfun\u001b[49m\u001b[43m(\u001b[49m\u001b[43m)\u001b[49m\n\u001b[1;32m     57\u001b[0m \u001b[38;5;28;01mexcept\u001b[39;00m \u001b[38;5;167;01mAssertionError\u001b[39;00m \u001b[38;5;28;01mas\u001b[39;00m e:\n\u001b[1;32m     58\u001b[0m     \u001b[38;5;28mprint\u001b[39m(e)\n",
      "File \u001b[0;32m~/codes/autogen/autogen/trace/nodes.py:377\u001b[0m, in \u001b[0;36mNode.__call__\u001b[0;34m(self, *args, **kwargs)\u001b[0m\n\u001b[1;32m    374\u001b[0m \u001b[38;5;28;01mdef\u001b[39;00m \u001b[38;5;21m__call__\u001b[39m(\u001b[38;5;28mself\u001b[39m, \u001b[38;5;241m*\u001b[39margs, \u001b[38;5;241m*\u001b[39m\u001b[38;5;241m*\u001b[39mkwargs):\n\u001b[1;32m    375\u001b[0m     \u001b[38;5;28;01mimport\u001b[39;00m \u001b[38;5;21;01mautogen\u001b[39;00m\u001b[38;5;21;01m.\u001b[39;00m\u001b[38;5;21;01mtrace\u001b[39;00m\u001b[38;5;21;01m.\u001b[39;00m\u001b[38;5;21;01moperators\u001b[39;00m \u001b[38;5;28;01mas\u001b[39;00m \u001b[38;5;21;01mops\u001b[39;00m\n\u001b[0;32m--> 377\u001b[0m     output \u001b[38;5;241m=\u001b[39m \u001b[43mops\u001b[49m\u001b[38;5;241;43m.\u001b[39;49m\u001b[43mcall\u001b[49m\u001b[43m(\u001b[49m\u001b[38;5;28;43mself\u001b[39;49m\u001b[43m,\u001b[49m\u001b[43m \u001b[49m\u001b[38;5;241;43m*\u001b[39;49m\u001b[43margs\u001b[49m\u001b[43m,\u001b[49m\u001b[43m \u001b[49m\u001b[38;5;241;43m*\u001b[39;49m\u001b[38;5;241;43m*\u001b[39;49m\u001b[43mkwargs\u001b[49m\u001b[43m)\u001b[49m\n\u001b[1;32m    378\u001b[0m     \u001b[38;5;28;01mreturn\u001b[39;00m output\n",
      "File \u001b[0;32m~/codes/autogen/autogen/trace/modules.py:43\u001b[0m, in \u001b[0;36mModule.__call__\u001b[0;34m(self, *args, **kwargs)\u001b[0m\n\u001b[1;32m     42\u001b[0m \u001b[38;5;28;01mdef\u001b[39;00m \u001b[38;5;21m__call__\u001b[39m(\u001b[38;5;28mself\u001b[39m, \u001b[38;5;241m*\u001b[39margs, \u001b[38;5;241m*\u001b[39m\u001b[38;5;241m*\u001b[39mkwargs):\n\u001b[0;32m---> 43\u001b[0m     \u001b[38;5;28;01mreturn\u001b[39;00m \u001b[38;5;28;43mself\u001b[39;49m\u001b[38;5;241;43m.\u001b[39;49m\u001b[43mforward\u001b[49m\u001b[43m(\u001b[49m\u001b[38;5;241;43m*\u001b[39;49m\u001b[43margs\u001b[49m\u001b[43m,\u001b[49m\u001b[43m \u001b[49m\u001b[38;5;241;43m*\u001b[39;49m\u001b[38;5;241;43m*\u001b[39;49m\u001b[43mkwargs\u001b[49m\u001b[43m)\u001b[49m\n",
      "File \u001b[0;32m~/codes/autogen/autogen/trace/trace_ops.py:284\u001b[0m, in \u001b[0;36mFunModule.forward\u001b[0;34m(self, *args, **kwargs)\u001b[0m\n\u001b[1;32m    282\u001b[0m \u001b[38;5;66;03m# Wrap the output as a MessageNode or an ExceptionNode\u001b[39;00m\n\u001b[1;32m    283\u001b[0m \u001b[38;5;28;01mif\u001b[39;00m \u001b[38;5;28mself\u001b[39m\u001b[38;5;241m.\u001b[39mn_outputs \u001b[38;5;241m==\u001b[39m \u001b[38;5;241m1\u001b[39m \u001b[38;5;129;01mor\u001b[39;00m \u001b[38;5;28misinstance\u001b[39m(outputs, \u001b[38;5;167;01mException\u001b[39;00m):\n\u001b[0;32m--> 284\u001b[0m     nodes \u001b[38;5;241m=\u001b[39m \u001b[38;5;28;43mself\u001b[39;49m\u001b[38;5;241;43m.\u001b[39;49m\u001b[43mwrap\u001b[49m\u001b[43m(\u001b[49m\u001b[43moutputs\u001b[49m\u001b[43m,\u001b[49m\u001b[43m \u001b[49m\u001b[43minputs\u001b[49m\u001b[43m,\u001b[49m\u001b[43m \u001b[49m\u001b[43mexternal_dependencies\u001b[49m\u001b[43m)\u001b[49m\n\u001b[1;32m    285\u001b[0m \u001b[38;5;28;01melse\u001b[39;00m:\n\u001b[1;32m    286\u001b[0m     nodes \u001b[38;5;241m=\u001b[39m \u001b[38;5;28mtuple\u001b[39m(\u001b[38;5;28mself\u001b[39m\u001b[38;5;241m.\u001b[39mwrap(outputs[i], inputs, external_dependencies) \u001b[38;5;28;01mfor\u001b[39;00m i \u001b[38;5;129;01min\u001b[39;00m \u001b[38;5;28mrange\u001b[39m(\u001b[38;5;28mself\u001b[39m\u001b[38;5;241m.\u001b[39mn_outputs))\n",
      "File \u001b[0;32m~/codes/autogen/autogen/trace/trace_ops.py:317\u001b[0m, in \u001b[0;36mFunModule.wrap\u001b[0;34m(self, output, inputs, external_dependencies)\u001b[0m\n\u001b[1;32m    309\u001b[0m \u001b[38;5;28;01mif\u001b[39;00m \u001b[38;5;28misinstance\u001b[39m(output, \u001b[38;5;167;01mException\u001b[39;00m):\n\u001b[1;32m    310\u001b[0m     e_node \u001b[38;5;241m=\u001b[39m ExceptionNode(\n\u001b[1;32m    311\u001b[0m         output,\n\u001b[1;32m    312\u001b[0m         inputs\u001b[38;5;241m=\u001b[39minputs,\n\u001b[0;32m   (...)\u001b[0m\n\u001b[1;32m    315\u001b[0m         info\u001b[38;5;241m=\u001b[39m\u001b[38;5;28mself\u001b[39m\u001b[38;5;241m.\u001b[39minfo,\n\u001b[1;32m    316\u001b[0m     )\n\u001b[0;32m--> 317\u001b[0m     \u001b[38;5;28;01mraise\u001b[39;00m TraceExecutionError(e_node)\n\u001b[1;32m    318\u001b[0m \u001b[38;5;28;01melse\u001b[39;00m:\n\u001b[1;32m    319\u001b[0m     info \u001b[38;5;241m=\u001b[39m \u001b[38;5;28mself\u001b[39m\u001b[38;5;241m.\u001b[39minfo\u001b[38;5;241m.\u001b[39mcopy()\n",
      "\u001b[0;31mTraceExecutionError\u001b[0m: TraceExecutionError: (AssertionError) The function must be callable."
     ]
    }
   ],
   "source": [
    "def fun(x):\n",
    "    return x + 1\n",
    "\n",
    "\n",
    "fun_node = node(fun)\n",
    "y = fun_node(node(1))\n",
    "print(f\"output: {y}\\nparents {[(p.name, p.data) for p in y.parents]}\")\n",
    "print(\"\\n\\n\")\n",
    "\n",
    "\n",
    "class Foo:\n",
    "\n",
    "    def __init__(self):\n",
    "        self.node = node(1)\n",
    "        self.non_node = 2\n",
    "\n",
    "    def trace_fun(self):\n",
    "        return self.node * 2\n",
    "\n",
    "    def non_trace_fun(self):\n",
    "        return self.non_node * 2\n",
    "\n",
    "\n",
    "foo = node(Foo())\n",
    "\n",
    "try:\n",
    "    foo.node\n",
    "    foo.trace_fun()\n",
    "except AttributeError:\n",
    "    print(\"The attribute of the wrapped object cannot be directly accessed. Instead use getattr() or call()\")\n",
    "\n",
    "\n",
    "attr = foo.getattr(\"node\")\n",
    "print(f\"foo_node: {attr}\\nparents {[(p.name, p.data) for p in attr.parents]}\")\n",
    "\n",
    "\n",
    "attr = foo.getattr(\"non_node\")\n",
    "print(f\"non_node: {attr}\\nparents {[(p.name, p.data) for p in attr.parents]}\")\n",
    "\n",
    "\n",
    "fun = foo.getattr(\"non_trace_fun\")\n",
    "y = fun()\n",
    "print(f\"output: {y}\\nparents {[(p.name, p.data) for p in y.parents]}\")\n",
    "\n",
    "try:\n",
    "    fun = foo.getattr(\"trace_fun\")\n",
    "    y = fun()\n",
    "except AssertionError as e:\n",
    "    print(e)\n",
    "\n",
    "y = foo.call(\"non_trace_fun\")\n",
    "print(f\"output: {y}\\nparents {[(p.name, p.data) for p in y.parents]}\")\n",
    "\n",
    "try:\n",
    "    y = foo.call(\"trace_fun\")\n",
    "except AssertionError as e:\n",
    "    print(e)"
   ]
  },
  {
   "cell_type": "markdown",
   "metadata": {},
   "source": [
    "## Writing Custom Node Operators\n",
    "In addition to magical methods, we can use `trace_op` to write custom methods that are traceable. When decorating a method with `trace_op`, it needs a description of the method. It has a format of `[method_name] description`. `trace_op` will automatically add all nodes whose `data` attribute is used within the function as the parents of the output `MessageNode`.\n",
    "\n",
    "Given a function `fun`, the decorated function `trace_op(description)(fun)` by default will unpack all the inputs (it unpacks all node containers), send them to `fun`, and then creates a `MessageNode` to wrap the output of `fun` which has parents containing all the nodes used in this operation. \n",
    "\n",
    "Since all inputs are unpacked, they will be set as the parents. The user can override this behavior by setting `trace_op(description, unpack_input=False)`, which would let `fun` see the original inputs.\n"
   ]
  },
  {
   "cell_type": "code",
   "execution_count": null,
   "metadata": {},
   "outputs": [],
   "source": [
    "from autogen.trace import trace_op\n",
    "\n",
    "\n",
    "@trace_op(\"[add_1] Add 1 to input x\")\n",
    "def foo(x):\n",
    "    return x + 1\n",
    "\n",
    "\n",
    "x = node(1, name=\"node_x\")\n",
    "z = foo(x)\n",
    "print_node(z)\n",
    "print(\"\\n\")\n",
    "\n",
    "\n",
    "@trace_op(\"[add] Add input x and input y\")\n",
    "def foo(x, y):\n",
    "    return x + y\n",
    "\n",
    "\n",
    "x = node(1, name=\"node_x\")\n",
    "y = node(2, name=\"node_y\")\n",
    "z = foo(x, y)\n",
    "print_node(z)\n",
    "print(\"\\n\")\n",
    "\n",
    "# The output is a node of a tuple of two nodes\n",
    "\n",
    "\n",
    "@trace_op(\"[pass_through] No operation, just return inputs\")\n",
    "def foo(x, y):\n",
    "    return x, y\n",
    "\n",
    "\n",
    "x = node(1, name=\"node_x\")\n",
    "y = node(2, name=\"node_y\")\n",
    "z = foo(x, y)\n",
    "print(z)\n",
    "from autogen.trace.nodes import Node\n",
    "\n",
    "assert isinstance(z, Node)\n",
    "assert isinstance(z.data, tuple)\n",
    "assert len(z.data) == 2\n",
    "print(\"\\n\")\n",
    "\n",
    "\n",
    "# The output is a tuple of two nodes\n",
    "@trace_op(\"[pass_through] No operation, just return inputs\", n_outputs=2)\n",
    "def foo(x, y):\n",
    "    return x, y\n",
    "\n",
    "\n",
    "x = node(1, name=\"node_x\")\n",
    "y = node(2, name=\"node_y\")\n",
    "z = foo(x, y)\n",
    "print(z)\n",
    "assert isinstance(z, tuple)\n",
    "assert len(z) == 2"
   ]
  },
  {
   "cell_type": "markdown",
   "metadata": {},
   "source": [
    "### Describing Relationship between Inputs and Outputs and Nodes in the Graph\n",
    "One can additionally provide `node_dict` to specify how each variable mentioned in `description` is related to the nodes in the graph. This relationship is stored in the `inputs` attribute of `MessageNode`. See examples \n",
    "below."
   ]
  },
  {
   "cell_type": "code",
   "execution_count": null,
   "metadata": {},
   "outputs": [],
   "source": [
    "# The default value of node_dict is None. In this case, the key of the inputs dict is the name of the input nodes.\n",
    "@trace_op(\"[add_1] Add 1 to input x\")\n",
    "def foo(x):\n",
    "    return x + 1\n",
    "\n",
    "\n",
    "z = foo(x)\n",
    "print({k: (v.name, v.data) for k, v in z.inputs.items()})\n",
    "\n",
    "# When node_dict is set to 'auto', the key of the inputs dict is the name specified in the function signature.\n",
    "\n",
    "\n",
    "@trace_op(\"[add_1] Add 1 to input x\", node_dict=\"auto\")\n",
    "def foo(input):\n",
    "    return input + 1\n",
    "\n",
    "\n",
    "z = foo(x)\n",
    "print({k: (v.name, v.data) for k, v in z.inputs.items()})\n",
    "\n",
    "# When node_dict is set to a dict, the key of the inputs dict is the name specified in the dict.\n",
    "node_dict = {\"custom_x\": x}\n",
    "\n",
    "\n",
    "@trace_op(\"[add_1] Add 1 to input x\", node_dict=node_dict)\n",
    "def foo(x):\n",
    "    return x + 1\n",
    "\n",
    "\n",
    "z = foo(x)\n",
    "print({k: (v.name, v.data) for k, v in z.inputs.items()})"
   ]
  },
  {
   "cell_type": "markdown",
   "metadata": {},
   "source": [
    "Using node_dict is useful when the function uses nodes that are not in the function signature.\n"
   ]
  },
  {
   "cell_type": "code",
   "execution_count": null,
   "metadata": {},
   "outputs": [],
   "source": [
    "# By default, the inputs dict only contains the nodes that are in the function signature. One can update the inputs dict by using node_dict.\n",
    "x = node(1, name=\"node_x\")\n",
    "y = node(2, name=\"node_y\")\n",
    "\n",
    "\n",
    "@trace_op(\"[add_1] Add input x to node_y.\", node_dict=\"auto\")\n",
    "def foo(x):\n",
    "    return x + y.data\n",
    "\n",
    "\n",
    "try:\n",
    "    z = foo(x)\n",
    "except Exception as e:\n",
    "    # Since the function signature does not contain y, the function will raise an error.\n",
    "    print(e)\n",
    "# We can use node_dict to add y to the inputs dict.\n",
    "node_dict = {\"node_y\": y}\n",
    "\n",
    "\n",
    "@trace_op(\"[add_1] Add input x to node_y.\", node_dict=node_dict)\n",
    "def foo(x):\n",
    "    return x + y.data\n",
    "\n",
    "\n",
    "z = foo(x)\n",
    "print({k: (v.name, v.data) for k, v in z.inputs.items()})"
   ]
  },
  {
   "cell_type": "markdown",
   "metadata": {},
   "source": [
    "# Visualize Graph\n",
    "\n",
    "The graph of nodes can be visualized by calling `backward` method of a node. (Later we will cover how `backward` also sends feedback across the graph). "
   ]
  },
  {
   "cell_type": "code",
   "execution_count": null,
   "metadata": {},
   "outputs": [],
   "source": [
    "from autogen.trace.nodes import GRAPH\n",
    "\n",
    "GRAPH.clear()  # to remove all the nodes\n",
    "x = node(1, name=\"node_x\")\n",
    "y = node(2, name=\"node_y\")\n",
    "a = x + y\n",
    "b = x + 1\n",
    "final = a + b\n",
    "final.backward(visualize=True)"
   ]
  },
  {
   "cell_type": "code",
   "execution_count": null,
   "metadata": {},
   "outputs": [],
   "source": [
    "GRAPH.clear()\n",
    "x = node(True)\n",
    "one = node(1)\n",
    "zero = node(0)\n",
    "print(x, one, zero)\n",
    "# Logical operations are not traceable\n",
    "y = one if x.data else zero\n",
    "y.backward(visualize=True)"
   ]
  },
  {
   "cell_type": "code",
   "execution_count": null,
   "metadata": {},
   "outputs": [],
   "source": [
    "# This is traceable\n",
    "node_dict = {\"one\": one, \"zero\": zero}\n",
    "\n",
    "\n",
    "@trace_op(\"[fun] Return one if input x is True, otherwise return zero\", node_dict=node_dict)\n",
    "def fun(x):\n",
    "    return one.data if x else zero.data\n",
    "\n",
    "\n",
    "y = fun(x)\n",
    "y.backward(visualize=True)"
   ]
  },
  {
   "cell_type": "markdown",
   "metadata": {},
   "source": [
    "# Broadcasting\n",
    "Using `apply_op`, we can broadcast node operators to a container of nodes. A container of nodes are either `list`, `tuple`, `dict`, or subclass of an abstract class `BaseModule`. `apply_op` recursively applies the operator to all nodes in the container. "
   ]
  },
  {
   "cell_type": "code",
   "execution_count": null,
   "metadata": {},
   "outputs": [],
   "source": [
    "from autogen.trace import apply_op, node, NodeContainer\n",
    "from autogen.trace import operators as ops\n",
    "\n",
    "import copy\n",
    "\n",
    "# Using list as a node container\n",
    "x = [node(1), node(2), 1]\n",
    "y = [node(3), node(4), 2]\n",
    "z = copy.deepcopy(x)\n",
    "z = apply_op(ops.add, z, x, y)\n",
    "print(\"x\", [x[0].data, x[1].data, x[2]])\n",
    "print(\"y\", [y[0].data, y[1].data, y[2]])\n",
    "print(\"Elements in z should be added, except for the last one. Value: \", [z[0].data, z[1].data, z[2]])\n",
    "\n",
    "\n",
    "# Using list as a node container\n",
    "x = dict(a=node(1), b=0)\n",
    "y = dict(a=node(3), b=0)\n",
    "z = copy.deepcopy(x)\n",
    "z = apply_op(ops.add, z, x, y)\n",
    "print(f\"{x['a'].data}+{y['a'].data}={z['a'].data}\")\n",
    "print(f\"{x['b']}=={y['b']}=={z['b']}\")\n",
    "\n",
    "# Using a custom class as a node container\n",
    "\n",
    "\n",
    "class Foo(NodeContainer):\n",
    "    def __init__(self, x):\n",
    "        self.x = node(x)\n",
    "        self.y = [node(1), node(2)]\n",
    "        self.z = 1\n",
    "\n",
    "\n",
    "x = Foo(\"x\")\n",
    "y = Foo(\"y\")\n",
    "x_plus_y = Foo(\"template\")\n",
    "x_plus_y = apply_op(ops.add, x_plus_y, x, y)\n",
    "print(\"x_plus_y.x should be added. Value: \", x_plus_y.x.data)\n",
    "print(\"x_plus_y.y should be added. Value: \", [n.data for n in x_plus_y.y])\n",
    "print(\"x_plus_y.z should be not added, just 1. Value: \", x_plus_y.z)"
   ]
  },
  {
   "cell_type": "markdown",
   "metadata": {},
   "source": [
    "## Nodes and Python Data Structure\n",
    "\n",
    "We can create a `node` over Python data structure like dictionary, tuple, set, or list. We automatically handle the iteration and you can wrap a node around any data structure and use them like normal python objects."
   ]
  },
  {
   "cell_type": "code",
   "execution_count": null,
   "metadata": {},
   "outputs": [],
   "source": [
    "from autogen.trace import node\n",
    "\n",
    "args = node({\"arg1\", \"arg2\"}, trainable=False)\n",
    "for a in args:\n",
    "    print(a)\n",
    "\n",
    "a.backward(visualize=True)"
   ]
  },
  {
   "cell_type": "code",
   "execution_count": null,
   "metadata": {},
   "outputs": [],
   "source": [
    "parms = node([1, 2], trainable=False)\n",
    "args = node([\"arg1\", \"arg2\"], trainable=False)\n",
    "\n",
    "for a, p in zip(args, parms):\n",
    "    print(a, p)\n",
    "\n",
    "p.backward(visualize=True)"
   ]
  },
  {
   "cell_type": "code",
   "execution_count": null,
   "metadata": {},
   "outputs": [],
   "source": []
  }
 ],
 "metadata": {
  "kernelspec": {
   "display_name": "autogen",
   "language": "python",
   "name": "python3"
  },
  "language_info": {
   "codemirror_mode": {
    "name": "ipython",
    "version": 3
   },
   "file_extension": ".py",
   "mimetype": "text/x-python",
   "name": "python",
   "nbconvert_exporter": "python",
   "pygments_lexer": "ipython3",
   "version": "3.8.18"
  }
 },
 "nbformat": 4,
 "nbformat_minor": 4
}
