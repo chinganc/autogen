{
 "cells": [
  {
   "cell_type": "code",
   "execution_count": 7,
   "metadata": {},
   "outputs": [
    {
     "name": "stdout",
     "output_type": "stream",
     "text": [
      "output=0, feedback=Try again. The output should be negative, variables=\n",
      "\n",
      "int:0 -1\n",
      "__code:0 def my_fun(x):\n",
      "    \"\"\"Test function\"\"\"\n",
      "    return x\n"
     ]
    }
   ],
   "source": [
    "import autogen\n",
    "from autogen.trace import trace_op, node\n",
    "from autogen.trace.optimizers import FunctionOptimizer\n",
    "from autogen.trace.nodes import GRAPH\n",
    "\n",
    "GRAPH.clear()\n",
    "\n",
    "\n",
    "def log(output, feedback, parameters):\n",
    "    print(f\"output={output}, feedback={feedback}, variables=\\n\")  # logging\n",
    "    for p in parameters:\n",
    "        print(p.name, p.data)\n",
    "\n",
    "\n",
    "def user(output):\n",
    "    return \"Success.\" if output < 0 else \"Try again. The output should be negative\"\n",
    "\n",
    "\n",
    "@trace_op(trainable=True)\n",
    "def my_fun(x):\n",
    "    \"\"\"Test function\"\"\"\n",
    "    return 0\n",
    "\n",
    "\n",
    "x = node(-1, trainable=True)\n",
    "\n",
    "\n",
    "def computation(x):\n",
    "    y = my_fun(x)\n",
    "    # additional computation here\n",
    "    return y\n",
    "\n",
    "\n",
    "optimizer = FunctionOptimizer(\n",
    "    parameters=[x, my_fun.parameter], config_list=autogen.config_list_from_json(\"OAI_CONFIG_LIST\")\n",
    ")\n",
    "\n",
    "while True:\n",
    "    output = computation(x)\n",
    "    feedback = user(output.data)\n",
    "    if feedback == \"Success.\":\n",
    "        break\n",
    "    optimizer.zero_feedback()\n",
    "    optimizer.backward(output, feedback)\n",
    "    optimizer.step(verbose=False)\n",
    "\n",
    "    log(output.data, feedback, optimizer.parameters)"
   ]
  }
 ],
 "metadata": {
  "kernelspec": {
   "display_name": "Python 3 (ipykernel)",
   "language": "python",
   "name": "python3"
  },
  "language_info": {
   "codemirror_mode": {
    "name": "ipython",
    "version": 3
   },
   "file_extension": ".py",
   "mimetype": "text/x-python",
   "name": "python",
   "nbconvert_exporter": "python",
   "pygments_lexer": "ipython3",
   "version": "3.8.18"
  }
 },
 "nbformat": 4,
 "nbformat_minor": 4
}
