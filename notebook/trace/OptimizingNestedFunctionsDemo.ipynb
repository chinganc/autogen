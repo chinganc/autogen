{
 "cells": [
  {
   "cell_type": "markdown",
   "metadata": {},
   "source": [
    "# A small demo of optimizing nested functions"
   ]
  },
  {
   "cell_type": "code",
   "execution_count": 4,
   "metadata": {},
   "outputs": [
    {
     "name": "stdout",
     "output_type": "stream",
     "text": [
      "LLM response:\n",
      " {\n",
      "\"reasoning\": \"Based on the instruction, the issue seems to be that the output of the code, 'eval19', is currently 5 when it should be 10 according to the feedback. To achieve this, we need to adjust the logic inside functions __code6 and __code7. Currently, __code6 (func_a) increases its input by 1, and __code7 (func_b) applies func_a to its first argument and then increases the result by 1. For the output to be 10 with an input of 3 (int10=3), the operation must result in a triple increment or a different operation. One simple solution to reach an output of 10 from input 3 is to modify func_a to multiply its input by a factor that, when passed through func_b, results in the desired output. Since func_b applies func_a and then adds 1, func_a must transform 3 into a value that, when 1 is added to it, equals 10. Therefore, modifying func_a to multiply the input by 3 (thus, 3 * 3 = 9) and having func_b add 1 to the result (9 + 1 = 10) would achieve the desired outcome.\",\n",
      "\"suggestion\": {\n",
      "\"__code6\": \"def func_a(a):\\n    return a * 3\",\n",
      "\"__code7\": \"def func_b(b, fun):\\n    return fun(b) + 1\"\n",
      "}\n",
      "}\n",
      "Iteration 0\n",
      "def func_a(a):\n",
      "    return a * 3\n",
      "def func_b(b, fun):\n",
      "    return fun(b) + 1\n",
      "\n",
      "\n",
      "\n"
     ]
    }
   ],
   "source": [
    "from autogen.trace import node, bundle\n",
    "from autogen.trace.modules import apply_op\n",
    "from autogen.trace.modules import NodeContainer\n",
    "import autogen.trace.operators as ops\n",
    "\n",
    "\n",
    "@bundle(description=\"[func_a] Returns a+1\", trainable=True)\n",
    "def func_a(a):\n",
    "    return a + 1\n",
    "\n",
    "\n",
    "@bundle(\n",
    "    description=\"[func_b] Returns b+1\", trainable=True, traceable_code=True\n",
    ")  # traceable_code needs to be set True so we don't unpack the inputs and the function can see external dependencies\n",
    "def func_b(b, fun):\n",
    "    return fun(b) + 1\n",
    "\n",
    "\n",
    "x = node(3)\n",
    "y = func_b(x, func_a)\n",
    "\n",
    "\n",
    "from autogen.trace.optimizers import FunctionOptimizerV2\n",
    "\n",
    "opt = FunctionOptimizerV2(func_a.parameters() + func_b.parameters())\n",
    "\n",
    "i = 0\n",
    "while True:\n",
    "\n",
    "    y = func_b(x, func_a)\n",
    "    if y != 10:\n",
    "        feedback = \"output should be 10.\"\n",
    "    else:\n",
    "        break\n",
    "    opt.zero_feedback()\n",
    "    opt.backward(y, visualize=False, feedback=feedback)\n",
    "    opt.step(verbose=\"output\")\n",
    "\n",
    "    print(f\"Iteration {i}\")\n",
    "    for p in opt.parameters:\n",
    "        print(p.data)\n",
    "    print(\"\\n\\n\")\n",
    "    i += 1"
   ]
  }
 ],
 "metadata": {
  "kernelspec": {
   "display_name": "autogen",
   "language": "python",
   "name": "python3"
  },
  "language_info": {
   "codemirror_mode": {
    "name": "ipython",
    "version": 3
   },
   "file_extension": ".py",
   "mimetype": "text/x-python",
   "name": "python",
   "nbconvert_exporter": "python",
   "pygments_lexer": "ipython3",
   "version": "3.8.18"
  }
 },
 "nbformat": 4,
 "nbformat_minor": 2
}
