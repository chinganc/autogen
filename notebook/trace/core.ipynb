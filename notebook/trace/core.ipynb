{
 "cells": [
  {
   "cell_type": "markdown",
   "metadata": {},
   "source": [
    "# Basics: Node and MessageNode\n",
    "\n",
    "`trace` is a comptuational grpah framework for tracing and optimizing codes. Its core data structure is the \"node\" container of python objects. To create a node, use `node` method, which creates a `Node` object. To access, the content of a node, use the `data` attribute."
   ]
  },
  {
   "cell_type": "code",
   "execution_count": 1,
   "metadata": {},
   "outputs": [
    {
     "name": "stdout",
     "output_type": "stream",
     "text": [
      "node of int 1\n",
      "string\n",
      "[1, 2, 3]\n",
      "{'a': 1, 'b': 2}\n",
      "<__main__.Foo object at 0x0000017FB8A63580>\n"
     ]
    }
   ],
   "source": [
    "from autogen.trace import node\n",
    "\n",
    "x = node(1)  # node of int\n",
    "print(\"node of int\", x.data)\n",
    "x = node(\"string\")  # node of str\n",
    "print(x.data)\n",
    "x = node([1, 2, 3])  # node of list\n",
    "print(x.data)\n",
    "x = node({\"a\": 1, \"b\": 2})  # node of dict\n",
    "print(x.data)\n",
    "\n",
    "\n",
    "class Foo:\n",
    "    def __init__(self, x):\n",
    "        self.x = x\n",
    "        self.secret = \"secret\"\n",
    "\n",
    "    def print(self, val):\n",
    "        print(val)\n",
    "\n",
    "\n",
    "x = node(Foo(\"foo\"))  # node of a class instance\n",
    "print(x.data)"
   ]
  },
  {
   "cell_type": "markdown",
   "metadata": {},
   "source": [
    "When a computation is performed using the contents of nodes, the result is also a node. This allows for the creation of a computation graph. The computation graph is a directed acyclic graph where the edges indicate the data dependencies.\n",
    "\n",
    "Nodes that are defined manually can be marked as trainable by setting their `trainable` attribute to True; such nodes are a subclass of Node called `ParameterNode`.\n",
    "Nodes that are created automatically as a result of computations are a different subclass of Node called `MessageNode`.\n",
    "\n",
    "Nodes can be copied. This can be done in two ways with `clone` or `detach`"
   ]
  },
  {
   "cell_type": "code",
   "execution_count": 2,
   "metadata": {},
   "outputs": [
    {
     "name": "stdout",
     "output_type": "stream",
     "text": [
      "<__main__.Foo object at 0x0000017F88123010>\n"
     ]
    }
   ],
   "source": [
    "# clone returns a MessageNode whose parent is the original node\n",
    "x_clone = x.clone()\n",
    "assert x in x_clone.parents\n",
    "assert x_clone.data != x.data\n",
    "assert x_clone.data.x == x.data.x\n",
    "print(x_clone.data)\n",
    "# detach returns a new Node which is not connected to the original node\n",
    "x_detach = x.detach()\n",
    "assert len(x_detach.parents) == 0\n",
    "assert x_detach.data != x.data\n",
    "assert x_detach.data.x == x.data.x"
   ]
  },
  {
   "cell_type": "markdown",
   "metadata": {},
   "source": [
    "`trace` overloads python's magic methods that gives return value explicitly (such as `__add__`), except logical operations such as `__bool__` and setters. (The comparison magic methods compares the level of the nodes in the global graph, rather than comparing the data.) \n",
    "\n",
    "When nodes are used with these magic methods, the output would be a `MessageNode`, which is a subclass of `Node` that has the inputs of the method as the parents. The attribute `description` of a `MessageNode` documents the method's function."
   ]
  },
  {
   "cell_type": "code",
   "execution_count": 3,
   "metadata": {},
   "outputs": [
    {
     "name": "stdout",
     "output_type": "stream",
     "text": [
      "MessageNode: (divide:0, dtype=<class 'float'>, data=0.3333333333333333)\n",
      "MessageNode: (divide:0, dtype=<class 'float'>, data=0.3333333333333333)\n",
      "parents: ['node_x:0', 'node_y:0']\n",
      "\n",
      "\n",
      "MessageNode: (getitem:0, dtype=<class 'int'>, data=1)\n",
      "parents: ['dict_node:0', 'str:1']\n",
      "len(dict_node) = MessageNode: (len:0, dtype=<class 'int'>, data=2)\n",
      "\n",
      "\n",
      "hello world\n",
      "MessageNode: (getattr:0, dtype=<class 'str'>, data=secret)\n",
      "parents: ['Foo:1']\n"
     ]
    }
   ],
   "source": [
    "def print_node(node):\n",
    "    print(node)\n",
    "    print(f\"parents: {[p.name for p in node.parents]}\")\n",
    "\n",
    "\n",
    "# Basic arithmetic operations\n",
    "x = node(1, name=\"node_x\")\n",
    "y = node(3, name=\"node_y\")\n",
    "z = x / y\n",
    "z2 = x / 3  # the int 3 would be converted to a node automatically\n",
    "print(z)\n",
    "print_node(z)\n",
    "print(\"\\n\")\n",
    "\n",
    "# Index a node\n",
    "dict_node = node({\"a\": 1, \"b\": 2}, name=\"dict_node\")\n",
    "a = dict_node[\"a\"]\n",
    "print_node(a)\n",
    "print(\"len(dict_node) =\", dict_node.len())\n",
    "\n",
    "print(\"\\n\")\n",
    "\n",
    "# Getting class attribute and calling class method\n",
    "x = node(Foo(\"foo\"))\n",
    "x.call(\"print\", \"hello world\")\n",
    "print_node(x.getattr(\"secret\"))"
   ]
  },
  {
   "cell_type": "markdown",
   "metadata": {},
   "source": [
    "Nodes can not be used in logical operations like and, or, not. This is an explicit design choice so as to ensure that logical operations in python code is explicitly traced."
   ]
  },
  {
   "cell_type": "code",
   "execution_count": 4,
   "metadata": {},
   "outputs": [
    {
     "name": "stdout",
     "output_type": "stream",
     "text": [
      "Cannot convert Node: (bool:0, dtype=<class 'bool'>, data=True) to bool.\n",
      "Use if x.data instead of if x\n",
      "Cannot use 'in' operator on Node: (list:1, dtype=<class 'list'>, data=[1, 2, 3]).\n",
      "Use 1 in x.data instead of 1 in x\n"
     ]
    }
   ],
   "source": [
    "x = node(True)\n",
    "try:\n",
    "    if x:\n",
    "        print(\"True\")\n",
    "except Exception as e:\n",
    "    print(e)\n",
    "    print(\"Use if x.data instead of if x\")\n",
    "\n",
    "\n",
    "x = node([1, 2, 3])\n",
    "try:\n",
    "    1 in x\n",
    "except Exception as e:\n",
    "    print(e)\n",
    "    print(\"Use 1 in x.data instead of 1 in x\")"
   ]
  },
  {
   "cell_type": "markdown",
   "metadata": {},
   "source": [
    "## Writing Custom Node Operators\n",
    "In addition to magical methods, we can use `trace_op` to write custom methods that are traceable. When decorating a method with `trace_op`, it needs a description of the method. It has a format of `[method_name] description`. `trace_op` will automatically add all nodes whose `data` attribute is used within the function as the parents of the output `MessageNode`.\n",
    "\n",
    "Given a function `fun`, the decorated function `trace_op(description)(fun)` by default will unpack all the inputs (it unpacks all node containers), send them to `fun`, and then creates a `MessageNode` to wrap the output of `fun` which has parents containing all the nodes used in this operation. \n",
    "\n",
    "Since all inputs are unpacked, they will be set as the parents. The user can override this behavior by setting `trace_op(description, unpack_input=False)`, which would let `fun` see the original inputs.\n"
   ]
  },
  {
   "cell_type": "code",
   "execution_count": 5,
   "metadata": {},
   "outputs": [
    {
     "name": "stdout",
     "output_type": "stream",
     "text": [
      "MessageNode: (add_1:0, dtype=<class 'int'>, data=2)\n",
      "parents: ['node_x:1']\n",
      "\n",
      "\n",
      "MessageNode: (add:0, dtype=<class 'int'>, data=3)\n",
      "parents: ['node_x:2', 'node_y:1']\n",
      "\n",
      "\n",
      "MessageNode: (pass_through:0, dtype=<class 'tuple'>, data=(1, 2))\n",
      "\n",
      "\n",
      "(<autogen.trace.nodes.MessageNode object at 0x0000017F88162020>, <autogen.trace.nodes.MessageNode object at 0x0000017F88162110>)\n"
     ]
    }
   ],
   "source": [
    "from autogen.trace import trace_op\n",
    "\n",
    "@trace_op(\"[add_1] Add 1 to input x\")\n",
    "def foo(x):\n",
    "    return x + 1\n",
    "\n",
    "x = node(1, name=\"node_x\")\n",
    "z = foo(x)\n",
    "print_node(z)\n",
    "print(\"\\n\")\n",
    "\n",
    "@trace_op(\"[add] Add input x and input y\")\n",
    "def foo(x, y):\n",
    "    return x + y\n",
    "\n",
    "x = node(1, name=\"node_x\")\n",
    "y = node(2, name=\"node_y\")\n",
    "z = foo(x, y)\n",
    "print_node(z)\n",
    "print(\"\\n\")\n",
    "\n",
    "# The output is a node of a tuple of two nodes\n",
    "@trace_op(\"[pass_through] No operation, just return inputs\")\n",
    "def foo(x, y):\n",
    "    return x, y\n",
    "\n",
    "x = node(1, name=\"node_x\")\n",
    "y = node(2, name=\"node_y\")\n",
    "z = foo(x, y)\n",
    "print(z)\n",
    "from autogen.trace.nodes import Node\n",
    "\n",
    "assert isinstance(z, Node)\n",
    "assert isinstance(z.data, tuple)\n",
    "assert len(z.data) == 2\n",
    "print(\"\\n\")\n",
    "\n",
    "\n",
    "# The output is a tuple of two nodes\n",
    "@trace_op(\"[pass_through] No operation, just return inputs\", n_outputs=2)\n",
    "def foo(x, y):\n",
    "    return x, y\n",
    "\n",
    "x = node(1, name=\"node_x\")\n",
    "y = node(2, name=\"node_y\")\n",
    "z = foo(x, y)\n",
    "print(z)\n",
    "assert isinstance(z, tuple)\n",
    "assert len(z) == 2"
   ]
  },
  {
   "cell_type": "markdown",
   "metadata": {},
   "source": [
    "### Describing Relationship between Inputs and Outputs and Nodes in the Graph\n",
    "One can additionally provide `node_dict` to specify how each variable mentioned in `description` is related to the nodes in the graph. This relationship is stored in the `inputs` attribute of `MessageNode`. See examples \n",
    "below."
   ]
  },
  {
   "cell_type": "code",
   "execution_count": 6,
   "metadata": {},
   "outputs": [
    {
     "name": "stdout",
     "output_type": "stream",
     "text": [
      "{'x': ('node_x:4', 1)}\n",
      "{'input': ('node_x:4', 1)}\n",
      "{'x': ('node_x:4', 1), 'custom_x': ('node_x:4', 1)}\n"
     ]
    }
   ],
   "source": [
    "# The default value of node_dict is None. In this case, the key of the inputs dict is the name of the input nodes.\n",
    "@trace_op(\"[add_1] Add 1 to input x\")\n",
    "def foo(x):\n",
    "    return x + 1\n",
    "\n",
    "z = foo(x)\n",
    "print({k: (v.name, v.data) for k, v in z.inputs.items()})\n",
    "\n",
    "# When node_dict is set to 'auto', the key of the inputs dict is the name specified in the function signature.\n",
    "@trace_op(\"[add_1] Add 1 to input x\", node_dict=\"auto\")\n",
    "def foo(input):\n",
    "    return input + 1\n",
    "\n",
    "z = foo(x)\n",
    "print({k: (v.name, v.data) for k, v in z.inputs.items()})\n",
    "\n",
    "# When node_dict is set to a dict, the key of the inputs dict is the name specified in the dict.\n",
    "node_dict = {\"custom_x\": x}\n",
    "\n",
    "@trace_op(\"[add_1] Add 1 to input x\", node_dict=node_dict)\n",
    "def foo(x):\n",
    "    return x + 1\n",
    "\n",
    "z = foo(x)\n",
    "print({k: (v.name, v.data) for k, v in z.inputs.items()})"
   ]
  },
  {
   "cell_type": "markdown",
   "metadata": {},
   "source": [
    "Using node_dict is useful when the function uses nodes that are not in the function signature.\n"
   ]
  },
  {
   "cell_type": "code",
   "execution_count": 7,
   "metadata": {},
   "outputs": [
    {
     "name": "stdout",
     "output_type": "stream",
     "text": [
      "All used_nodes must be in the spec.\n",
      "{'x': ('node_x:5', 1), 'node_y': ('node_y:4', 2)}\n"
     ]
    }
   ],
   "source": [
    "# By default, the inputs dict only contains the nodes that are in the function signature. One can update the inputs dict by using node_dict.\n",
    "x = node(1, name=\"node_x\")\n",
    "y = node(2, name=\"node_y\")\n",
    "\n",
    "\n",
    "@trace_op(\"[add_1] Add input x to node_y.\", node_dict=\"auto\")\n",
    "def foo(x):\n",
    "    return x + y.data\n",
    "\n",
    "try:\n",
    "    z = foo(x)\n",
    "except Exception as e:\n",
    "    # Since the function signature does not contain y, the function will raise an error.\n",
    "    print(e)\n",
    "# We can use node_dict to add y to the inputs dict.\n",
    "node_dict = {\"node_y\": y}\n",
    "\n",
    "\n",
    "@trace_op(\"[add_1] Add input x to node_y.\", node_dict=node_dict)\n",
    "def foo(x):\n",
    "    return x + y.data\n",
    "\n",
    "z = foo(x)\n",
    "print({k: (v.name, v.data) for k, v in z.inputs.items()})"
   ]
  },
  {
   "cell_type": "markdown",
   "metadata": {},
   "source": [
    "# Visualize Graph\n",
    "\n",
    "The graph of nodes can be visualized by calling `backward` method of a node. (Later we will cover how `backward` also sends feedback across the graph). "
   ]
  },
  {
   "cell_type": "code",
   "execution_count": 8,
   "metadata": {},
   "outputs": [
    {
     "data": {
      "image/svg+xml": [
       "<?xml version=\"1.0\" encoding=\"UTF-8\" standalone=\"no\"?>\n",
       "<!DOCTYPE svg PUBLIC \"-//W3C//DTD SVG 1.1//EN\"\n",
       " \"http://www.w3.org/Graphics/SVG/1.1/DTD/svg11.dtd\">\n",
       "<!-- Generated by graphviz version 2.50.0 (0)\n",
       " -->\n",
       "<!-- Pages: 1 -->\n",
       "<svg width=\"1223pt\" height=\"305pt\"\n",
       " viewBox=\"0.00 0.00 1223.15 304.86\" xmlns=\"http://www.w3.org/2000/svg\" xmlns:xlink=\"http://www.w3.org/1999/xlink\">\n",
       "<g id=\"graph0\" class=\"graph\" transform=\"scale(1 1) rotate(0) translate(4 300.86)\">\n",
       "<polygon fill=\"white\" stroke=\"transparent\" points=\"-4,4 -4,-300.86 1219.15,-300.86 1219.15,4 -4,4\"/>\n",
       "<!-- add0 -->\n",
       "<g id=\"node1\" class=\"node\">\n",
       "<title>add0</title>\n",
       "<ellipse fill=\"none\" stroke=\"black\" cx=\"431.58\" cy=\"-148.43\" rx=\"166.75\" ry=\"37.45\"/>\n",
       "<text text-anchor=\"middle\" x=\"431.58\" y=\"-159.73\" font-family=\"Times New Roman,serif\" font-size=\"14.00\">add0</text>\n",
       "<text text-anchor=\"middle\" x=\"431.58\" y=\"-144.73\" font-family=\"Times New Roman,serif\" font-size=\"14.00\">[add] This is an add operator of x and y.</text>\n",
       "<text text-anchor=\"middle\" x=\"431.58\" y=\"-129.73\" font-family=\"Times New Roman,serif\" font-size=\"14.00\">3</text>\n",
       "</g>\n",
       "<!-- add2 -->\n",
       "<g id=\"node2\" class=\"node\">\n",
       "<title>add2</title>\n",
       "<ellipse fill=\"none\" stroke=\"black\" cx=\"607.58\" cy=\"-37.48\" rx=\"166.75\" ry=\"37.45\"/>\n",
       "<text text-anchor=\"middle\" x=\"607.58\" y=\"-48.78\" font-family=\"Times New Roman,serif\" font-size=\"14.00\">add2</text>\n",
       "<text text-anchor=\"middle\" x=\"607.58\" y=\"-33.78\" font-family=\"Times New Roman,serif\" font-size=\"14.00\">[add] This is an add operator of x and y.</text>\n",
       "<text text-anchor=\"middle\" x=\"607.58\" y=\"-18.78\" font-family=\"Times New Roman,serif\" font-size=\"14.00\">5</text>\n",
       "</g>\n",
       "<!-- add0&#45;&gt;add2 -->\n",
       "<g id=\"edge1\" class=\"edge\">\n",
       "<title>add0&#45;&gt;add2</title>\n",
       "<path fill=\"none\" stroke=\"black\" d=\"M487.26,-112.96C505.01,-101.97 524.78,-89.73 543.09,-78.4\"/>\n",
       "<polygon fill=\"black\" stroke=\"black\" points=\"545.29,-81.15 551.95,-72.91 541.6,-75.2 545.29,-81.15\"/>\n",
       "</g>\n",
       "<!-- add1 -->\n",
       "<g id=\"node3\" class=\"node\">\n",
       "<title>add1</title>\n",
       "<ellipse fill=\"none\" stroke=\"black\" cx=\"783.58\" cy=\"-148.43\" rx=\"166.75\" ry=\"37.45\"/>\n",
       "<text text-anchor=\"middle\" x=\"783.58\" y=\"-159.73\" font-family=\"Times New Roman,serif\" font-size=\"14.00\">add1</text>\n",
       "<text text-anchor=\"middle\" x=\"783.58\" y=\"-144.73\" font-family=\"Times New Roman,serif\" font-size=\"14.00\">[add] This is an add operator of x and y.</text>\n",
       "<text text-anchor=\"middle\" x=\"783.58\" y=\"-129.73\" font-family=\"Times New Roman,serif\" font-size=\"14.00\">2</text>\n",
       "</g>\n",
       "<!-- add1&#45;&gt;add2 -->\n",
       "<g id=\"edge2\" class=\"edge\">\n",
       "<title>add1&#45;&gt;add2</title>\n",
       "<path fill=\"none\" stroke=\"black\" d=\"M727.89,-112.96C710.15,-101.97 690.37,-89.73 672.06,-78.4\"/>\n",
       "<polygon fill=\"black\" stroke=\"black\" points=\"673.55,-75.2 663.2,-72.91 669.86,-81.15 673.55,-75.2\"/>\n",
       "</g>\n",
       "<!-- node_x0 -->\n",
       "<g id=\"node4\" class=\"node\">\n",
       "<title>node_x0</title>\n",
       "<ellipse fill=\"none\" stroke=\"black\" cx=\"607.58\" cy=\"-259.38\" rx=\"196.65\" ry=\"37.45\"/>\n",
       "<text text-anchor=\"middle\" x=\"607.58\" y=\"-270.68\" font-family=\"Times New Roman,serif\" font-size=\"14.00\">node_x0</text>\n",
       "<text text-anchor=\"middle\" x=\"607.58\" y=\"-255.68\" font-family=\"Times New Roman,serif\" font-size=\"14.00\">[Node] This is a node in a computational graph.</text>\n",
       "<text text-anchor=\"middle\" x=\"607.58\" y=\"-240.68\" font-family=\"Times New Roman,serif\" font-size=\"14.00\">1</text>\n",
       "</g>\n",
       "<!-- node_x0&#45;&gt;add0 -->\n",
       "<g id=\"edge3\" class=\"edge\">\n",
       "<title>node_x0&#45;&gt;add0</title>\n",
       "<path fill=\"none\" stroke=\"black\" d=\"M550.92,-223.31C533.39,-212.46 513.95,-200.42 495.94,-189.27\"/>\n",
       "<polygon fill=\"black\" stroke=\"black\" points=\"497.57,-186.17 487.22,-183.88 493.88,-192.12 497.57,-186.17\"/>\n",
       "</g>\n",
       "<!-- node_x0&#45;&gt;add1 -->\n",
       "<g id=\"edge5\" class=\"edge\">\n",
       "<title>node_x0&#45;&gt;add1</title>\n",
       "<path fill=\"none\" stroke=\"black\" d=\"M664.23,-223.31C681.76,-212.46 701.2,-200.42 719.21,-189.27\"/>\n",
       "<polygon fill=\"black\" stroke=\"black\" points=\"721.27,-192.12 727.93,-183.88 717.58,-186.17 721.27,-192.12\"/>\n",
       "</g>\n",
       "<!-- node_y0 -->\n",
       "<g id=\"node5\" class=\"node\">\n",
       "<title>node_y0</title>\n",
       "<ellipse fill=\"none\" stroke=\"black\" cx=\"196.58\" cy=\"-259.38\" rx=\"196.65\" ry=\"37.45\"/>\n",
       "<text text-anchor=\"middle\" x=\"196.58\" y=\"-270.68\" font-family=\"Times New Roman,serif\" font-size=\"14.00\">node_y0</text>\n",
       "<text text-anchor=\"middle\" x=\"196.58\" y=\"-255.68\" font-family=\"Times New Roman,serif\" font-size=\"14.00\">[Node] This is a node in a computational graph.</text>\n",
       "<text text-anchor=\"middle\" x=\"196.58\" y=\"-240.68\" font-family=\"Times New Roman,serif\" font-size=\"14.00\">2</text>\n",
       "</g>\n",
       "<!-- node_y0&#45;&gt;add0 -->\n",
       "<g id=\"edge4\" class=\"edge\">\n",
       "<title>node_y0&#45;&gt;add0</title>\n",
       "<path fill=\"none\" stroke=\"black\" d=\"M269.64,-224.51C295.56,-212.49 324.85,-198.91 351.33,-186.63\"/>\n",
       "<polygon fill=\"black\" stroke=\"black\" points=\"352.97,-189.73 360.57,-182.35 350.02,-183.38 352.97,-189.73\"/>\n",
       "</g>\n",
       "<!-- int0 -->\n",
       "<g id=\"node6\" class=\"node\">\n",
       "<title>int0</title>\n",
       "<ellipse fill=\"none\" stroke=\"black\" cx=\"1018.58\" cy=\"-259.38\" rx=\"196.65\" ry=\"37.45\"/>\n",
       "<text text-anchor=\"middle\" x=\"1018.58\" y=\"-270.68\" font-family=\"Times New Roman,serif\" font-size=\"14.00\">int0</text>\n",
       "<text text-anchor=\"middle\" x=\"1018.58\" y=\"-255.68\" font-family=\"Times New Roman,serif\" font-size=\"14.00\">[Node] This is a node in a computational graph.</text>\n",
       "<text text-anchor=\"middle\" x=\"1018.58\" y=\"-240.68\" font-family=\"Times New Roman,serif\" font-size=\"14.00\">1</text>\n",
       "</g>\n",
       "<!-- int0&#45;&gt;add1 -->\n",
       "<g id=\"edge6\" class=\"edge\">\n",
       "<title>int0&#45;&gt;add1</title>\n",
       "<path fill=\"none\" stroke=\"black\" d=\"M945.51,-224.51C919.6,-212.49 890.3,-198.91 863.82,-186.63\"/>\n",
       "<polygon fill=\"black\" stroke=\"black\" points=\"865.13,-183.38 854.58,-182.35 862.18,-189.73 865.13,-183.38\"/>\n",
       "</g>\n",
       "</g>\n",
       "</svg>\n"
      ],
      "text/plain": [
       "<graphviz.graphs.Digraph at 0x17f88160880>"
      ]
     },
     "execution_count": 8,
     "metadata": {},
     "output_type": "execute_result"
    }
   ],
   "source": [
    "from autogen.trace.nodes import GRAPH\n",
    "\n",
    "GRAPH.clear()  # to remove all the nodes\n",
    "x = node(1, name=\"node_x\")\n",
    "y = node(2, name=\"node_y\")\n",
    "a = x + y\n",
    "b = x + 1\n",
    "final = a + b\n",
    "final.backward(visualize=True)"
   ]
  },
  {
   "cell_type": "code",
   "execution_count": 9,
   "metadata": {},
   "outputs": [
    {
     "name": "stdout",
     "output_type": "stream",
     "text": [
      "Node: (bool:0, dtype=<class 'bool'>, data=True) Node: (int:0, dtype=<class 'int'>, data=1) Node: (int:1, dtype=<class 'int'>, data=0)\n"
     ]
    },
    {
     "data": {
      "image/svg+xml": [
       "<?xml version=\"1.0\" encoding=\"UTF-8\" standalone=\"no\"?>\n",
       "<!DOCTYPE svg PUBLIC \"-//W3C//DTD SVG 1.1//EN\"\n",
       " \"http://www.w3.org/Graphics/SVG/1.1/DTD/svg11.dtd\">\n",
       "<!-- Generated by graphviz version 2.50.0 (0)\n",
       " -->\n",
       "<!-- Pages: 1 -->\n",
       "<svg width=\"401pt\" height=\"83pt\"\n",
       " viewBox=\"0.00 0.00 401.15 82.95\" xmlns=\"http://www.w3.org/2000/svg\" xmlns:xlink=\"http://www.w3.org/1999/xlink\">\n",
       "<g id=\"graph0\" class=\"graph\" transform=\"scale(1 1) rotate(0) translate(4 78.95)\">\n",
       "<polygon fill=\"white\" stroke=\"transparent\" points=\"-4,4 -4,-78.95 397.15,-78.95 397.15,4 -4,4\"/>\n",
       "<!-- int0 -->\n",
       "<g id=\"node1\" class=\"node\">\n",
       "<title>int0</title>\n",
       "<ellipse fill=\"none\" stroke=\"black\" cx=\"196.58\" cy=\"-37.48\" rx=\"196.65\" ry=\"37.45\"/>\n",
       "<text text-anchor=\"middle\" x=\"196.58\" y=\"-48.78\" font-family=\"Times New Roman,serif\" font-size=\"14.00\">int0</text>\n",
       "<text text-anchor=\"middle\" x=\"196.58\" y=\"-33.78\" font-family=\"Times New Roman,serif\" font-size=\"14.00\">[Node] This is a node in a computational graph.</text>\n",
       "<text text-anchor=\"middle\" x=\"196.58\" y=\"-18.78\" font-family=\"Times New Roman,serif\" font-size=\"14.00\">1</text>\n",
       "</g>\n",
       "</g>\n",
       "</svg>\n"
      ],
      "text/plain": [
       "<graphviz.graphs.Digraph at 0x17f881619f0>"
      ]
     },
     "execution_count": 9,
     "metadata": {},
     "output_type": "execute_result"
    }
   ],
   "source": [
    "GRAPH.clear()\n",
    "x = node(True)\n",
    "one = node(1)\n",
    "zero = node(0)\n",
    "print(x, one, zero)\n",
    "# Logical operations are not traceable\n",
    "y = one if x.data else zero\n",
    "y.backward(visualize=True)"
   ]
  },
  {
   "cell_type": "code",
   "execution_count": 10,
   "metadata": {},
   "outputs": [
    {
     "data": {
      "image/svg+xml": [
       "<?xml version=\"1.0\" encoding=\"UTF-8\" standalone=\"no\"?>\n",
       "<!DOCTYPE svg PUBLIC \"-//W3C//DTD SVG 1.1//EN\"\n",
       " \"http://www.w3.org/Graphics/SVG/1.1/DTD/svg11.dtd\">\n",
       "<!-- Generated by graphviz version 2.50.0 (0)\n",
       " -->\n",
       "<!-- Pages: 1 -->\n",
       "<svg width=\"812pt\" height=\"194pt\"\n",
       " viewBox=\"0.00 0.00 812.15 193.91\" xmlns=\"http://www.w3.org/2000/svg\" xmlns:xlink=\"http://www.w3.org/1999/xlink\">\n",
       "<g id=\"graph0\" class=\"graph\" transform=\"scale(1 1) rotate(0) translate(4 189.91)\">\n",
       "<polygon fill=\"white\" stroke=\"transparent\" points=\"-4,4 -4,-189.91 808.15,-189.91 808.15,4 -4,4\"/>\n",
       "<!-- bool0 -->\n",
       "<g id=\"node1\" class=\"node\">\n",
       "<title>bool0</title>\n",
       "<ellipse fill=\"none\" stroke=\"black\" cx=\"196.58\" cy=\"-148.43\" rx=\"196.65\" ry=\"37.45\"/>\n",
       "<text text-anchor=\"middle\" x=\"196.58\" y=\"-159.73\" font-family=\"Times New Roman,serif\" font-size=\"14.00\">bool0</text>\n",
       "<text text-anchor=\"middle\" x=\"196.58\" y=\"-144.73\" font-family=\"Times New Roman,serif\" font-size=\"14.00\">[Node] This is a node in a computational graph.</text>\n",
       "<text text-anchor=\"middle\" x=\"196.58\" y=\"-129.73\" font-family=\"Times New Roman,serif\" font-size=\"14.00\">True</text>\n",
       "</g>\n",
       "<!-- fun0 -->\n",
       "<g id=\"node2\" class=\"node\">\n",
       "<title>fun0</title>\n",
       "<ellipse fill=\"none\" stroke=\"black\" cx=\"401.58\" cy=\"-37.48\" rx=\"230.53\" ry=\"37.45\"/>\n",
       "<text text-anchor=\"middle\" x=\"401.58\" y=\"-48.78\" font-family=\"Times New Roman,serif\" font-size=\"14.00\">fun0</text>\n",
       "<text text-anchor=\"middle\" x=\"401.58\" y=\"-33.78\" font-family=\"Times New Roman,serif\" font-size=\"14.00\">[fun] Return one if input x is True, otherwise return zero</text>\n",
       "<text text-anchor=\"middle\" x=\"401.58\" y=\"-18.78\" font-family=\"Times New Roman,serif\" font-size=\"14.00\">1</text>\n",
       "</g>\n",
       "<!-- bool0&#45;&gt;fun0 -->\n",
       "<g id=\"edge1\" class=\"edge\">\n",
       "<title>bool0&#45;&gt;fun0</title>\n",
       "<path fill=\"none\" stroke=\"black\" d=\"M261.44,-112.96C282.17,-101.94 305.29,-89.65 326.68,-78.28\"/>\n",
       "<polygon fill=\"black\" stroke=\"black\" points=\"328.54,-81.26 335.73,-73.47 325.25,-75.08 328.54,-81.26\"/>\n",
       "</g>\n",
       "<!-- int0 -->\n",
       "<g id=\"node3\" class=\"node\">\n",
       "<title>int0</title>\n",
       "<ellipse fill=\"none\" stroke=\"black\" cx=\"607.58\" cy=\"-148.43\" rx=\"196.65\" ry=\"37.45\"/>\n",
       "<text text-anchor=\"middle\" x=\"607.58\" y=\"-159.73\" font-family=\"Times New Roman,serif\" font-size=\"14.00\">int0</text>\n",
       "<text text-anchor=\"middle\" x=\"607.58\" y=\"-144.73\" font-family=\"Times New Roman,serif\" font-size=\"14.00\">[Node] This is a node in a computational graph.</text>\n",
       "<text text-anchor=\"middle\" x=\"607.58\" y=\"-129.73\" font-family=\"Times New Roman,serif\" font-size=\"14.00\">1</text>\n",
       "</g>\n",
       "<!-- int0&#45;&gt;fun0 -->\n",
       "<g id=\"edge2\" class=\"edge\">\n",
       "<title>int0&#45;&gt;fun0</title>\n",
       "<path fill=\"none\" stroke=\"black\" d=\"M542.4,-112.96C521.56,-101.94 498.33,-89.65 476.84,-78.28\"/>\n",
       "<polygon fill=\"black\" stroke=\"black\" points=\"478.22,-75.06 467.75,-73.47 474.95,-81.24 478.22,-75.06\"/>\n",
       "</g>\n",
       "</g>\n",
       "</svg>\n"
      ],
      "text/plain": [
       "<graphviz.graphs.Digraph at 0x17f881620b0>"
      ]
     },
     "execution_count": 10,
     "metadata": {},
     "output_type": "execute_result"
    }
   ],
   "source": [
    "# This is traceable\n",
    "node_dict = {\"one\": one, \"zero\": zero}\n",
    "@trace_op(\"[fun] Return one if input x is True, otherwise return zero\", node_dict=node_dict)\n",
    "def fun(x):\n",
    "    return one.data if x else zero.data\n",
    "\n",
    "y = fun(x)\n",
    "y.backward(visualize=True)"
   ]
  },
  {
   "cell_type": "markdown",
   "metadata": {},
   "source": [
    "# Broadcasting\n",
    "Using `apply_op`, we can broadcast node operators to a container of nodes. A container of nodes are either `list`, `tuple`, `dict`, or subclass of an abstract class `BaseModule`. `apply_op` recursively applies the operator to all nodes in the container. "
   ]
  },
  {
   "cell_type": "code",
   "execution_count": 11,
   "metadata": {},
   "outputs": [
    {
     "name": "stdout",
     "output_type": "stream",
     "text": [
      "x [1, 2, 1]\n",
      "y [3, 4, 2]\n",
      "Elements in z should be added, except for the last one. Value:  [4, 6, 1]\n",
      "1+3=4\n",
      "0==0==0\n",
      "x_plus_y.x should be added. Value:  xy\n",
      "x_plus_y.y should be added. Value:  [2, 4]\n",
      "x_plus_y.z should be not added, just 1. Value:  1\n"
     ]
    }
   ],
   "source": [
    "from autogen.trace import apply_op, node, NodeContainer\n",
    "from autogen.trace import operators as ops\n",
    "\n",
    "import copy\n",
    "\n",
    "# Using list as a node container\n",
    "x = [node(1), node(2), 1]\n",
    "y = [node(3), node(4), 2]\n",
    "z = copy.deepcopy(x)\n",
    "z = apply_op(ops.add, z, x, y)\n",
    "print(\"x\", [x[0].data, x[1].data, x[2]])\n",
    "print(\"y\", [y[0].data, y[1].data, y[2]])\n",
    "print(\"Elements in z should be added, except for the last one. Value: \", [z[0].data, z[1].data, z[2]])\n",
    "\n",
    "\n",
    "# Using list as a node container\n",
    "x = dict(a=node(1), b=0)\n",
    "y = dict(a=node(3), b=0)\n",
    "z = copy.deepcopy(x)\n",
    "z = apply_op(ops.add, z, x, y)\n",
    "print(f\"{x['a'].data}+{y['a'].data}={z['a'].data}\")\n",
    "print(f\"{x['b']}=={y['b']}=={z['b']}\")\n",
    "\n",
    "# Using a custom class as a node container\n",
    "class Foo(NodeContainer):\n",
    "    def __init__(self, x):\n",
    "        self.x = node(x)\n",
    "        self.y = [node(1), node(2)]\n",
    "        self.z = 1\n",
    "\n",
    "\n",
    "x = Foo(\"x\")\n",
    "y = Foo(\"y\")\n",
    "x_plus_y = Foo(\"template\")\n",
    "x_plus_y = apply_op(ops.add, x_plus_y, x, y)\n",
    "print(\"x_plus_y.x should be added. Value: \", x_plus_y.x.data)\n",
    "print(\"x_plus_y.y should be added. Value: \", [n.data for n in x_plus_y.y])\n",
    "print(\"x_plus_y.z should be not added, just 1. Value: \", x_plus_y.z)"
   ]
  }
 ],
 "metadata": {
  "kernelspec": {
   "display_name": "autogen",
   "language": "python",
   "name": "python3"
  },
  "language_info": {
   "codemirror_mode": {
    "name": "ipython",
    "version": 3
   },
   "file_extension": ".py",
   "mimetype": "text/x-python",
   "name": "python",
   "nbconvert_exporter": "python",
   "pygments_lexer": "ipython3",
   "version": "3.10.13"
  }
 },
 "nbformat": 4,
 "nbformat_minor": 2
}
