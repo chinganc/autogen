{
 "cells": [
  {
   "cell_type": "markdown",
   "metadata": {},
   "source": [
    "# Basics: Node and MessageNode\n",
    "\n",
    "`trace` is a comptuational grpah framework for tracing and optimizing codes. Its core data structure is the \"node\" container of python objects. To create a node, use `node` method, which creates a `Node` object. To access, the content of a node, use the `data` attribute."
   ]
  },
  {
   "cell_type": "code",
   "execution_count": 1,
   "metadata": {},
   "outputs": [
    {
     "name": "stdout",
     "output_type": "stream",
     "text": [
      "node of int 1\n",
      "string\n",
      "[1, 2, 3]\n",
      "{'a': 1, 'b': 2}\n",
      "<__main__.Foo object at 0x7f7c9696f040>\n"
     ]
    }
   ],
   "source": [
    "from autogen.trace import node\n",
    "\n",
    "x = node(1)  # node of int\n",
    "print('node of int', x.data)\n",
    "x = node('string')  # node of str\n",
    "print(x.data)\n",
    "x = node([1,2,3])   # node of list\n",
    "print(x.data)\n",
    "x = node({'a': 1, 'b': 2})  # node of dict\n",
    "print(x.data)\n",
    "\n",
    "class Foo:\n",
    "    def __init__(self, x):\n",
    "        self.x = x\n",
    "        self.secret = 'secret'\n",
    "    def print(self, val):\n",
    "        print(val)\n",
    "\n",
    "x = node(Foo('foo'))  # node of a class instance\n",
    "print(x.data)"
   ]
  },
  {
   "cell_type": "markdown",
   "metadata": {},
   "source": [
    "Nodes can be copyied. This can be done in two ways with `clone` or `detach`"
   ]
  },
  {
   "cell_type": "code",
   "execution_count": 2,
   "metadata": {},
   "outputs": [
    {
     "name": "stdout",
     "output_type": "stream",
     "text": [
      "<__main__.Foo object at 0x7f7d7c3af910>\n"
     ]
    }
   ],
   "source": [
    "# clone returns a MessageNode whose parent is the original node\n",
    "x_clone = x.clone()\n",
    "assert x in x_clone.parents\n",
    "assert x_clone.data != x.data\n",
    "assert x_clone.data.x == x.data.x\n",
    "print(x_clone.data)\n",
    "# detach returns a new Node which is not connected to the original node\n",
    "x_detach = x.detach()\n",
    "assert len(x_detach.parents) == 0\n",
    "assert x_detach.data != x.data\n",
    "assert x_detach.data.x == x.data.x\n"
   ]
  },
  {
   "cell_type": "markdown",
   "metadata": {},
   "source": [
    "`trace` overloads python's magic methods that gives return value explicitly (such as `__add__`), except logical operations such as `__bool__` and setters. (The comparison magic methods compares the level of the nodes in the global graph, rather than comparing the data.) When nodes are used with these magic methods, the output would be a `MessageNode`, which a subclass of `Node` that has the inputs of the method as the parents. The attribute `description` of a `MessageNode` documents the method's function."
   ]
  },
  {
   "cell_type": "code",
   "execution_count": 3,
   "metadata": {},
   "outputs": [
    {
     "name": "stdout",
     "output_type": "stream",
     "text": [
      "MessageNode: (divide:0, dtype=<class 'float'>, data=0.3333333333333333)\n",
      "MessageNode: (divide:0, dtype=<class 'float'>, data=0.3333333333333333)\n",
      "parents: ['node_x:0', 'node_y:0']\n",
      "\n",
      "\n",
      "MessageNode: (getitem:0, dtype=<class 'int'>, data=1)\n",
      "parents: ['dict_node:0', 'str:1']\n",
      "len(dict_node) = MessageNode: (len:0, dtype=<class 'int'>, data=2)\n",
      "\n",
      "\n",
      "hello world\n",
      "MessageNode: (getattr:0, dtype=<class 'str'>, data=secret)\n",
      "parents: ['Foo:1']\n"
     ]
    }
   ],
   "source": [
    "def print_node(node):\n",
    "    print(node)\n",
    "    print(f\"parents: {[p.name for p in node.parents]}\")\n",
    "\n",
    "# Basic arithmetic operations\n",
    "x = node(1, name='node_x')\n",
    "y = node(3, name='node_y')\n",
    "z = x/y\n",
    "z2 = x/3  # the int 3 would be converted to a node automatically\n",
    "print(z)\n",
    "print_node(z)\n",
    "print('\\n')\n",
    "\n",
    "# Index a node\n",
    "dict_node = node({'a': 1, 'b': 2}, name='dict_node')\n",
    "a = dict_node['a']\n",
    "print_node(a)\n",
    "print('len(dict_node) =', dict_node.len())\n",
    "\n",
    "print('\\n')\n",
    "\n",
    "# Getting class attribute and calling class method\n",
    "x = node(Foo('foo'))\n",
    "x.call('print', 'hello world')\n",
    "print_node(x.getattr('secret'))\n"
   ]
  },
  {
   "cell_type": "markdown",
   "metadata": {},
   "source": [
    "Nodes can not be used in logical operations like and, or, not. This design choice to make it explicit that logical operations in python code is traced."
   ]
  },
  {
   "cell_type": "code",
   "execution_count": 4,
   "metadata": {},
   "outputs": [
    {
     "name": "stdout",
     "output_type": "stream",
     "text": [
      "Cannot convert Node: (bool:0, dtype=<class 'bool'>, data=True) to bool.\n",
      "Use if x.data instead of if x\n",
      "Cannot use 'in' operator on Node: (list:1, dtype=<class 'list'>, data=[1, 2, 3]).\n",
      "Use 1 in x.data instead of 1 in x\n"
     ]
    }
   ],
   "source": [
    "x = node(True)\n",
    "try:\n",
    "    if x:\n",
    "        print('True')\n",
    "except Exception as e:\n",
    "    print(e)\n",
    "    print('Use if x.data instead of if x')\n",
    "\n",
    "\n",
    "x = node([1,2,3])\n",
    "try:\n",
    "    1 in x\n",
    "except Exception as e:\n",
    "    print(e)\n",
    "    print('Use 1 in x.data instead of 1 in x')\n"
   ]
  },
  {
   "cell_type": "markdown",
   "metadata": {},
   "source": [
    "## Writing Custom Node Operators\n",
    "In addition to magical methods, we can use `trace_op` to write custome methods that are traceable. When decorating a method with `trace_op`, it needs a description of the method. It has a format of `[method_name] description`. `trace_op` would automatically add all nodes whose `data` attribute is used as the parents of the output `MessageNode`."
   ]
  },
  {
   "cell_type": "code",
   "execution_count": 5,
   "metadata": {},
   "outputs": [
    {
     "name": "stdout",
     "output_type": "stream",
     "text": [
      "MessageNode: (add_1:0, dtype=<class 'int'>, data=2)\n",
      "parents: ['node_x:1']\n",
      "\n",
      "\n",
      "MessageNode: (add:0, dtype=<class 'int'>, data=3)\n",
      "parents: ['node_x:2', 'node_y:1']\n",
      "\n",
      "\n",
      "MessageNode: (pass_through:0, dtype=<class 'tuple'>, data=(1, 2))\n",
      "\n",
      "\n",
      "(<autogen.trace.nodes.MessageNode object at 0x7f7d584d0460>, <autogen.trace.nodes.MessageNode object at 0x7f7d584d0370>)\n"
     ]
    }
   ],
   "source": [
    "from autogen.trace import trace_op\n",
    "\n",
    "\n",
    "@trace_op('[add_1] Add 1 to input x')\n",
    "def foo(x):\n",
    "    return x + 1\n",
    "x = node(1, name='node_x')\n",
    "z = foo(x)\n",
    "print_node(z)\n",
    "print('\\n')\n",
    "\n",
    "\n",
    "@trace_op('[add] Add input x and input y')\n",
    "def foo(x, y):\n",
    "    return x+y\n",
    "x = node(1, name='node_x')\n",
    "y = node(2, name='node_y')\n",
    "z = foo(x, y)\n",
    "print_node(z)\n",
    "print('\\n')\n",
    "\n",
    "\n",
    "# The output is a node of a tuple of two nodes\n",
    "@trace_op('[pass_through] No operation, just return inputs')\n",
    "def foo(x, y):\n",
    "    return x, y\n",
    "x = node(1, name='node_x')\n",
    "y = node(2, name='node_y')\n",
    "z = foo(x, y)\n",
    "print(z)\n",
    "from autogen.trace.nodes import Node\n",
    "assert isinstance(z, Node)\n",
    "assert isinstance(z.data, tuple)\n",
    "assert len(z.data) == 2\n",
    "print('\\n')\n",
    "\n",
    "\n",
    "# The output is a tuple of two nodes\n",
    "@trace_op('[pass_through] No operation, just return inputs', n_outputs=2)\n",
    "def foo(x, y):\n",
    "    return x, y\n",
    "x = node(1, name='node_x')\n",
    "y = node(2, name='node_y')\n",
    "z = foo(x, y)\n",
    "print(z)\n",
    "assert isinstance(z, tuple)\n",
    "assert len(z) == 2"
   ]
  },
  {
   "cell_type": "markdown",
   "metadata": {},
   "source": [
    "### Describing Relationship between Inputs and Outputs and Nodes in the Graph\n",
    "One can additionally provide `node_dict` to specify how each varaible mentioned in `description` is related to the nodes in the graph. This relationhsip is stored in the `inputs` attribute of `MessageNode`. See examples \n",
    "below."
   ]
  },
  {
   "cell_type": "code",
   "execution_count": 6,
   "metadata": {},
   "outputs": [
    {
     "name": "stdout",
     "output_type": "stream",
     "text": [
      "{'node_x:4': ('node_x:4', 1)}\n",
      "{'input': ('node_x:4', 1)}\n",
      "{'input': ('node_x:4', 1), 'custom_x': ('node_x:4', 1)}\n"
     ]
    }
   ],
   "source": [
    "\n",
    "# The default value of node_dict is None. In this case, the key of the inputs dict is the name of the input nodes.\n",
    "@trace_op('[add_1] Add 1 to input x')\n",
    "def foo(x):\n",
    "    return x + 1\n",
    "z = foo(x)\n",
    "print({k:(v.name, v.data) for k,v in z.inputs.items()})\n",
    "\n",
    "# When node_dict is set to 'auto', the key of the inputs dict is the name specified in the function signature.\n",
    "@trace_op('[add_1] Add 1 to input x', node_dict='auto')\n",
    "def foo(input):\n",
    "    return x + 1\n",
    "z = foo(x)\n",
    "print({k:(v.name, v.data) for k,v in z.inputs.items()})\n",
    "\n",
    "# When node_dict is set to a dict, the key of the inputs dict is the name specified in the dict.\n",
    "node_dict = {'custom_x':x}\n",
    "@trace_op('[add_1] Add 1 to input x', node_dict=node_dict)\n",
    "def foo(input):\n",
    "    return x + 1\n",
    "z = foo(x)\n",
    "print({k:(v.name, v.data) for k,v in z.inputs.items()})\n"
   ]
  },
  {
   "cell_type": "markdown",
   "metadata": {},
   "source": [
    "Using node_dict is useful when the function uses nodes that are not in the function signature.\n"
   ]
  },
  {
   "cell_type": "code",
   "execution_count": 7,
   "metadata": {},
   "outputs": [
    {
     "name": "stdout",
     "output_type": "stream",
     "text": [
      "{'node_x:5': ('node_x:5', 1), 'node_y:4': ('node_y:4', 2)}\n",
      "unsupported operand type(s) for +: 'int' and 'Node'\n",
      "{'x': ('node_x:5', 1), 'node_y': ('node_y:4', 2)}\n"
     ]
    }
   ],
   "source": [
    "# By default, the inputs dict only contains the nodes that are in the function signature. One can update the inputs dict by using node_dict.\n",
    "x = node(1, name='node_x')\n",
    "y = node(2, name='node_y')\n",
    "\n",
    "# Here inputs dict has keys that are the node's name.\n",
    "@trace_op('[add_1] Add input x to node_y.')\n",
    "def foo(x):\n",
    "    return x + y.data\n",
    "z = foo(x)\n",
    "print({k:(v.name, v.data) for k,v in z.inputs.items()})\n",
    "\n",
    "\n",
    "@trace_op('[add_1] Add input x to node_y.', node_dict='auto')\n",
    "def foo(x):\n",
    "    return x + y\n",
    "try:\n",
    "    z = foo(x)\n",
    "except Exception as e:\n",
    "    # Since the function signature does not contain y, the function will raise an error.\n",
    "    print(e)\n",
    "\n",
    "# We can use node_dict to add y to the inputs dict.\n",
    "node_dict = {'node_y':y}\n",
    "@trace_op('[add_1] Add input x to node_y.', node_dict=node_dict)\n",
    "def foo(x):\n",
    "    return x + y.data\n",
    "z = foo(x)\n",
    "print({k:(v.name, v.data) for k,v in z.inputs.items()})"
   ]
  },
  {
   "cell_type": "markdown",
   "metadata": {},
   "source": [
    "# Visualize Graph\n",
    "\n",
    "The graph of nodes can be visualized by calling `backward` method of a node. (Later we will cover how `backward` also sends feedback across the graph). "
   ]
  },
  {
   "cell_type": "code",
   "execution_count": 8,
   "metadata": {},
   "outputs": [
    {
     "data": {
      "image/svg+xml": [
       "<?xml version=\"1.0\" encoding=\"UTF-8\" standalone=\"no\"?>\n",
       "<!DOCTYPE svg PUBLIC \"-//W3C//DTD SVG 1.1//EN\"\n",
       " \"http://www.w3.org/Graphics/SVG/1.1/DTD/svg11.dtd\">\n",
       "<!-- Generated by graphviz version 2.40.1 (20161225.0304)\n",
       " -->\n",
       "<!-- Title: %3 Pages: 1 -->\n",
       "<svg width=\"1229pt\" height=\"305pt\"\n",
       " viewBox=\"0.00 0.00 1228.57 304.86\" xmlns=\"http://www.w3.org/2000/svg\" xmlns:xlink=\"http://www.w3.org/1999/xlink\">\n",
       "<g id=\"graph0\" class=\"graph\" transform=\"scale(1 1) rotate(0) translate(4 300.86)\">\n",
       "<title>%3</title>\n",
       "<polygon fill=\"#ffffff\" stroke=\"transparent\" points=\"-4,4 -4,-300.86 1224.5656,-300.86 1224.5656,4 -4,4\"/>\n",
       "<!-- add0 -->\n",
       "<g id=\"node1\" class=\"node\">\n",
       "<title>add0</title>\n",
       "<ellipse fill=\"none\" stroke=\"#000000\" cx=\"433.2828\" cy=\"-148.43\" rx=\"167.6687\" ry=\"37.4533\"/>\n",
       "<text text-anchor=\"middle\" x=\"433.2828\" y=\"-159.73\" font-family=\"Times,serif\" font-size=\"14.00\" fill=\"#000000\">add0</text>\n",
       "<text text-anchor=\"middle\" x=\"433.2828\" y=\"-144.73\" font-family=\"Times,serif\" font-size=\"14.00\" fill=\"#000000\">[add] This is an add operator of x and y.</text>\n",
       "<text text-anchor=\"middle\" x=\"433.2828\" y=\"-129.73\" font-family=\"Times,serif\" font-size=\"14.00\" fill=\"#000000\">3</text>\n",
       "</g>\n",
       "<!-- add2 -->\n",
       "<g id=\"node2\" class=\"node\">\n",
       "<title>add2</title>\n",
       "<ellipse fill=\"none\" stroke=\"#000000\" cx=\"609.2828\" cy=\"-37.4767\" rx=\"167.6687\" ry=\"37.4533\"/>\n",
       "<text text-anchor=\"middle\" x=\"609.2828\" y=\"-48.7767\" font-family=\"Times,serif\" font-size=\"14.00\" fill=\"#000000\">add2</text>\n",
       "<text text-anchor=\"middle\" x=\"609.2828\" y=\"-33.7767\" font-family=\"Times,serif\" font-size=\"14.00\" fill=\"#000000\">[add] This is an add operator of x and y.</text>\n",
       "<text text-anchor=\"middle\" x=\"609.2828\" y=\"-18.7767\" font-family=\"Times,serif\" font-size=\"14.00\" fill=\"#000000\">5</text>\n",
       "</g>\n",
       "<!-- add0&#45;&gt;add2 -->\n",
       "<g id=\"edge1\" class=\"edge\">\n",
       "<title>add0&#45;&gt;add2</title>\n",
       "<path fill=\"none\" stroke=\"#000000\" d=\"M489.4542,-113.0186C506.9179,-102.0092 526.3143,-89.7814 544.3254,-78.4269\"/>\n",
       "<polygon fill=\"#000000\" stroke=\"#000000\" points=\"546.4486,-81.2259 553.0414,-72.9322 542.7155,-75.3044 546.4486,-81.2259\"/>\n",
       "</g>\n",
       "<!-- add1 -->\n",
       "<g id=\"node3\" class=\"node\">\n",
       "<title>add1</title>\n",
       "<ellipse fill=\"none\" stroke=\"#000000\" cx=\"786.2828\" cy=\"-148.43\" rx=\"167.6687\" ry=\"37.4533\"/>\n",
       "<text text-anchor=\"middle\" x=\"786.2828\" y=\"-159.73\" font-family=\"Times,serif\" font-size=\"14.00\" fill=\"#000000\">add1</text>\n",
       "<text text-anchor=\"middle\" x=\"786.2828\" y=\"-144.73\" font-family=\"Times,serif\" font-size=\"14.00\" fill=\"#000000\">[add] This is an add operator of x and y.</text>\n",
       "<text text-anchor=\"middle\" x=\"786.2828\" y=\"-129.73\" font-family=\"Times,serif\" font-size=\"14.00\" fill=\"#000000\">2</text>\n",
       "</g>\n",
       "<!-- add1&#45;&gt;add2 -->\n",
       "<g id=\"edge2\" class=\"edge\">\n",
       "<title>add1&#45;&gt;add2</title>\n",
       "<path fill=\"none\" stroke=\"#000000\" d=\"M729.7922,-113.0186C712.2293,-102.0092 692.7227,-89.7814 674.6093,-78.4269\"/>\n",
       "<polygon fill=\"#000000\" stroke=\"#000000\" points=\"676.1757,-75.278 665.8438,-72.9322 672.4577,-81.209 676.1757,-75.278\"/>\n",
       "</g>\n",
       "<!-- node_x0 -->\n",
       "<g id=\"node4\" class=\"node\">\n",
       "<title>node_x0</title>\n",
       "<ellipse fill=\"none\" stroke=\"#000000\" cx=\"610.2828\" cy=\"-259.3833\" rx=\"197.0658\" ry=\"37.4533\"/>\n",
       "<text text-anchor=\"middle\" x=\"610.2828\" y=\"-270.6833\" font-family=\"Times,serif\" font-size=\"14.00\" fill=\"#000000\">node_x0</text>\n",
       "<text text-anchor=\"middle\" x=\"610.2828\" y=\"-255.6833\" font-family=\"Times,serif\" font-size=\"14.00\" fill=\"#000000\">[Node] This is a node in a computational graph.</text>\n",
       "<text text-anchor=\"middle\" x=\"610.2828\" y=\"-240.6833\" font-family=\"Times,serif\" font-size=\"14.00\" fill=\"#000000\">1</text>\n",
       "</g>\n",
       "<!-- node_x0&#45;&gt;add0 -->\n",
       "<g id=\"edge3\" class=\"edge\">\n",
       "<title>node_x0&#45;&gt;add0</title>\n",
       "<path fill=\"none\" stroke=\"#000000\" d=\"M552.816,-223.3599C535.4664,-212.4843 516.2949,-200.4665 498.4798,-189.299\"/>\n",
       "<polygon fill=\"#000000\" stroke=\"#000000\" points=\"500.189,-186.2397 489.8571,-183.8939 496.4711,-192.1707 500.189,-186.2397\"/>\n",
       "</g>\n",
       "<!-- node_x0&#45;&gt;add1 -->\n",
       "<g id=\"edge5\" class=\"edge\">\n",
       "<title>node_x0&#45;&gt;add1</title>\n",
       "<path fill=\"none\" stroke=\"#000000\" d=\"M667.4249,-223.3599C684.6765,-212.4843 703.7397,-200.4665 721.4541,-189.299\"/>\n",
       "<polygon fill=\"#000000\" stroke=\"#000000\" points=\"723.4353,-192.1876 730.0281,-183.8939 719.7023,-186.266 723.4353,-192.1876\"/>\n",
       "</g>\n",
       "<!-- node_y0 -->\n",
       "<g id=\"node5\" class=\"node\">\n",
       "<title>node_y0</title>\n",
       "<ellipse fill=\"none\" stroke=\"#000000\" cx=\"197.2828\" cy=\"-259.3833\" rx=\"197.0658\" ry=\"37.4533\"/>\n",
       "<text text-anchor=\"middle\" x=\"197.2828\" y=\"-270.6833\" font-family=\"Times,serif\" font-size=\"14.00\" fill=\"#000000\">node_y0</text>\n",
       "<text text-anchor=\"middle\" x=\"197.2828\" y=\"-255.6833\" font-family=\"Times,serif\" font-size=\"14.00\" fill=\"#000000\">[Node] This is a node in a computational graph.</text>\n",
       "<text text-anchor=\"middle\" x=\"197.2828\" y=\"-240.6833\" font-family=\"Times,serif\" font-size=\"14.00\" fill=\"#000000\">2</text>\n",
       "</g>\n",
       "<!-- node_y0&#45;&gt;add0 -->\n",
       "<g id=\"edge4\" class=\"edge\">\n",
       "<title>node_y0&#45;&gt;add0</title>\n",
       "<path fill=\"none\" stroke=\"#000000\" d=\"M271.3072,-224.5814C296.9424,-212.5292 325.8089,-198.9579 351.9961,-186.6462\"/>\n",
       "<polygon fill=\"#000000\" stroke=\"#000000\" points=\"353.5768,-189.7706 361.1374,-182.3485 350.5985,-183.4358 353.5768,-189.7706\"/>\n",
       "</g>\n",
       "<!-- int0 -->\n",
       "<g id=\"node6\" class=\"node\">\n",
       "<title>int0</title>\n",
       "<ellipse fill=\"none\" stroke=\"#000000\" cx=\"1023.2828\" cy=\"-259.3833\" rx=\"197.0658\" ry=\"37.4533\"/>\n",
       "<text text-anchor=\"middle\" x=\"1023.2828\" y=\"-270.6833\" font-family=\"Times,serif\" font-size=\"14.00\" fill=\"#000000\">int0</text>\n",
       "<text text-anchor=\"middle\" x=\"1023.2828\" y=\"-255.6833\" font-family=\"Times,serif\" font-size=\"14.00\" fill=\"#000000\">[Node] This is a node in a computational graph.</text>\n",
       "<text text-anchor=\"middle\" x=\"1023.2828\" y=\"-240.6833\" font-family=\"Times,serif\" font-size=\"14.00\" fill=\"#000000\">1</text>\n",
       "</g>\n",
       "<!-- int0&#45;&gt;add1 -->\n",
       "<g id=\"edge6\" class=\"edge\">\n",
       "<title>int0&#45;&gt;add1</title>\n",
       "<path fill=\"none\" stroke=\"#000000\" d=\"M948.9448,-224.5814C923.2009,-212.5292 894.2121,-198.9579 867.9139,-186.6462\"/>\n",
       "<polygon fill=\"#000000\" stroke=\"#000000\" points=\"869.2745,-183.4186 858.7339,-182.3485 866.3065,-189.7583 869.2745,-183.4186\"/>\n",
       "</g>\n",
       "</g>\n",
       "</svg>\n"
      ],
      "text/plain": [
       "<graphviz.graphs.Digraph at 0x7f7d7c3a1850>"
      ]
     },
     "execution_count": 8,
     "metadata": {},
     "output_type": "execute_result"
    }
   ],
   "source": [
    "from autogen.trace.nodes import GRAPH\n",
    "GRAPH.clear()  # to remove all the nodes\n",
    "x = node(1, name='node_x')\n",
    "y = node(2, name='node_y')\n",
    "a = x + y\n",
    "b = x + 1\n",
    "final = a + b\n",
    "\n",
    "final.backward(visualize=True)"
   ]
  },
  {
   "cell_type": "code",
   "execution_count": 9,
   "metadata": {},
   "outputs": [
    {
     "name": "stdout",
     "output_type": "stream",
     "text": [
      "Node: (bool:0, dtype=<class 'bool'>, data=True) Node: (int:0, dtype=<class 'int'>, data=1) Node: (int:1, dtype=<class 'int'>, data=0)\n"
     ]
    },
    {
     "data": {
      "image/svg+xml": [
       "<?xml version=\"1.0\" encoding=\"UTF-8\" standalone=\"no\"?>\n",
       "<!DOCTYPE svg PUBLIC \"-//W3C//DTD SVG 1.1//EN\"\n",
       " \"http://www.w3.org/Graphics/SVG/1.1/DTD/svg11.dtd\">\n",
       "<!-- Generated by graphviz version 2.40.1 (20161225.0304)\n",
       " -->\n",
       "<!-- Title: %3 Pages: 1 -->\n",
       "<svg width=\"403pt\" height=\"83pt\"\n",
       " viewBox=\"0.00 0.00 402.57 82.95\" xmlns=\"http://www.w3.org/2000/svg\" xmlns:xlink=\"http://www.w3.org/1999/xlink\">\n",
       "<g id=\"graph0\" class=\"graph\" transform=\"scale(1 1) rotate(0) translate(4 78.9533)\">\n",
       "<title>%3</title>\n",
       "<polygon fill=\"#ffffff\" stroke=\"transparent\" points=\"-4,4 -4,-78.9533 398.5656,-78.9533 398.5656,4 -4,4\"/>\n",
       "<!-- int0 -->\n",
       "<g id=\"node1\" class=\"node\">\n",
       "<title>int0</title>\n",
       "<ellipse fill=\"none\" stroke=\"#000000\" cx=\"197.2828\" cy=\"-37.4767\" rx=\"197.0658\" ry=\"37.4533\"/>\n",
       "<text text-anchor=\"middle\" x=\"197.2828\" y=\"-48.7767\" font-family=\"Times,serif\" font-size=\"14.00\" fill=\"#000000\">int0</text>\n",
       "<text text-anchor=\"middle\" x=\"197.2828\" y=\"-33.7767\" font-family=\"Times,serif\" font-size=\"14.00\" fill=\"#000000\">[Node] This is a node in a computational graph.</text>\n",
       "<text text-anchor=\"middle\" x=\"197.2828\" y=\"-18.7767\" font-family=\"Times,serif\" font-size=\"14.00\" fill=\"#000000\">1</text>\n",
       "</g>\n",
       "</g>\n",
       "</svg>\n"
      ],
      "text/plain": [
       "<graphviz.graphs.Digraph at 0x7f7d585315b0>"
      ]
     },
     "execution_count": 9,
     "metadata": {},
     "output_type": "execute_result"
    }
   ],
   "source": [
    "GRAPH.clear()\n",
    "\n",
    "x = node(True)\n",
    "one = node(1)\n",
    "zero = node(0)\n",
    "print(x, one, zero)\n",
    "# Logical operations are not traceable\n",
    "y = one if x.data else zero\n",
    "y.backward(visualize=True)"
   ]
  },
  {
   "cell_type": "code",
   "execution_count": 10,
   "metadata": {},
   "outputs": [
    {
     "ename": "UnboundLocalError",
     "evalue": "local variable 'one' referenced before assignment",
     "output_type": "error",
     "traceback": [
      "\u001b[0;31m---------------------------------------------------------------------------\u001b[0m",
      "\u001b[0;31mUnboundLocalError\u001b[0m                         Traceback (most recent call last)",
      "Cell \u001b[0;32mIn[10], line 6\u001b[0m\n\u001b[1;32m      4\u001b[0m     one, zero \u001b[38;5;241m=\u001b[39m one\u001b[38;5;241m.\u001b[39mdata, zero\u001b[38;5;241m.\u001b[39mdata\n\u001b[1;32m      5\u001b[0m     \u001b[38;5;28;01mreturn\u001b[39;00m one \u001b[38;5;28;01mif\u001b[39;00m x \u001b[38;5;28;01melse\u001b[39;00m zero\n\u001b[0;32m----> 6\u001b[0m y \u001b[38;5;241m=\u001b[39m \u001b[43mfun\u001b[49m\u001b[43m(\u001b[49m\u001b[43mx\u001b[49m\u001b[43m)\u001b[49m\n\u001b[1;32m      7\u001b[0m y\u001b[38;5;241m.\u001b[39mbackward(visualize\u001b[38;5;241m=\u001b[39m\u001b[38;5;28;01mTrue\u001b[39;00m)\n",
      "File \u001b[0;32m~/codes/autogen/autogen/trace/trace_ops.py:34\u001b[0m, in \u001b[0;36mtrace_op.<locals>.decorator.<locals>.wrapper\u001b[0;34m(*args, **kwargs)\u001b[0m\n\u001b[1;32m     33\u001b[0m \u001b[38;5;28;01mdef\u001b[39;00m \u001b[38;5;21mwrapper\u001b[39m(\u001b[38;5;241m*\u001b[39margs, \u001b[38;5;241m*\u001b[39m\u001b[38;5;241m*\u001b[39mkwargs):\n\u001b[0;32m---> 34\u001b[0m     \u001b[38;5;28;01mreturn\u001b[39;00m \u001b[43mfun\u001b[49m\u001b[43m(\u001b[49m\u001b[38;5;241;43m*\u001b[39;49m\u001b[43margs\u001b[49m\u001b[43m,\u001b[49m\u001b[43m \u001b[49m\u001b[38;5;241;43m*\u001b[39;49m\u001b[38;5;241;43m*\u001b[39;49m\u001b[43mkwargs\u001b[49m\u001b[43m)\u001b[49m\n",
      "File \u001b[0;32m~/codes/autogen/autogen/trace/modules.py:12\u001b[0m, in \u001b[0;36mModule.__call__\u001b[0;34m(self, *args, **kwargs)\u001b[0m\n\u001b[1;32m     11\u001b[0m \u001b[38;5;28;01mdef\u001b[39;00m \u001b[38;5;21m__call__\u001b[39m(\u001b[38;5;28mself\u001b[39m, \u001b[38;5;241m*\u001b[39margs, \u001b[38;5;241m*\u001b[39m\u001b[38;5;241m*\u001b[39mkwargs):\n\u001b[0;32m---> 12\u001b[0m     \u001b[38;5;28;01mreturn\u001b[39;00m \u001b[38;5;28;43mself\u001b[39;49m\u001b[38;5;241;43m.\u001b[39;49m\u001b[43mforward\u001b[49m\u001b[43m(\u001b[49m\u001b[38;5;241;43m*\u001b[39;49m\u001b[43margs\u001b[49m\u001b[43m,\u001b[49m\u001b[43m \u001b[49m\u001b[38;5;241;43m*\u001b[39;49m\u001b[38;5;241;43m*\u001b[39;49m\u001b[43mkwargs\u001b[49m\u001b[43m)\u001b[49m\n",
      "File \u001b[0;32m~/codes/autogen/autogen/trace/trace_ops.py:88\u001b[0m, in \u001b[0;36mFunModule.forward\u001b[0;34m(self, *args, **kwargs)\u001b[0m\n\u001b[1;32m     86\u001b[0m         _args \u001b[38;5;241m=\u001b[39m to_data(args)\n\u001b[1;32m     87\u001b[0m         _kwargs \u001b[38;5;241m=\u001b[39m to_data(kwargs)\n\u001b[0;32m---> 88\u001b[0m     outputs \u001b[38;5;241m=\u001b[39m \u001b[38;5;28;43mself\u001b[39;49m\u001b[38;5;241;43m.\u001b[39;49m\u001b[43mfun\u001b[49m\u001b[43m(\u001b[49m\u001b[38;5;241;43m*\u001b[39;49m\u001b[43m_args\u001b[49m\u001b[43m,\u001b[49m\u001b[43m \u001b[49m\u001b[38;5;241;43m*\u001b[39;49m\u001b[38;5;241;43m*\u001b[39;49m\u001b[43m_kwargs\u001b[49m\u001b[43m)\u001b[49m\n\u001b[1;32m     90\u001b[0m \u001b[38;5;66;03m# Construct the inputs of the MessageNode from the set used_nodes\u001b[39;00m\n\u001b[1;32m     91\u001b[0m \u001b[38;5;66;03m# TODO simplify this\u001b[39;00m\n\u001b[1;32m     92\u001b[0m \u001b[38;5;28;01mif\u001b[39;00m \u001b[38;5;28mself\u001b[39m\u001b[38;5;241m.\u001b[39mnode_dict \u001b[38;5;129;01mis\u001b[39;00m \u001b[38;5;28;01mNone\u001b[39;00m:\n",
      "Cell \u001b[0;32mIn[10], line 4\u001b[0m, in \u001b[0;36mfun\u001b[0;34m(x)\u001b[0m\n\u001b[1;32m      2\u001b[0m \u001b[38;5;129m@trace_op\u001b[39m(\u001b[38;5;124m'\u001b[39m\u001b[38;5;124m[fun] Return one if input x is True, otherwise return zero\u001b[39m\u001b[38;5;124m'\u001b[39m)\n\u001b[1;32m      3\u001b[0m \u001b[38;5;28;01mdef\u001b[39;00m \u001b[38;5;21mfun\u001b[39m(x):\n\u001b[0;32m----> 4\u001b[0m     one, zero \u001b[38;5;241m=\u001b[39m \u001b[43mone\u001b[49m\u001b[38;5;241m.\u001b[39mdata, zero\u001b[38;5;241m.\u001b[39mdata\n\u001b[1;32m      5\u001b[0m     \u001b[38;5;28;01mreturn\u001b[39;00m one \u001b[38;5;28;01mif\u001b[39;00m x \u001b[38;5;28;01melse\u001b[39;00m zero\n",
      "\u001b[0;31mUnboundLocalError\u001b[0m: local variable 'one' referenced before assignment"
     ]
    }
   ],
   "source": [
    "# This is traceable\n",
    "@trace_op('[fun] Return one if input x is True, otherwise return zero')\n",
    "def fun(x):\n",
    "    return one.data if x else zero.data\n",
    "y = fun(x)\n",
    "y.backward(visualize=True)"
   ]
  },
  {
   "cell_type": "markdown",
   "metadata": {},
   "source": [
    "# Broadcasting\n",
    "Using `apply_op`, we can broadcast node operators to a container of nodes. A container of nodes are either `list`, `tuple`, `dict`, or subclss of an abstract class `BaseModule`. `apply_op` recursively apply the op to all nodes in the container. "
   ]
  },
  {
   "cell_type": "code",
   "execution_count": null,
   "metadata": {},
   "outputs": [
    {
     "name": "stdout",
     "output_type": "stream",
     "text": [
      "x [1, 2, 1]\n",
      "y [3, 4, 2]\n",
      "Elements in z should be added, except for the last one. Value:  [4, 6, 1]\n",
      "1+3=4\n",
      "0==0==0\n",
      "x_plus_y.x should be added. Value:  xy\n",
      "x_plus_y.y should be added. Value:  [2, 4]\n",
      "x_plus_y.z should be not added, just 1. Value:  1\n"
     ]
    }
   ],
   "source": [
    "from autogen.trace import apply_op, node, NodeContainer\n",
    "from autogen.trace import operators as ops\n",
    "\n",
    "import copy\n",
    "\n",
    "# Using list as a node container\n",
    "x = [node(1), node(2), 1]\n",
    "y = [node(3), node(4), 2]\n",
    "z = copy.deepcopy(x)\n",
    "z = apply_op(ops.add, z, x, y)\n",
    "print('x', [x[0].data, x[1].data, x[2]])\n",
    "print('y', [y[0].data, y[1].data, y[2]])\n",
    "print('Elements in z should be added, except for the last one. Value: ', [z[0].data, z[1].data, z[2]])\n",
    "\n",
    "\n",
    "# Using list as a node container\n",
    "x = dict(a=node(1), b=0)\n",
    "y = dict(a=node(3), b=0)\n",
    "z = copy.deepcopy(x)\n",
    "z = apply_op(ops.add, z, x, y)\n",
    "print(f\"{x['a'].data}+{y['a'].data}={z['a'].data}\")\n",
    "print(f\"{x['b']}=={y['b']}=={z['b']}\")\n",
    "\n",
    "# Using a custom class as a node container\n",
    "class Foo(NodeContainer):\n",
    "    def __init__(self, x):\n",
    "        self.x = node(x)\n",
    "        self.y = [node(1), node(2)]\n",
    "        self.z = 1\n",
    "\n",
    "x = Foo('x')\n",
    "y = Foo('y')\n",
    "x_plus_y = Foo('template')\n",
    "x_plus_y = apply_op(ops.add, x_plus_y, x, y)\n",
    "print('x_plus_y.x should be added. Value: ', x_plus_y.x.data)\n",
    "print('x_plus_y.y should be added. Value: ',  [n.data for n in x_plus_y.y])\n",
    "print('x_plus_y.z should be not added, just 1. Value: ',  x_plus_y.z)"
   ]
  }
 ],
 "metadata": {
  "kernelspec": {
   "display_name": "autogen",
   "language": "python",
   "name": "python3"
  },
  "language_info": {
   "codemirror_mode": {
    "name": "ipython",
    "version": 3
   },
   "file_extension": ".py",
   "mimetype": "text/x-python",
   "name": "python",
   "nbconvert_exporter": "python",
   "pygments_lexer": "ipython3",
   "version": "3.8.18"
  }
 },
 "nbformat": 4,
 "nbformat_minor": 2
}
