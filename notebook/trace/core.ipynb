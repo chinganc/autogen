{
 "cells": [
  {
   "cell_type": "markdown",
   "metadata": {},
   "source": [
    "# Basics: Node and MessageNode\n",
    "\n",
    "`trace` is a comptuational grpah framework for tracing and optimizing codes. Its core data structure is the \"node\" container of python objects. To create a node, use `node` method, which creates a `Node` object. To access, the content of a node, use the `data` attribute."
   ]
  },
  {
   "cell_type": "code",
   "execution_count": 17,
   "metadata": {},
   "outputs": [
    {
     "name": "stdout",
     "output_type": "stream",
     "text": [
      "node of int 1\n",
      "string\n",
      "[1, 2, 3]\n",
      "{'a': 1, 'b': 2}\n",
      "<__main__.Foo object at 0x7fd4984da730>\n"
     ]
    }
   ],
   "source": [
    "from autogen.trace import node\n",
    "\n",
    "x = node(1)  # node of int\n",
    "print('node of int', x.data)\n",
    "x = node('string')  # node of str\n",
    "print(x.data)\n",
    "x = node([1,2,3])   # node of list\n",
    "print(x.data)\n",
    "x = node({'a': 1, 'b': 2})  # node of dict\n",
    "print(x.data)\n",
    "\n",
    "class Foo:\n",
    "    def __init__(self, x):\n",
    "        self.x = x\n",
    "        self.secret = 'secret'\n",
    "    def print(self, val):\n",
    "        print(val)\n",
    "\n",
    "x = node(Foo('foo'))  # node of a class instance\n",
    "print(x.data)"
   ]
  },
  {
   "cell_type": "markdown",
   "metadata": {},
   "source": [
    "`trace` overloads python's magic methods that gives return value explicitly (such as `__add__`), except logical operations such as `__bool__` and setters. (The comparison magic methods compares the level of the nodes in the global graph, rather than comparing the data.) When nodes are used with these magic methods, the output would be a `MessageNode`, which a subclass of `Node` that has the inputs of the method as the parents. The attribute `description` of a `MessageNode` documents the method's function."
   ]
  },
  {
   "cell_type": "code",
   "execution_count": 18,
   "metadata": {},
   "outputs": [
    {
     "name": "stdout",
     "output_type": "stream",
     "text": [
      "MessageNode: (divide:2, dtype=<class 'float'>, data=0.3333333333333333)\n",
      "MessageNode: (divide:2, dtype=<class 'float'>, data=0.3333333333333333)\n",
      "parents: ['node_x:26', 'node_y:20']\n",
      "\n",
      "\n",
      "MessageNode: (getitem:2, dtype=<class 'int'>, data=1)\n",
      "parents: ['dict_node:2', 'str:5']\n",
      "len(dict_node) = MessageNode: (len:2, dtype=<class 'int'>, data=2)\n",
      "\n",
      "\n",
      "hello world\n",
      "MessageNode: (getattr:2, dtype=<class 'str'>, data=secret)\n",
      "parents: ['Foo:5']\n"
     ]
    }
   ],
   "source": [
    "def print_node(node):\n",
    "    print(node)\n",
    "    print(f\"parents: {[p.name for p in node.parents]}\")\n",
    "\n",
    "# Basic arithmetic operations\n",
    "x = node(1, name='node_x')\n",
    "y = node(3, name='node_y')\n",
    "z = x/y\n",
    "print(z)\n",
    "print_node(z)\n",
    "print('\\n')\n",
    "\n",
    "# Index a node\n",
    "dict_node = node({'a': 1, 'b': 2}, name='dict_node')\n",
    "a = dict_node['a']\n",
    "print_node(a)\n",
    "print('len(dict_node) =', dict_node.len())\n",
    "\n",
    "print('\\n')\n",
    "\n",
    "# Getting class attribute and calling class method\n",
    "x = node(Foo('foo'))\n",
    "x.call('print', 'hello world')\n",
    "print_node(x.getattr('secret'))\n"
   ]
  },
  {
   "cell_type": "markdown",
   "metadata": {},
   "source": [
    "Nodes can not be used in logical operations like and, or, not. This design choice to make it explicit that logical operations in python code is traced."
   ]
  },
  {
   "cell_type": "code",
   "execution_count": 19,
   "metadata": {},
   "outputs": [
    {
     "name": "stdout",
     "output_type": "stream",
     "text": [
      "Cannot convert Node: (bool:2, dtype=<class 'bool'>, data=True) to bool.\n",
      "Use if x.data instead of if x\n",
      "Cannot use 'in' operator on Node: (list:5, dtype=<class 'list'>, data=[1, 2, 3]).\n",
      "Use 1 in x.data instead of 1 in x\n"
     ]
    }
   ],
   "source": [
    "x = node(True)\n",
    "try:\n",
    "    if x:\n",
    "        print('True')\n",
    "except Exception as e:\n",
    "    print(e)\n",
    "    print('Use if x.data instead of if x')\n",
    "\n",
    "\n",
    "x = node([1,2,3])\n",
    "try:\n",
    "    1 in x\n",
    "except Exception as e:\n",
    "    print(e)\n",
    "    print('Use 1 in x.data instead of 1 in x')\n"
   ]
  },
  {
   "cell_type": "markdown",
   "metadata": {},
   "source": [
    "## Writing Custom Node Operators\n",
    "In addition to magical methods, we can use `trace_op` to write custome methods that are traceable. When decorating a method with `trace_op`, it needs a description of the method. It has a format of `[method_name] description`. `trace_op` would automatically add all nodes whose `data` attribute is used as the parents of the output `MessageNode`."
   ]
  },
  {
   "cell_type": "code",
   "execution_count": 20,
   "metadata": {},
   "outputs": [
    {
     "name": "stdout",
     "output_type": "stream",
     "text": [
      "MessageNode: (add_1:16, dtype=<class 'int'>, data=2)\n",
      "parents: ['node_x:27']\n",
      "\n",
      "\n",
      "MessageNode: (add:6, dtype=<class 'int'>, data=3)\n",
      "parents: ['node_x:28', 'node_y:21']\n",
      "\n",
      "\n",
      "MessageNode: (pass_through:0, dtype=<class 'tuple'>, data=(<autogen.trace.nodes.Node object at 0x7fd4984ff7f0>, <autogen.trace.nodes.Node object at 0x7fd474578b80>))\n",
      "\n",
      "\n",
      "(<autogen.trace.nodes.Node object at 0x7fd4984fffa0>, <autogen.trace.nodes.Node object at 0x7fd3b0b302e0>)\n"
     ]
    }
   ],
   "source": [
    "from autogen.trace import trace_op\n",
    "\n",
    "\n",
    "@trace_op('[add_1] Add 1 to input x')\n",
    "def foo(x):\n",
    "    return x.data + 1\n",
    "x = node(1, name='node_x')\n",
    "z = foo(x)\n",
    "print_node(z)\n",
    "print('\\n')\n",
    "\n",
    "\n",
    "@trace_op('[add] Add input x and input y')\n",
    "def foo(x, y):\n",
    "    return x+y\n",
    "x = node(1, name='node_x')\n",
    "y = node(2, name='node_y')\n",
    "z = foo(x, y)\n",
    "print_node(z)\n",
    "print('\\n')\n",
    "\n",
    "\n",
    "# The output is a node of a tuple of two nodes\n",
    "@trace_op('[pass_through] No operation, just return inputs')\n",
    "def foo(x, y):\n",
    "    return x, y\n",
    "x = node(1, name='node_x')\n",
    "y = node(2, name='node_y')\n",
    "z = foo(x, y)\n",
    "print(z)\n",
    "from autogen.trace.nodes import Node\n",
    "assert isinstance(z, Node)\n",
    "assert isinstance(z.data, tuple)\n",
    "assert len(z.data) == 2\n",
    "print('\\n')\n",
    "\n",
    "\n",
    "# The output is a tuple of two nodes\n",
    "@trace_op('[pass_through] No operation, just return inputs', n_outputs=2)\n",
    "def foo(x, y):\n",
    "    return x, y\n",
    "x = node(1, name='node_x')\n",
    "y = node(2, name='node_y')\n",
    "z = foo(x, y)\n",
    "print(z)\n",
    "assert isinstance(z, tuple)\n",
    "assert len(z) == 2"
   ]
  },
  {
   "cell_type": "markdown",
   "metadata": {},
   "source": [
    "### Describing Relationship between Inputs and Outputs and Nodes in the Graph\n",
    "One can additionally provide `node_dict` to specify how each varaible mentioned in `description` is related to the nodes in the graph. This relationhsip is stored in the `inputs` attribute of `MessageNode`. See examples \n",
    "below."
   ]
  },
  {
   "cell_type": "code",
   "execution_count": 21,
   "metadata": {},
   "outputs": [
    {
     "name": "stdout",
     "output_type": "stream",
     "text": [
      "{'node_x:30': ('node_x:30', 1)}\n",
      "{'input': ('node_x:30', 1)}\n",
      "{'input': ('node_x:30', 1), 'custom_x': ('node_x:30', 1)}\n"
     ]
    }
   ],
   "source": [
    "\n",
    "# The default value of node_dict is None. In this case, the key of the inputs dict is the name of the input nodes.\n",
    "@trace_op('[add_1] Add 1 to input x')\n",
    "def foo(x):\n",
    "    return x.data + 1\n",
    "z = foo(x)\n",
    "print({k:(v.name, v.data) for k,v in z.inputs.items()})\n",
    "\n",
    "# When node_dict is set to 'auto', the key of the inputs dict is the name specified in the function signature.\n",
    "@trace_op('[add_1] Add 1 to input x', node_dict='auto')\n",
    "def foo(input):\n",
    "    return x.data + 1\n",
    "z = foo(x)\n",
    "print({k:(v.name, v.data) for k,v in z.inputs.items()})\n",
    "\n",
    "# When node_dict is set to a dict, the key of the inputs dict is the name specified in the dict.\n",
    "node_dict = {'custom_x':x}\n",
    "@trace_op('[add_1] Add 1 to input x', node_dict=node_dict)\n",
    "def foo(input):\n",
    "    return x.data + 1\n",
    "z = foo(x)\n",
    "print({k:(v.name, v.data) for k,v in z.inputs.items()})\n"
   ]
  },
  {
   "cell_type": "markdown",
   "metadata": {},
   "source": [
    "Using node_dict is useful when the function uses nodes that are not in the function signature.\n"
   ]
  },
  {
   "cell_type": "code",
   "execution_count": 22,
   "metadata": {},
   "outputs": [
    {
     "name": "stdout",
     "output_type": "stream",
     "text": [
      "{'node_x:31': ('node_x:31', 1), 'node_y:24': ('node_y:24', 2)}\n",
      "All used_nodes must be in the spec.\n",
      "{'x': ('node_x:31', 1), 'node_y': ('node_y:24', 2)}\n"
     ]
    }
   ],
   "source": [
    "# By default, the inputs dict only contains the nodes that are in the function signature. One can update the inputs dict by using node_dict.\n",
    "x = node(1, name='node_x')\n",
    "y = node(2, name='node_y')\n",
    "\n",
    "# Here inputs dict has keys that are the node's name.\n",
    "@trace_op('[add_1] Add input x to node_y.')\n",
    "def foo(x):\n",
    "    return x.data + y.data\n",
    "z = foo(x)\n",
    "print({k:(v.name, v.data) for k,v in z.inputs.items()})\n",
    "\n",
    "\n",
    "@trace_op('[add_1] Add input x to node_y.', node_dict='auto')\n",
    "def foo(x):\n",
    "    return x.data + y.data\n",
    "try:\n",
    "    z = foo(x)\n",
    "except Exception as e:\n",
    "    # Since the function signature does not contain y, the function will raise an error.\n",
    "    print(e)\n",
    "\n",
    "# We can use node_dict to add y to the inputs dict.\n",
    "node_dict = {'node_y':y}\n",
    "@trace_op('[add_1] Add input x to node_y.', node_dict=node_dict)\n",
    "def foo(x):\n",
    "    return x.data + y.data\n",
    "z = foo(x)\n",
    "print({k:(v.name, v.data) for k,v in z.inputs.items()})"
   ]
  }
 ],
 "metadata": {
  "kernelspec": {
   "display_name": "autogen",
   "language": "python",
   "name": "python3"
  },
  "language_info": {
   "codemirror_mode": {
    "name": "ipython",
    "version": 3
   },
   "file_extension": ".py",
   "mimetype": "text/x-python",
   "name": "python",
   "nbconvert_exporter": "python",
   "pygments_lexer": "ipython3",
   "version": "3.8.18"
  }
 },
 "nbformat": 4,
 "nbformat_minor": 2
}
