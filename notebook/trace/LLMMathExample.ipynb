{
 "cells": [
  {
   "cell_type": "markdown",
   "id": "79d7e52e-04c1-4997-bce8-89f7682bb17f",
   "metadata": {},
   "source": [
    "## LLM System Message Optimize\n",
    "\n",
    "We create a function that calls an LLM API -- the system message is wrapped as a parameter node.\n",
    "\n",
    "Then we use `trace` to analyze this."
   ]
  },
  {
   "cell_type": "code",
   "execution_count": 1,
   "id": "51d247bc-6205-4269-8fa9-0d11b2010dfa",
   "metadata": {},
   "outputs": [],
   "source": [
    "import autogen\n",
    "from autogen.trace import bundle, node\n",
    "from autogen.trace.optimizers import FunctionOptimizer\n",
    "from autogen.trace.nodes import GRAPH"
   ]
  },
  {
   "cell_type": "code",
   "execution_count": 4,
   "id": "aaec7751-fbba-4bb9-b3d6-be95c3dfe384",
   "metadata": {},
   "outputs": [],
   "source": [
    "from datasets import load_dataset\n",
    "from autogen.math_utils import is_equiv"
   ]
  },
  {
   "cell_type": "code",
   "execution_count": 3,
   "id": "7133d9f9-e410-4972-a44e-8f358cd69953",
   "metadata": {},
   "outputs": [
    {
     "name": "stderr",
     "output_type": "stream",
     "text": [
      "/piech/u/anie/miniconda3/envs/verbal-gym/lib/python3.8/site-packages/datasets/load.py:1461: FutureWarning: The repository for hendrycks/competition_math contains custom code which must be executed to correctly load the dataset. You can inspect the repository content at https://hf.co/datasets/hendrycks/competition_math\n",
      "You can avoid this message in future by passing the argument `trust_remote_code=True`.\n",
      "Passing `trust_remote_code=True` will be mandatory to load this dataset from the next major release of `datasets`.\n",
      "  warnings.warn(\n"
     ]
    }
   ],
   "source": [
    "dataset = load_dataset(\"hendrycks/competition_math\")"
   ]
  },
  {
   "cell_type": "code",
   "execution_count": 17,
   "id": "6cf6b39f-d438-4567-a8a0-8e1dfbacdeb9",
   "metadata": {},
   "outputs": [],
   "source": [
    "def remove_boxed(string: str):\n",
    "    \"\"\"Source: https://github.com/hendrycks/math\n",
    "    Extract the text within a \\\\boxed{...} environment.\n",
    "    Example:\n",
    "\n",
    "    > remove_boxed(\"\\\\boxed{\\\\frac{2}{3}}\")\n",
    "\n",
    "    \\\\frac{2}{3}\n",
    "    \"\"\"\n",
    "    left = \"\\\\boxed{\"\n",
    "    if left not in string:\n",
    "        left = \"\\boxed{\"\n",
    "    try:\n",
    "        if not all((string[: len(left)] == left, string[-1] == \"}\")):\n",
    "            raise AssertionError\n",
    "\n",
    "        return string[len(left) : -1]\n",
    "    except Exception:\n",
    "        return None\n",
    "\n",
    "\n",
    "def last_boxed_only_string(string: str):\n",
    "    \"\"\"Source: https://github.com/hendrycks/math\n",
    "    Extract the last \\\\boxed{...} or \\\\fbox{...} element from a string.\n",
    "    \"\"\"\n",
    "    idx = string.rfind(\"\\\\boxed\")\n",
    "    if idx < 0:\n",
    "        idx = string.rfind(\"\\\\fbox\")\n",
    "        if idx < 0:\n",
    "            idx = string.rfind(\"\\boxed\")\n",
    "            if idx < 0:\n",
    "                return None\n",
    "\n",
    "    i = idx\n",
    "    right_brace_idx = None\n",
    "    num_left_braces_open = 0\n",
    "    while i < len(string):\n",
    "        if string[i] == \"{\":\n",
    "            num_left_braces_open += 1\n",
    "        if string[i] == \"}\":\n",
    "            num_left_braces_open -= 1\n",
    "            if num_left_braces_open == 0:\n",
    "                right_brace_idx = i\n",
    "                break\n",
    "        i += 1\n",
    "\n",
    "    if right_brace_idx is None:\n",
    "        retval = None\n",
    "    else:\n",
    "        retval = string[idx : right_brace_idx + 1]\n",
    "\n",
    "    return retval\n",
    "\n",
    "\n",
    "def get_answer(solution):\n",
    "    if solution is None:\n",
    "        return None\n",
    "    last_boxed = last_boxed_only_string(solution)\n",
    "    if last_boxed is None:\n",
    "        return None\n",
    "    answer = remove_boxed(last_boxed)\n",
    "    if answer is None:\n",
    "        return None\n",
    "    return answer\n",
    "\n",
    "\n",
    "def check_equiv(sol1, sol2):\n",
    "    return is_equiv(get_answer(sol1), get_answer(sol2))"
   ]
  },
  {
   "cell_type": "code",
   "execution_count": 27,
   "id": "f1c78e56-8e1e-4c58-88bb-b3bcc8bc6374",
   "metadata": {},
   "outputs": [],
   "source": [
    "llm = autogen.OpenAIWrapper(config_list=autogen.config_list_from_json(\"OAI_CONFIG_LIST\"))\n",
    "\n",
    "\n",
    "def call_llm(prompt, verbose=False):\n",
    "    \"\"\"Call the LLM with a prompt and return the response.\"\"\"\n",
    "    if verbose:\n",
    "        print(\"Prompt\\n\", prompt)\n",
    "\n",
    "    try:\n",
    "        response = llm.create(\n",
    "            messages=[\n",
    "                {\n",
    "                    \"role\": \"user\",\n",
    "                    \"content\": prompt,\n",
    "                }\n",
    "            ],\n",
    "            response_format={\"type\": \"json_object\"},\n",
    "        )\n",
    "    except Exception:\n",
    "        response = llm.create(\n",
    "            messages=[\n",
    "                {\n",
    "                    \"role\": \"user\",\n",
    "                    \"content\": prompt,\n",
    "                }\n",
    "            ],\n",
    "        )\n",
    "    response = response.choices[0].message.content\n",
    "\n",
    "    if verbose:\n",
    "        print(\"LLM response:\\n\", response)\n",
    "    return response\n",
    "\n",
    "\n",
    "def wrap_q_in_text(q, instruction):\n",
    "    text = f\"Q:{instruction}\\n{q}\\n\\nA:\"\n",
    "    return text\n",
    "\n",
    "\n",
    "@bundle()\n",
    "def generate_answer(system_message, q):\n",
    "    q_rep = wrap_q_in_text(q, system_message)\n",
    "    answer = call_llm(q_rep, verbose=True)\n",
    "    return answer\n",
    "\n",
    "\n",
    "def get_feedback(a_hat, a):\n",
    "    score = check_equiv(a_hat, a)\n",
    "    if score == 0:\n",
    "        feedback = \"The solution is not correct.\"\n",
    "    else:\n",
    "        feedback = \"Success.\"\n",
    "    return feedback"
   ]
  },
  {
   "cell_type": "code",
   "execution_count": 28,
   "id": "72b6c982-2f4c-43c2-aeb1-4c8801809b03",
   "metadata": {},
   "outputs": [
    {
     "name": "stdout",
     "output_type": "stream",
     "text": [
      "Prompt\n",
      " Q:Let’s work this out in a step by step way to be sure we have the right answer.\n",
      "Let \\[f(x) = \\left\\{\n",
      "\\begin{array}{cl} ax+3, &\\text{ if }x>2, \\\\\n",
      "x-5 &\\text{ if } -2 \\le x \\le 2, \\\\\n",
      "2x-b &\\text{ if } x <-2.\n",
      "\\end{array}\n",
      "\\right.\\]Find $a+b$ if the piecewise function is continuous (which means that its graph can be drawn without lifting your pencil from the paper).\n",
      "\n",
      "A:\n",
      "LLM response:\n",
      " For a piecewise function to be continuous, the \"pieces\" must match up at the places where they change; that is, the y-values must be the same at the x-values where the pieces switch over.\n",
      "\n",
      "Here we can see that the pieces switch at x = 2 and x = -2. We therefore need to ensure that the y-values of the different pieces match up at these x-values. \n",
      "\n",
      "At x = 2, we have:\n",
      "\n",
      "    f(2) = 2 - 5       (from the second piece)\n",
      "    f(2) = 2a + 3   (from the first piece)\n",
      "\n",
      "Setting these equal to each other, we get:\n",
      "\n",
      "    2 - 5 = 2a + 3\n",
      "    -3 = 2a + 3\n",
      "    -6 = 2a\n",
      "    a = -3\n",
      "\n",
      "At x = -2, we have:\n",
      "\n",
      "    f(-2) = -2 - 5       (from the second piece)\n",
      "    f(-2) = 2*(-2) - b = -4 - b (from the third piece)\n",
      "\n",
      "Setting these equal to each other, we get:\n",
      "\n",
      "    -2 - 5 = -4 - b\n",
      "    -7 = -4 - b\n",
      "    b = -3\n",
      "\n",
      "Therefore a + b = -3 - 3 = -6.\n"
     ]
    }
   ],
   "source": [
    "system_message = \"Let’s work this out in a step by step way to be sure we have the right answer.\"\n",
    "system_message = node(system_message, \"system_prompt\", trainable=True)\n",
    "\n",
    "answer = generate_answer(system_message, dataset[\"train\"][0][\"problem\"])"
   ]
  },
  {
   "cell_type": "code",
   "execution_count": 29,
   "id": "57f6c1bb-cb77-4bd1-8462-63e49a437db8",
   "metadata": {},
   "outputs": [
    {
     "data": {
      "image/svg+xml": [
       "<?xml version=\"1.0\" encoding=\"UTF-8\" standalone=\"no\"?>\n",
       "<!DOCTYPE svg PUBLIC \"-//W3C//DTD SVG 1.1//EN\"\n",
       " \"http://www.w3.org/Graphics/SVG/1.1/DTD/svg11.dtd\">\n",
       "<!-- Generated by graphviz version 2.43.0 (0)\n",
       " -->\n",
       "<!-- Title: %3 Pages: 1 -->\n",
       "<svg width=\"818pt\" height=\"83pt\"\n",
       " viewBox=\"0.00 0.00 818.34 82.95\" xmlns=\"http://www.w3.org/2000/svg\" xmlns:xlink=\"http://www.w3.org/1999/xlink\">\n",
       "<g id=\"graph0\" class=\"graph\" transform=\"scale(1 1) rotate(0) translate(4 78.95)\">\n",
       "<title>%3</title>\n",
       "<polygon fill=\"white\" stroke=\"transparent\" points=\"-4,4 -4,-78.95 814.34,-78.95 814.34,4 -4,4\"/>\n",
       "<!-- system_prompt6 -->\n",
       "<g id=\"node1\" class=\"node\">\n",
       "<title>system_prompt6</title>\n",
       "<ellipse fill=\"none\" stroke=\"black\" cx=\"405.17\" cy=\"-37.48\" rx=\"405.34\" ry=\"37.45\"/>\n",
       "<text text-anchor=\"middle\" x=\"405.17\" y=\"-48.78\" font-family=\"Times,serif\" font-size=\"14.00\">system_prompt6</text>\n",
       "<text text-anchor=\"middle\" x=\"405.17\" y=\"-33.78\" font-family=\"Times,serif\" font-size=\"14.00\">[ParameterNode]This is a ParameterNode in a computational graph.</text>\n",
       "<text text-anchor=\"middle\" x=\"405.17\" y=\"-18.78\" font-family=\"Times,serif\" font-size=\"14.00\">Let’s work this out in a step by step way to be sure we have the right answer.</text>\n",
       "</g>\n",
       "</g>\n",
       "</svg>\n"
      ],
      "text/plain": [
       "<graphviz.graphs.Digraph at 0x7f129cdcdee0>"
      ]
     },
     "execution_count": 29,
     "metadata": {},
     "output_type": "execute_result"
    }
   ],
   "source": [
    "system_message.backward(visualize=True)"
   ]
  },
  {
   "cell_type": "code",
   "execution_count": null,
   "id": "b91e4c15-b9e3-4d0d-803b-07c2998b85f7",
   "metadata": {},
   "outputs": [],
   "source": []
  }
 ],
 "metadata": {
  "kernelspec": {
   "display_name": "verbal-gym",
   "language": "python",
   "name": "verbal-gym"
  },
  "language_info": {
   "codemirror_mode": {
    "name": "ipython",
    "version": 3
   },
   "file_extension": ".py",
   "mimetype": "text/x-python",
   "name": "python",
   "nbconvert_exporter": "python",
   "pygments_lexer": "ipython3",
   "version": "3.8.18"
  }
 },
 "nbformat": 4,
 "nbformat_minor": 5
}
